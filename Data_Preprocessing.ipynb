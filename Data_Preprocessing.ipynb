{
 "cells": [
  {
   "cell_type": "code",
   "execution_count": 12,
   "metadata": {
    "collapsed": true,
    "pycharm": {
     "name": "#%%\n"
    }
   },
   "outputs": [],
   "source": [
    "import pandas as pd\n",
    "import numpy as np"
   ]
  },
  {
   "cell_type": "code",
   "execution_count": 8,
   "outputs": [
    {
     "data": {
      "text/plain": "               date             time  sensor  temperature  humidity    light  \\\n0        2004-02-28   00:59:16.02785     1.0      19.9884   37.0933    45.08   \n1        2004-02-28   01:03:16.33393     1.0      19.3024   38.4629    45.08   \n2        2004-02-28  01:06:16.013453     1.0      19.1652   38.8039    45.08   \n3        2004-02-28  01:06:46.778088     1.0      19.1750   38.8379    45.08   \n4        2004-02-28  01:08:45.992524     1.0      19.1456   38.9401    45.08   \n...             ...              ...     ...          ...       ...      ...   \n2313147  2004-04-02  09:06:21.488182    58.0      24.1730   21.6575  1729.60   \n2313148  2004-04-02  09:07:22.173243    58.0      24.1436   21.7310  1729.60   \n2313149  2004-04-02   09:07:52.31387    58.0      24.1436   21.6575  1670.72   \n2313150  2004-04-02  09:08:52.189274    58.0      24.1240   21.5839  1670.72   \n2313151  2004-04-02  09:09:22.206544    58.0      24.1044   21.4367  1729.60   \n\n         voltage  \n0        2.69964  \n1        2.68742  \n2        2.68742  \n3        2.69964  \n4        2.68742  \n...          ...  \n2313147  2.78836  \n2313148  2.78836  \n2313149  2.78836  \n2313150  2.78836  \n2313151  2.78836  \n\n[2219802 rows x 7 columns]",
      "text/html": "<div>\n<style scoped>\n    .dataframe tbody tr th:only-of-type {\n        vertical-align: middle;\n    }\n\n    .dataframe tbody tr th {\n        vertical-align: top;\n    }\n\n    .dataframe thead th {\n        text-align: right;\n    }\n</style>\n<table border=\"1\" class=\"dataframe\">\n  <thead>\n    <tr style=\"text-align: right;\">\n      <th></th>\n      <th>date</th>\n      <th>time</th>\n      <th>sensor</th>\n      <th>temperature</th>\n      <th>humidity</th>\n      <th>light</th>\n      <th>voltage</th>\n    </tr>\n  </thead>\n  <tbody>\n    <tr>\n      <th>0</th>\n      <td>2004-02-28</td>\n      <td>00:59:16.02785</td>\n      <td>1.0</td>\n      <td>19.9884</td>\n      <td>37.0933</td>\n      <td>45.08</td>\n      <td>2.69964</td>\n    </tr>\n    <tr>\n      <th>1</th>\n      <td>2004-02-28</td>\n      <td>01:03:16.33393</td>\n      <td>1.0</td>\n      <td>19.3024</td>\n      <td>38.4629</td>\n      <td>45.08</td>\n      <td>2.68742</td>\n    </tr>\n    <tr>\n      <th>2</th>\n      <td>2004-02-28</td>\n      <td>01:06:16.013453</td>\n      <td>1.0</td>\n      <td>19.1652</td>\n      <td>38.8039</td>\n      <td>45.08</td>\n      <td>2.68742</td>\n    </tr>\n    <tr>\n      <th>3</th>\n      <td>2004-02-28</td>\n      <td>01:06:46.778088</td>\n      <td>1.0</td>\n      <td>19.1750</td>\n      <td>38.8379</td>\n      <td>45.08</td>\n      <td>2.69964</td>\n    </tr>\n    <tr>\n      <th>4</th>\n      <td>2004-02-28</td>\n      <td>01:08:45.992524</td>\n      <td>1.0</td>\n      <td>19.1456</td>\n      <td>38.9401</td>\n      <td>45.08</td>\n      <td>2.68742</td>\n    </tr>\n    <tr>\n      <th>...</th>\n      <td>...</td>\n      <td>...</td>\n      <td>...</td>\n      <td>...</td>\n      <td>...</td>\n      <td>...</td>\n      <td>...</td>\n    </tr>\n    <tr>\n      <th>2313147</th>\n      <td>2004-04-02</td>\n      <td>09:06:21.488182</td>\n      <td>58.0</td>\n      <td>24.1730</td>\n      <td>21.6575</td>\n      <td>1729.60</td>\n      <td>2.78836</td>\n    </tr>\n    <tr>\n      <th>2313148</th>\n      <td>2004-04-02</td>\n      <td>09:07:22.173243</td>\n      <td>58.0</td>\n      <td>24.1436</td>\n      <td>21.7310</td>\n      <td>1729.60</td>\n      <td>2.78836</td>\n    </tr>\n    <tr>\n      <th>2313149</th>\n      <td>2004-04-02</td>\n      <td>09:07:52.31387</td>\n      <td>58.0</td>\n      <td>24.1436</td>\n      <td>21.6575</td>\n      <td>1670.72</td>\n      <td>2.78836</td>\n    </tr>\n    <tr>\n      <th>2313150</th>\n      <td>2004-04-02</td>\n      <td>09:08:52.189274</td>\n      <td>58.0</td>\n      <td>24.1240</td>\n      <td>21.5839</td>\n      <td>1670.72</td>\n      <td>2.78836</td>\n    </tr>\n    <tr>\n      <th>2313151</th>\n      <td>2004-04-02</td>\n      <td>09:09:22.206544</td>\n      <td>58.0</td>\n      <td>24.1044</td>\n      <td>21.4367</td>\n      <td>1729.60</td>\n      <td>2.78836</td>\n    </tr>\n  </tbody>\n</table>\n<p>2219802 rows × 7 columns</p>\n</div>"
     },
     "execution_count": 8,
     "metadata": {},
     "output_type": "execute_result"
    }
   ],
   "source": [
    "# Read dataset\n",
    "dataset = pd.read_table('./data.txt', sep=' ', header=None, skiprows=1)\n",
    "dataset.columns = ['date', 'time', 'epoch', 'sensor', 'temperature', 'humidity', 'light', 'voltage']\n",
    "dataset = dataset.dropna(axis=0)\n",
    "dataset = dataset.drop('epoch', axis=1)\n",
    "dataset\n",
    "# 33 days, from Feb 28, 2004 ~ April 2, 2004."
   ],
   "metadata": {
    "collapsed": false,
    "pycharm": {
     "name": "#%%\n"
    }
   }
  },
  {
   "cell_type": "code",
   "execution_count": 9,
   "outputs": [
    {
     "data": {
      "text/plain": "             sensor   temperature      humidity         light       voltage\ncount  2.219802e+06  2.219802e+06  2.219802e+06  2.219802e+06  2.219802e+06\nmean   2.847832e+01  3.923345e+01  3.373197e+01  4.072114e+02  2.490634e+00\nstd    1.503396e+01  3.742113e+01  1.724055e+01  5.394278e+02  1.784078e-01\nmin    1.000000e+00 -3.840000e+01 -8.983130e+03  0.000000e+00  9.100830e-03\n25%    1.700000e+01  2.045880e+01  3.184240e+01  3.956000e+01  2.385220e+00\n50%    2.900000e+01  2.246780e+01  3.921230e+01  1.582400e+02  2.527320e+00\n75%    4.100000e+01  2.697580e+01  4.348570e+01  5.372800e+02  2.627960e+00\nmax    5.800000e+01  3.855680e+02  1.375120e+02  1.847360e+03  3.159150e+00",
      "text/html": "<div>\n<style scoped>\n    .dataframe tbody tr th:only-of-type {\n        vertical-align: middle;\n    }\n\n    .dataframe tbody tr th {\n        vertical-align: top;\n    }\n\n    .dataframe thead th {\n        text-align: right;\n    }\n</style>\n<table border=\"1\" class=\"dataframe\">\n  <thead>\n    <tr style=\"text-align: right;\">\n      <th></th>\n      <th>sensor</th>\n      <th>temperature</th>\n      <th>humidity</th>\n      <th>light</th>\n      <th>voltage</th>\n    </tr>\n  </thead>\n  <tbody>\n    <tr>\n      <th>count</th>\n      <td>2.219802e+06</td>\n      <td>2.219802e+06</td>\n      <td>2.219802e+06</td>\n      <td>2.219802e+06</td>\n      <td>2.219802e+06</td>\n    </tr>\n    <tr>\n      <th>mean</th>\n      <td>2.847832e+01</td>\n      <td>3.923345e+01</td>\n      <td>3.373197e+01</td>\n      <td>4.072114e+02</td>\n      <td>2.490634e+00</td>\n    </tr>\n    <tr>\n      <th>std</th>\n      <td>1.503396e+01</td>\n      <td>3.742113e+01</td>\n      <td>1.724055e+01</td>\n      <td>5.394278e+02</td>\n      <td>1.784078e-01</td>\n    </tr>\n    <tr>\n      <th>min</th>\n      <td>1.000000e+00</td>\n      <td>-3.840000e+01</td>\n      <td>-8.983130e+03</td>\n      <td>0.000000e+00</td>\n      <td>9.100830e-03</td>\n    </tr>\n    <tr>\n      <th>25%</th>\n      <td>1.700000e+01</td>\n      <td>2.045880e+01</td>\n      <td>3.184240e+01</td>\n      <td>3.956000e+01</td>\n      <td>2.385220e+00</td>\n    </tr>\n    <tr>\n      <th>50%</th>\n      <td>2.900000e+01</td>\n      <td>2.246780e+01</td>\n      <td>3.921230e+01</td>\n      <td>1.582400e+02</td>\n      <td>2.527320e+00</td>\n    </tr>\n    <tr>\n      <th>75%</th>\n      <td>4.100000e+01</td>\n      <td>2.697580e+01</td>\n      <td>4.348570e+01</td>\n      <td>5.372800e+02</td>\n      <td>2.627960e+00</td>\n    </tr>\n    <tr>\n      <th>max</th>\n      <td>5.800000e+01</td>\n      <td>3.855680e+02</td>\n      <td>1.375120e+02</td>\n      <td>1.847360e+03</td>\n      <td>3.159150e+00</td>\n    </tr>\n  </tbody>\n</table>\n</div>"
     },
     "execution_count": 9,
     "metadata": {},
     "output_type": "execute_result"
    }
   ],
   "source": [
    "dataset.describe()"
   ],
   "metadata": {
    "collapsed": false,
    "pycharm": {
     "name": "#%%\n"
    }
   }
  },
  {
   "cell_type": "code",
   "execution_count": 16,
   "outputs": [
    {
     "name": "stdout",
     "output_type": "stream",
     "text": [
      "[ 1  2  3  4  5  6  7  8  9 10 30 31 32 33 34 35 36] \n",
      " [37 38 39 40 41 42 43 44 45 46 47 48 49 50 51 52 53 54] \n",
      " [11 12 13 14 15 16 17 18 19 20 21 22 23 24 25 26 27 28 29]\n",
      "17 18 19\n"
     ]
    }
   ],
   "source": [
    "zone_1 = [1, 2, 3, 4, 5, 6, 7, 8, 9, 10, 30, 31, 32, 33, 34, 35, 36]\n",
    "zone_1 = np.array(zone_1)\n",
    "zone_2 = np.arange(37, 55) # 37 ~ 54\n",
    "zone_3 = np.arange(11, 30) # 11 ~ 29\n",
    "print(zone_1, '\\n', zone_2, '\\n', zone_3)\n",
    "print(len(zone_1), len(zone_2), len(zone_3))"
   ],
   "metadata": {
    "collapsed": false,
    "pycharm": {
     "name": "#%%\n"
    }
   }
  },
  {
   "cell_type": "code",
   "execution_count": null,
   "outputs": [],
   "source": [],
   "metadata": {
    "collapsed": false,
    "pycharm": {
     "name": "#%%\n"
    }
   }
  }
 ],
 "metadata": {
  "kernelspec": {
   "display_name": "Python 3",
   "language": "python",
   "name": "python3"
  },
  "language_info": {
   "codemirror_mode": {
    "name": "ipython",
    "version": 2
   },
   "file_extension": ".py",
   "mimetype": "text/x-python",
   "name": "python",
   "nbconvert_exporter": "python",
   "pygments_lexer": "ipython2",
   "version": "2.7.6"
  }
 },
 "nbformat": 4,
 "nbformat_minor": 0
}