{
 "cells": [
  {
   "cell_type": "code",
   "execution_count": 122,
   "id": "c94875883b56de75",
   "metadata": {
    "collapsed": false,
    "ExecuteTime": {
     "end_time": "2023-10-12T20:50:44.459768600Z",
     "start_time": "2023-10-12T20:50:44.431911800Z"
    }
   },
   "outputs": [],
   "source": [
    "import pandas as pd\n",
    "import numpy as np\n",
    "import matplotlib.pyplot as plt\n",
    "import torch\n",
    "import torch.nn as nn\n",
    "import torch.nn.functional as F\n",
    "from torch.utils.data import DataLoader, random_split\n",
    "import torch.optim as optim\n",
    "from sklearn.model_selection import train_test_split\n",
    "from sklearn.preprocessing import Normalizer\n",
    "import flwr as fl\n",
    "from flwr.common import Metrics\n",
    "# DEVICE = torch.device(\"cpu\")  # Try \"cuda\" to train on GPU\n",
    "# print(\n",
    "#     f\"Training on {DEVICE} using PyTorch {torch.__version__} and Flower {fl.__version__}\"\n",
    "# )"
   ]
  },
  {
   "cell_type": "code",
   "execution_count": 123,
   "id": "4f9bb242c3a5f12f",
   "metadata": {
    "collapsed": false,
    "ExecuteTime": {
     "end_time": "2023-10-12T20:50:45.494069800Z",
     "start_time": "2023-10-12T20:50:45.331243100Z"
    }
   },
   "outputs": [
    {
     "data": {
      "text/plain": "   temperature  pressure  humidity  type\n0     0.321077  0.023410  0.946764     0\n1     0.434641  0.013288  0.900506     0\n2     0.433907  0.203278  0.877726     0\n3     0.930075  0.027814  0.366315     0\n4     0.956026  0.007590  0.293182     0",
      "text/html": "<div>\n<style scoped>\n    .dataframe tbody tr th:only-of-type {\n        vertical-align: middle;\n    }\n\n    .dataframe tbody tr th {\n        vertical-align: top;\n    }\n\n    .dataframe thead th {\n        text-align: right;\n    }\n</style>\n<table border=\"1\" class=\"dataframe\">\n  <thead>\n    <tr style=\"text-align: right;\">\n      <th></th>\n      <th>temperature</th>\n      <th>pressure</th>\n      <th>humidity</th>\n      <th>type</th>\n    </tr>\n  </thead>\n  <tbody>\n    <tr>\n      <th>0</th>\n      <td>0.321077</td>\n      <td>0.023410</td>\n      <td>0.946764</td>\n      <td>0</td>\n    </tr>\n    <tr>\n      <th>1</th>\n      <td>0.434641</td>\n      <td>0.013288</td>\n      <td>0.900506</td>\n      <td>0</td>\n    </tr>\n    <tr>\n      <th>2</th>\n      <td>0.433907</td>\n      <td>0.203278</td>\n      <td>0.877726</td>\n      <td>0</td>\n    </tr>\n    <tr>\n      <th>3</th>\n      <td>0.930075</td>\n      <td>0.027814</td>\n      <td>0.366315</td>\n      <td>0</td>\n    </tr>\n    <tr>\n      <th>4</th>\n      <td>0.956026</td>\n      <td>0.007590</td>\n      <td>0.293182</td>\n      <td>0</td>\n    </tr>\n  </tbody>\n</table>\n</div>"
     },
     "execution_count": 123,
     "metadata": {},
     "output_type": "execute_result"
    }
   ],
   "source": [
    "df = pd.read_csv('./data.csv')\n",
    "normalize = ['temperature', 'pressure', 'humidity']\n",
    "scaler = Normalizer()\n",
    "df[normalize] = scaler.fit_transform(df[normalize])\n",
    "df.head()"
   ]
  },
  {
   "cell_type": "code",
   "execution_count": 124,
   "outputs": [],
   "source": [
    "X = df.drop('type', axis=1).values\n",
    "y = df['type'].values"
   ],
   "metadata": {
    "collapsed": false,
    "ExecuteTime": {
     "end_time": "2023-10-12T20:50:46.569050600Z",
     "start_time": "2023-10-12T20:50:46.553384500Z"
    }
   },
   "id": "ed6e6a27dea99b76"
  },
  {
   "cell_type": "code",
   "execution_count": 125,
   "outputs": [],
   "source": [
    "X_train, X_test, y_train, y_test = train_test_split(X, y, test_size=0.20, random_state=42)\n",
    "\n",
    "X_train = torch.FloatTensor(X_train)\n",
    "X_test = torch.FloatTensor(X_test)\n",
    "y_train = torch.LongTensor(y_train)\n",
    "y_test = torch.LongTensor(y_test)"
   ],
   "metadata": {
    "collapsed": false,
    "ExecuteTime": {
     "end_time": "2023-10-12T20:50:47.977483900Z",
     "start_time": "2023-10-12T20:50:47.927828100Z"
    }
   },
   "id": "59756de32a69607d"
  },
  {
   "cell_type": "code",
   "execution_count": 126,
   "outputs": [
    {
     "name": "stdout",
     "output_type": "stream",
     "text": [
      "Using cpu device.\n",
      "NeuralNetwork(\n",
      "  (flatten): Flatten(start_dim=1, end_dim=-1)\n",
      "  (linear_relu_stack): Sequential(\n",
      "    (0): Linear(in_features=3, out_features=128, bias=True)\n",
      "    (1): ReLU()\n",
      "    (2): Linear(in_features=128, out_features=128, bias=True)\n",
      "    (3): ReLU()\n",
      "    (4): Linear(in_features=128, out_features=8, bias=True)\n",
      "    (5): Softmax(dim=1)\n",
      "  )\n",
      ")\n"
     ]
    }
   ],
   "source": [
    "device = (\n",
    "    'cuda'\n",
    "    if torch.cuda.is_available()\n",
    "    else 'mps'\n",
    "    if torch.backends.mps.is_available()\n",
    "    else 'cpu'\n",
    ")\n",
    "print(f'Using {device} device.')\n",
    "\n",
    "# the choice of the number of hidden layers and the dimensionality of each layer may require experimentation and fine-tuning to achieve the best results for your specific dataset and problem. You can use techniques like cross-validation and grid search to optimize these hyperparameters.\n",
    "\n",
    "class NeuralNetwork(nn.Module):\n",
    "    def __init__(self, in_features=3, hidden_layer=128, out_features=8):\n",
    "        super().__init__()\n",
    "        self.flatten = nn.Flatten()\n",
    "        self.linear_relu_stack = nn.Sequential(\n",
    "            nn.Linear(in_features, hidden_layer), \n",
    "            nn.ReLU(),\n",
    "            nn.Linear(hidden_layer, hidden_layer), \n",
    "            nn.ReLU(),\n",
    "            nn.Linear(hidden_layer, out_features), \n",
    "            nn.Softmax(dim=1)\n",
    "        )\n",
    "    def forward(self, x):\n",
    "        x = self.flatten(x)\n",
    "        logits = self.linear_relu_stack(x)\n",
    "        return logits\n",
    "    \n",
    "model = NeuralNetwork().to(device)\n",
    "print(model)"
   ],
   "metadata": {
    "collapsed": false,
    "ExecuteTime": {
     "end_time": "2023-10-12T20:50:48.749129600Z",
     "start_time": "2023-10-12T20:50:48.734649300Z"
    }
   },
   "id": "971260dfa2b97cdf"
  },
  {
   "cell_type": "code",
   "execution_count": 127,
   "outputs": [],
   "source": [
    "def saveModel(): \n",
    "    path = \"./NetModel.pth\" \n",
    "    torch.save(model.state_dict(), path)"
   ],
   "metadata": {
    "collapsed": false,
    "ExecuteTime": {
     "end_time": "2023-10-12T20:50:49.861596Z",
     "start_time": "2023-10-12T20:50:49.858087300Z"
    }
   },
   "id": "5bc7ae887b40fc67"
  },
  {
   "cell_type": "code",
   "execution_count": 128,
   "outputs": [
    {
     "name": "stdout",
     "output_type": "stream",
     "text": [
      "epoch 1/100, train loss: 2.0808, test loss: 2.0695\n",
      "epoch 2/100, train loss: 2.0695, test loss: 2.0578\n",
      "epoch 3/100, train loss: 2.0577, test loss: 2.0451\n",
      "epoch 4/100, train loss: 2.0450, test loss: 2.0314\n",
      "epoch 5/100, train loss: 2.0312, test loss: 2.0165\n",
      "epoch 6/100, train loss: 2.0163, test loss: 2.0007\n",
      "epoch 7/100, train loss: 2.0004, test loss: 1.9834\n",
      "epoch 8/100, train loss: 1.9831, test loss: 1.9645\n",
      "epoch 9/100, train loss: 1.9641, test loss: 1.9437\n",
      "epoch 10/100, train loss: 1.9433, test loss: 1.9209\n",
      "epoch 11/100, train loss: 1.9205, test loss: 1.8961\n",
      "epoch 12/100, train loss: 1.8955, test loss: 1.8691\n",
      "epoch 13/100, train loss: 1.8685, test loss: 1.8398\n",
      "epoch 14/100, train loss: 1.8390, test loss: 1.8082\n",
      "epoch 15/100, train loss: 1.8074, test loss: 1.7746\n",
      "epoch 16/100, train loss: 1.7737, test loss: 1.7396\n",
      "epoch 17/100, train loss: 1.7385, test loss: 1.7039\n",
      "epoch 18/100, train loss: 1.7028, test loss: 1.6682\n",
      "epoch 19/100, train loss: 1.6670, test loss: 1.6333\n",
      "epoch 20/100, train loss: 1.6320, test loss: 1.6001\n",
      "epoch 21/100, train loss: 1.5986, test loss: 1.5693\n",
      "epoch 22/100, train loss: 1.5678, test loss: 1.5417\n",
      "epoch 23/100, train loss: 1.5400, test loss: 1.5175\n",
      "epoch 24/100, train loss: 1.5157, test loss: 1.4969\n",
      "epoch 25/100, train loss: 1.4951, test loss: 1.4799\n",
      "epoch 26/100, train loss: 1.4780, test loss: 1.4660\n",
      "epoch 27/100, train loss: 1.4641, test loss: 1.4550\n",
      "epoch 28/100, train loss: 1.4530, test loss: 1.4463\n",
      "epoch 29/100, train loss: 1.4443, test loss: 1.4396\n",
      "epoch 30/100, train loss: 1.4376, test loss: 1.4344\n",
      "epoch 31/100, train loss: 1.4323, test loss: 1.4304\n",
      "epoch 32/100, train loss: 1.4283, test loss: 1.4272\n",
      "epoch 33/100, train loss: 1.4252, test loss: 1.4249\n",
      "epoch 34/100, train loss: 1.4228, test loss: 1.4230\n",
      "epoch 35/100, train loss: 1.4209, test loss: 1.4216\n",
      "epoch 36/100, train loss: 1.4195, test loss: 1.4204\n",
      "epoch 37/100, train loss: 1.4183, test loss: 1.4195\n",
      "epoch 38/100, train loss: 1.4174, test loss: 1.4188\n",
      "epoch 39/100, train loss: 1.4167, test loss: 1.4183\n",
      "epoch 40/100, train loss: 1.4161, test loss: 1.4178\n",
      "epoch 41/100, train loss: 1.4157, test loss: 1.4174\n",
      "epoch 42/100, train loss: 1.4153, test loss: 1.4171\n",
      "epoch 43/100, train loss: 1.4150, test loss: 1.4169\n",
      "epoch 44/100, train loss: 1.4148, test loss: 1.4167\n",
      "epoch 45/100, train loss: 1.4146, test loss: 1.4165\n",
      "epoch 46/100, train loss: 1.4144, test loss: 1.4163\n",
      "epoch 47/100, train loss: 1.4142, test loss: 1.4162\n",
      "epoch 48/100, train loss: 1.4141, test loss: 1.4161\n",
      "epoch 49/100, train loss: 1.4140, test loss: 1.4160\n",
      "epoch 50/100, train loss: 1.4139, test loss: 1.4159\n",
      "epoch 51/100, train loss: 1.4138, test loss: 1.4159\n",
      "epoch 52/100, train loss: 1.4138, test loss: 1.4158\n",
      "epoch 53/100, train loss: 1.4137, test loss: 1.4158\n",
      "epoch 54/100, train loss: 1.4137, test loss: 1.4157\n",
      "epoch 55/100, train loss: 1.4136, test loss: 1.4157\n",
      "epoch 56/100, train loss: 1.4136, test loss: 1.4156\n",
      "epoch 57/100, train loss: 1.4135, test loss: 1.4156\n",
      "epoch 58/100, train loss: 1.4135, test loss: 1.4156\n",
      "epoch 59/100, train loss: 1.4135, test loss: 1.4156\n",
      "epoch 60/100, train loss: 1.4134, test loss: 1.4155\n",
      "epoch 61/100, train loss: 1.4134, test loss: 1.4155\n",
      "epoch 62/100, train loss: 1.4134, test loss: 1.4155\n",
      "epoch 63/100, train loss: 1.4134, test loss: 1.4155\n",
      "epoch 64/100, train loss: 1.4134, test loss: 1.4155\n",
      "epoch 65/100, train loss: 1.4133, test loss: 1.4154\n",
      "epoch 66/100, train loss: 1.4133, test loss: 1.4154\n",
      "epoch 67/100, train loss: 1.4133, test loss: 1.4154\n",
      "epoch 68/100, train loss: 1.4133, test loss: 1.4154\n",
      "epoch 69/100, train loss: 1.4133, test loss: 1.4154\n",
      "epoch 70/100, train loss: 1.4133, test loss: 1.4154\n",
      "epoch 71/100, train loss: 1.4133, test loss: 1.4154\n",
      "epoch 72/100, train loss: 1.4133, test loss: 1.4154\n",
      "epoch 73/100, train loss: 1.4133, test loss: 1.4154\n",
      "epoch 74/100, train loss: 1.4132, test loss: 1.4154\n",
      "epoch 75/100, train loss: 1.4132, test loss: 1.4153\n",
      "epoch 76/100, train loss: 1.4132, test loss: 1.4153\n",
      "epoch 77/100, train loss: 1.4132, test loss: 1.4153\n",
      "epoch 78/100, train loss: 1.4132, test loss: 1.4153\n",
      "epoch 79/100, train loss: 1.4132, test loss: 1.4153\n",
      "epoch 80/100, train loss: 1.4132, test loss: 1.4153\n",
      "epoch 81/100, train loss: 1.4132, test loss: 1.4153\n",
      "epoch 82/100, train loss: 1.4132, test loss: 1.4153\n",
      "epoch 83/100, train loss: 1.4132, test loss: 1.4153\n",
      "epoch 84/100, train loss: 1.4132, test loss: 1.4153\n",
      "epoch 85/100, train loss: 1.4132, test loss: 1.4153\n",
      "epoch 86/100, train loss: 1.4132, test loss: 1.4153\n",
      "epoch 87/100, train loss: 1.4132, test loss: 1.4153\n",
      "epoch 88/100, train loss: 1.4132, test loss: 1.4153\n",
      "epoch 89/100, train loss: 1.4132, test loss: 1.4153\n",
      "epoch 90/100, train loss: 1.4132, test loss: 1.4153\n",
      "epoch 91/100, train loss: 1.4131, test loss: 1.4153\n",
      "epoch 92/100, train loss: 1.4131, test loss: 1.4153\n",
      "epoch 93/100, train loss: 1.4131, test loss: 1.4153\n",
      "epoch 94/100, train loss: 1.4131, test loss: 1.4152\n",
      "epoch 95/100, train loss: 1.4131, test loss: 1.4152\n",
      "epoch 96/100, train loss: 1.4131, test loss: 1.4152\n",
      "epoch 97/100, train loss: 1.4131, test loss: 1.4152\n",
      "epoch 98/100, train loss: 1.4131, test loss: 1.4152\n",
      "epoch 99/100, train loss: 1.4131, test loss: 1.4152\n",
      "epoch 100/100, train loss: 1.4131, test loss: 1.4152\n"
     ]
    }
   ],
   "source": [
    "criterion = nn.CrossEntropyLoss()\n",
    "# optimizer = torch.optim.SGD(model.parameters(), lr=0.01)\n",
    "optimizer = torch.optim.Adam(model.parameters(), lr=0.001)\n",
    "\n",
    "num_epochs = 100\n",
    "train_losses = np.zeros(num_epochs)\n",
    "test_losses  = np.zeros(num_epochs)\n",
    "\n",
    "def train_network(model, optimizer, criterion, X_train, y_train, X_test, y_test, num_epochs, train_losses, test_losses):\n",
    "    for epoch in range(num_epochs):\n",
    "        optimizer.zero_grad()\n",
    "        output_train = model(X_train)\n",
    "        loss_train = criterion(output_train, y_train)\n",
    "        loss_train.backward()\n",
    "        optimizer.step()\n",
    "\n",
    "        output_test = model(X_test)\n",
    "        loss_test = criterion(output_test,y_test)\n",
    "        train_losses[epoch] = loss_train.item()\n",
    "        test_losses[epoch] = loss_test.item()\n",
    "\n",
    "        print(f\"epoch {epoch+1}/{num_epochs}, train loss: {loss_train.item():.4f}, test loss: {loss_test.item():.4f}\")\n",
    "            \n",
    "train_network(model, optimizer, criterion, X_train, y_train, X_test, y_test, num_epochs, train_losses, test_losses)"
   ],
   "metadata": {
    "collapsed": false,
    "ExecuteTime": {
     "end_time": "2023-10-12T20:51:34.101802300Z",
     "start_time": "2023-10-12T20:50:51.341368500Z"
    }
   },
   "id": "439258b26154e816"
  },
  {
   "cell_type": "code",
   "execution_count": 129,
   "outputs": [
    {
     "data": {
      "text/plain": "<Figure size 600x600 with 1 Axes>",
      "image/png": "[encoded data removed]"
     },
     "metadata": {},
     "output_type": "display_data"
    }
   ],
   "source": [
    "plt.figure(figsize=(6,6))\n",
    "plt.plot(train_losses, label='train loss')\n",
    "plt.plot(test_losses, label='test loss')\n",
    "plt.legend()\n",
    "plt.show()"
   ],
   "metadata": {
    "collapsed": false,
    "ExecuteTime": {
     "end_time": "2023-10-12T20:51:44.516302700Z",
     "start_time": "2023-10-12T20:51:44.426709900Z"
    }
   },
   "id": "f882d582b6d8f82b"
  },
  {
   "cell_type": "code",
   "execution_count": 130,
   "outputs": [
    {
     "name": "stdout",
     "output_type": "stream",
     "text": [
      "Training Accuracy: 86.121\n",
      "Test Accuracy: 85.909\n"
     ]
    }
   ],
   "source": [
    "predictions_train = []\n",
    "predictions_test =  []\n",
    "with torch.no_grad():\n",
    "    predictions_train = model(X_train)\n",
    "    predictions_test = model(X_test)\n",
    "\n",
    "def get_accuracy_multiclass(pred_arr,original_arr):\n",
    "    if len(pred_arr)!=len(original_arr):\n",
    "        return False\n",
    "    pred_arr = pred_arr.numpy()\n",
    "    original_arr = original_arr.numpy()\n",
    "    final_pred= []\n",
    "\n",
    "    for i in range(len(pred_arr)):\n",
    "        final_pred.append(np.argmax(pred_arr[i]))\n",
    "    final_pred = np.array(final_pred)\n",
    "    count = 0\n",
    "\n",
    "    for i in range(len(original_arr)):\n",
    "        if final_pred[i] == original_arr[i]:\n",
    "            count+=1\n",
    "    return count/len(final_pred)\n",
    "\n",
    "train_acc = get_accuracy_multiclass(predictions_train,y_train)\n",
    "test_acc  = get_accuracy_multiclass(predictions_test,y_test)\n",
    "\n",
    "print(f\"Training Accuracy: {round(train_acc*100,3)}\")\n",
    "print(f\"Test Accuracy: {round(test_acc*100,3)}\")"
   ],
   "metadata": {
    "collapsed": false,
    "ExecuteTime": {
     "end_time": "2023-10-12T20:51:46.226332400Z",
     "start_time": "2023-10-12T20:51:45.352030600Z"
    }
   },
   "id": "6b65a89e9eb4b602"
  },
  {
   "cell_type": "code",
   "execution_count": 27,
   "id": "2a0d732106313603",
   "metadata": {
    "collapsed": false,
    "ExecuteTime": {
     "end_time": "2023-10-05T09:25:55.594010100Z",
     "start_time": "2023-10-05T09:25:55.580181700Z"
    }
   },
   "outputs": [],
   "source": []
  }
 ],
 "metadata": {
  "kernelspec": {
   "display_name": "Python 3 (ipykernel)",
   "language": "python",
   "name": "python3"
  },
  "language_info": {
   "codemirror_mode": {
    "name": "ipython",
    "version": 3
   },
   "file_extension": ".py",
   "mimetype": "text/x-python",
   "name": "python",
   "nbconvert_exporter": "python",
   "pygments_lexer": "ipython3",
   "version": "3.11.4"
  }
 },
 "nbformat": 4,
 "nbformat_minor": 5
}
