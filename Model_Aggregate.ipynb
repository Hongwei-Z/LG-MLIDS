{
 "cells": [
  {
   "cell_type": "code",
   "execution_count": 33,
   "id": "initial_id",
   "metadata": {
    "collapsed": true,
    "ExecuteTime": {
     "end_time": "2023-11-27T21:31:54.045831900Z",
     "start_time": "2023-11-27T21:31:54.015816900Z"
    }
   },
   "outputs": [],
   "source": [
    "import helper\n",
    "import joblib"
   ]
  },
  {
   "cell_type": "code",
   "execution_count": 34,
   "outputs": [],
   "source": [
    "def aggregate_predict(model_1, model_2, model_3, X_test, y_test, weights):\n",
    "    \n",
    "    local_model_1 = joblib.load(model_1)\n",
    "    predict_1 = local_model_1.predict(X_test)\n",
    "    \n",
    "    local_model_2 = joblib.load(model_2)\n",
    "    predict_2 = local_model_2.predict(X_test)\n",
    "    \n",
    "    local_model_3 = joblib.load(model_3)\n",
    "    predict_3 = local_model_3.predict(X_test)\n",
    "    \n",
    "    new_predict = []\n",
    "\n",
    "    for i in range(len(y_test)):\n",
    "        pr1 = predict_1[i]\n",
    "        pr2 = predict_2[i]\n",
    "        pr3 = predict_3[i]\n",
    "        \n",
    "        weighted_sum = (weights[0] * pr1) + (weights[1] * pr2) + (weights[2] * pr3)\n",
    "        combined_weight = sum(weights)\n",
    "        weighted_avg = weighted_sum / combined_weight\n",
    "    \n",
    "        threshold = 0.3\n",
    "        \n",
    "        if weighted_avg < threshold:\n",
    "            new_predict.append(0)\n",
    "        else:\n",
    "            new_predict.append(1)\n",
    "            \n",
    "    print(\"Global model prediction results:\")\n",
    "    helper.display_metrics(y_test, new_predict)"
   ],
   "metadata": {
    "collapsed": false,
    "ExecuteTime": {
     "end_time": "2023-11-27T21:31:54.045831900Z",
     "start_time": "2023-11-27T21:31:54.025830800Z"
    }
   },
   "id": "43257488f8043e97"
  },
  {
   "cell_type": "code",
   "execution_count": 35,
   "outputs": [
    {
     "data": {
      "text/plain": "[0.86155059, 0.86010881, 0.86097387]"
     },
     "execution_count": 35,
     "metadata": {},
     "output_type": "execute_result"
    }
   ],
   "source": [
    "filename = './models/ratio.txt'\n",
    "ratio_dict = {}\n",
    "with open(filename, 'r') as file:\n",
    "    for line in file:\n",
    "        key, value = line.strip().split(':')\n",
    "        ratio_dict[int(key)] = float(value)\n",
    "\n",
    "weights = [ratio_dict[1], ratio_dict[2], ratio_dict[3]]\n",
    "weights"
   ],
   "metadata": {
    "collapsed": false,
    "ExecuteTime": {
     "end_time": "2023-11-27T21:31:54.055831800Z",
     "start_time": "2023-11-27T21:31:54.035834300Z"
    }
   },
   "id": "428454180bbb40a4"
  },
  {
   "cell_type": "code",
   "execution_count": 36,
   "outputs": [
    {
     "name": "stdout",
     "output_type": "stream",
     "text": [
      "Global model prediction results:\n",
      "---------------------\n",
      "Accuracy : 0.97308727\n",
      "Precision: 0.97294077\n",
      "Recall   : 0.97308727\n",
      "F1 Score : 0.97300653\n",
      "---------------------\n"
     ]
    }
   ],
   "source": [
    "_, X_test, y_test = helper.load_testset(test_size=0.1)\n",
    "\n",
    "aggregate_predict(\n",
    "    model_1='./models/model_client_1.joblib', \n",
    "    model_2='./models/model_client_2.joblib',\n",
    "    model_3='./models/model_client_3.joblib',\n",
    "    X_test=X_test, \n",
    "    y_test=y_test,\n",
    "    weights=weights\n",
    ")"
   ],
   "metadata": {
    "collapsed": false,
    "ExecuteTime": {
     "end_time": "2023-11-27T21:31:57.862427800Z",
     "start_time": "2023-11-27T21:31:54.045831900Z"
    }
   },
   "id": "5354fbafc496eade"
  },
  {
   "cell_type": "code",
   "execution_count": 37,
   "outputs": [],
   "source": [
    "# import numpy as np\n",
    "# zeros_count = np.sum([predict_1 == 0, predict_2 == 0, predict_3 == 0], axis=0)\n",
    "# result = np.where(zeros_count >= 3, 0, 1)\n",
    "# helper.display_metrics(y_test, result)"
   ],
   "metadata": {
    "collapsed": false,
    "ExecuteTime": {
     "end_time": "2023-11-27T21:31:57.870237600Z",
     "start_time": "2023-11-27T21:31:57.856521600Z"
    }
   },
   "id": "4e3e024f4e8e7dea"
  }
 ],
 "metadata": {
  "kernelspec": {
   "display_name": "Python 3",
   "language": "python",
   "name": "python3"
  },
  "language_info": {
   "codemirror_mode": {
    "name": "ipython",
    "version": 2
   },
   "file_extension": ".py",
   "mimetype": "text/x-python",
   "name": "python",
   "nbconvert_exporter": "python",
   "pygments_lexer": "ipython2",
   "version": "2.7.6"
  }
 },
 "nbformat": 4,
 "nbformat_minor": 5
}
