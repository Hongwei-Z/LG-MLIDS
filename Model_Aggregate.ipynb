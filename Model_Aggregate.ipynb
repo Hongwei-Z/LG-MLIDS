{
 "cells": [
  {
   "cell_type": "code",
   "execution_count": 1,
   "id": "initial_id",
   "metadata": {
    "collapsed": true,
    "ExecuteTime": {
     "end_time": "2023-11-30T21:23:09.498246100Z",
     "start_time": "2023-11-30T21:23:09.311118200Z"
    }
   },
   "outputs": [],
   "source": [
    "import helper\n",
    "import joblib\n",
    "from sklearn.metrics import precision_score, f1_score"
   ]
  },
  {
   "cell_type": "code",
   "execution_count": 6,
   "outputs": [],
   "source": [
    "\n",
    "def aggregate_predict(models, X_test, y_test):\n",
    "    metrics = []\n",
    "    \n",
    "    # Test the local models and show the metrics\n",
    "    models_predicts = []\n",
    "    for i in range(len(models)):\n",
    "        local_model = joblib.load(models[i])\n",
    "        predict = local_model.predict(X_test)\n",
    "        models_predicts.append(predict)\n",
    "        print(f\"Local model {i + 1} prediction results:\")\n",
    "        precision = precision_score(y_test, predict)\n",
    "        f1 = f1_score(y_test, predict)\n",
    "        metrics.append([precision, f1])\n",
    "        helper.display_metrics(y_test, predict)\n",
    "    \n",
    "    # Compute weighted metrics\n",
    "    precision_weight = 0.6\n",
    "    f1_weight = 0.4\n",
    "    metrics_scores = []\n",
    "    for precision, f1 in metrics:\n",
    "        score = (precision * precision_weight) + (f1 * f1_weight)\n",
    "        metrics_scores.append(score)\n",
    "    \n",
    "    total_score = sum(metrics_scores)\n",
    "    weights = []\n",
    "    for score in metrics_scores:\n",
    "        weight = score / total_score\n",
    "        weights.append(weight)\n",
    "    \n",
    "    # Compute weighted prediction\n",
    "    weighted_predictions = []\n",
    "    for predicts in zip(*models_predicts):\n",
    "        weighted_sum = 0\n",
    "        for pred, weight in zip(predicts, weights):\n",
    "            weighted_sum += pred * weight\n",
    "        if weighted_sum >= 0.3:\n",
    "            weighted_prediction = 1\n",
    "        else:\n",
    "            weighted_prediction = 0\n",
    "        weighted_predictions.append(weighted_prediction)\n",
    "\n",
    "    print(\"Aggregated prediction results:\")\n",
    "    helper.display_metrics(y_test, weighted_predictions)"
   ],
   "metadata": {
    "collapsed": false,
    "ExecuteTime": {
     "end_time": "2023-11-30T21:43:45.611617900Z",
     "start_time": "2023-11-30T21:43:45.599698200Z"
    }
   },
   "id": "2b57d84b55967f03"
  },
  {
   "cell_type": "code",
   "execution_count": 7,
   "outputs": [
    {
     "name": "stdout",
     "output_type": "stream",
     "text": [
      "Local model 1 prediction results:\n",
      "---------------------\n",
      "Accuracy : 0.95098245\n",
      "Precision: 0.95069359\n",
      "Recall   : 0.95098245\n",
      "F1 Score : 0.94766767\n",
      "---------------------\n",
      "\n",
      "Local model 2 prediction results:\n",
      "---------------------\n",
      "Accuracy : 0.95198720\n",
      "Precision: 0.95168883\n",
      "Recall   : 0.95198720\n",
      "F1 Score : 0.94884143\n",
      "---------------------\n",
      "\n",
      "Local model 3 prediction results:\n",
      "---------------------\n",
      "Accuracy : 0.95119263\n",
      "Precision: 0.95098899\n",
      "Recall   : 0.95119263\n",
      "F1 Score : 0.94786276\n",
      "---------------------\n",
      "\n",
      "Aggregated prediction results:\n",
      "---------------------\n",
      "Accuracy : 0.97417377\n",
      "Precision: 0.97414629\n",
      "Recall   : 0.97417377\n",
      "F1 Score : 0.97415978\n",
      "---------------------\n"
     ]
    }
   ],
   "source": [
    "_, X_test, y_test = helper.load_testset(test_size=0.3)\n",
    "models = ['./received_models/client_1.joblib', './received_models/client_2.joblib', './received_models/client_3.joblib']\n",
    "\n",
    "aggregate_predict(\n",
    "    models=models,\n",
    "    X_test=X_test, \n",
    "    y_test=y_test,\n",
    ")"
   ],
   "metadata": {
    "collapsed": false,
    "ExecuteTime": {
     "end_time": "2023-11-30T21:43:55.633600200Z",
     "start_time": "2023-11-30T21:43:46.180216300Z"
    }
   },
   "id": "2ad62fb9e347350c"
  },
  {
   "cell_type": "code",
   "execution_count": 19,
   "outputs": [],
   "source": [
    "# def aggregate_predict(models, weights, X_test, y_test, threshold=0.3):\n",
    "#     if len(models) != len(weights):\n",
    "#         print(\"Error: Missing models or weights.\")\n",
    "#         return \n",
    "#     \n",
    "#     # Test the local models and show the metrics\n",
    "#     predicts = []\n",
    "#     for i in range(len(models)):\n",
    "#         local_model = joblib.load(models[i])\n",
    "#         predict = local_model.predict(X_test)\n",
    "#         predicts.append(predict)\n",
    "#         print(f\"Local model {i + 1} prediction results:\")\n",
    "#         helper.display_metrics(y_test, predict)\n",
    "#     \n",
    "#     # Give new predictions\n",
    "#     new_predict = []\n",
    "#     for i in range(len(y_test)):\n",
    "#         weighted_sum = 0\n",
    "#         \n",
    "#         for weight, predict in zip(weights, predicts):\n",
    "#             weighted_sum += weight * predict[i]\n",
    "#     \n",
    "#         combined_weight = sum(weights)\n",
    "#         weighted_avg = weighted_sum / combined_weight\n",
    "#             \n",
    "#         if weighted_avg < threshold:\n",
    "#             new_predict.append(0)\n",
    "#         else:\n",
    "#             new_predict.append(1)\n",
    "# \n",
    "#     print(\"Aggregated prediction results:\")\n",
    "#     helper.display_metrics(y_test, new_predict)"
   ],
   "metadata": {
    "collapsed": false,
    "ExecuteTime": {
     "end_time": "2023-11-29T21:03:05.448114600Z",
     "start_time": "2023-11-29T21:03:05.432477Z"
    }
   },
   "id": "43257488f8043e97"
  },
  {
   "cell_type": "code",
   "execution_count": 20,
   "outputs": [
    {
     "data": {
      "text/plain": "[0.86087805, 0.86141851, 0.86014645]"
     },
     "execution_count": 20,
     "metadata": {},
     "output_type": "execute_result"
    }
   ],
   "source": [
    "filename = './received_models/ratio.txt'\n",
    "ratio_dict = {}\n",
    "with open(filename, 'r') as file:\n",
    "    for line in file:\n",
    "        key, value = line.strip().split(':')\n",
    "        ratio_dict[int(key)] = float(value)\n",
    "\n",
    "weights = [ratio_dict[1], ratio_dict[2], ratio_dict[3]]\n",
    "weights"
   ],
   "metadata": {
    "collapsed": false,
    "ExecuteTime": {
     "end_time": "2023-11-29T21:03:05.464128100Z",
     "start_time": "2023-11-29T21:03:05.448114600Z"
    }
   },
   "id": "428454180bbb40a4"
  },
  {
   "cell_type": "code",
   "execution_count": 21,
   "outputs": [
    {
     "name": "stdout",
     "output_type": "stream",
     "text": [
      "Local model 1 prediction results:\n",
      "---------------------\n",
      "Accuracy : 0.95175652\n",
      "Precision: 0.95148055\n",
      "Recall   : 0.95175652\n",
      "F1 Score : 0.94857914\n",
      "---------------------\n",
      "\n",
      "Local model 2 prediction results:\n",
      "---------------------\n",
      "Accuracy : 0.95080303\n",
      "Precision: 0.95053143\n",
      "Recall   : 0.95080303\n",
      "F1 Score : 0.94746805\n",
      "---------------------\n",
      "\n",
      "Local model 3 prediction results:\n",
      "---------------------\n",
      "Accuracy : 0.95153097\n",
      "Precision: 0.95125416\n",
      "Recall   : 0.95153097\n",
      "F1 Score : 0.94831781\n",
      "---------------------\n",
      "\n",
      "Aggregated prediction results:\n",
      "---------------------\n",
      "Accuracy : 0.97479405\n",
      "Precision: 0.97477375\n",
      "Recall   : 0.97479405\n",
      "F1 Score : 0.97478376\n",
      "---------------------\n"
     ]
    }
   ],
   "source": [
    "_, X_test, y_test = helper.load_testset(test_size=0.3)\n",
    "models = ['./received_models/client_1.joblib', './received_models/client_2.joblib', './received_models/client_3.joblib']\n",
    "\n",
    "aggregate_predict(\n",
    "    models=models,\n",
    "    X_test=X_test, \n",
    "    y_test=y_test,\n",
    ")"
   ],
   "metadata": {
    "collapsed": false,
    "ExecuteTime": {
     "end_time": "2023-11-29T21:03:15.414754400Z",
     "start_time": "2023-11-29T21:03:05.464128100Z"
    }
   },
   "id": "5354fbafc496eade"
  }
 ],
 "metadata": {
  "kernelspec": {
   "display_name": "Python 3",
   "language": "python",
   "name": "python3"
  },
  "language_info": {
   "codemirror_mode": {
    "name": "ipython",
    "version": 2
   },
   "file_extension": ".py",
   "mimetype": "text/x-python",
   "name": "python",
   "nbconvert_exporter": "python",
   "pygments_lexer": "ipython2",
   "version": "2.7.6"
  }
 },
 "nbformat": 4,
 "nbformat_minor": 5
}
