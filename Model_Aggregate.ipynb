{
 "cells": [
  {
   "cell_type": "code",
   "execution_count": 8,
   "id": "initial_id",
   "metadata": {
    "collapsed": true,
    "ExecuteTime": {
     "end_time": "2023-11-29T20:57:41.707133700Z",
     "start_time": "2023-11-29T20:57:41.670694200Z"
    }
   },
   "outputs": [],
   "source": [
    "import helper\n",
    "import joblib"
   ]
  },
  {
   "cell_type": "code",
   "execution_count": 9,
   "outputs": [],
   "source": [
    "def aggregate_predict(models, weights, X_test, y_test):\n",
    "    if len(models) != len(weights):\n",
    "        print(\"Error: Missing models or weights.\")\n",
    "        return \n",
    "    \n",
    "    predicts = []\n",
    "    for i in range(len(models)):\n",
    "        local_model = joblib.load(models[i])\n",
    "        predict = local_model.predict(X_test)\n",
    "        predicts.append(predict)\n",
    "        print(f\"Local model {i + 1} prediction results:\")\n",
    "        helper.display_metrics(y_test, predict)\n",
    "    \n",
    "    new_predict = []\n",
    "    for i in range(len(y_test)):\n",
    "        weighted_sum = 0\n",
    "        \n",
    "        for weight, predict in zip(weights, predicts):\n",
    "            weighted_sum += weight * predict[i]\n",
    "    \n",
    "        combined_weight = sum(weights)\n",
    "        weighted_avg = weighted_sum / combined_weight\n",
    "    \n",
    "        threshold = 0.3\n",
    "        if weighted_avg < threshold:\n",
    "            new_predict.append(0)\n",
    "        else:\n",
    "            new_predict.append(1)\n",
    "\n",
    "    print(\"Global model prediction results:\")\n",
    "    helper.display_metrics(y_test, new_predict)"
   ],
   "metadata": {
    "collapsed": false,
    "ExecuteTime": {
     "end_time": "2023-11-29T20:57:41.707133700Z",
     "start_time": "2023-11-29T20:57:41.691563500Z"
    }
   },
   "id": "43257488f8043e97"
  },
  {
   "cell_type": "code",
   "execution_count": 10,
   "outputs": [
    {
     "data": {
      "text/plain": "[0.86087805, 0.86141851, 0.86014645]"
     },
     "execution_count": 10,
     "metadata": {},
     "output_type": "execute_result"
    }
   ],
   "source": [
    "filename = './received_models/ratio.txt'\n",
    "ratio_dict = {}\n",
    "with open(filename, 'r') as file:\n",
    "    for line in file:\n",
    "        key, value = line.strip().split(':')\n",
    "        ratio_dict[int(key)] = float(value)\n",
    "\n",
    "weights = [ratio_dict[1], ratio_dict[2], ratio_dict[3]]\n",
    "weights"
   ],
   "metadata": {
    "collapsed": false,
    "ExecuteTime": {
     "end_time": "2023-11-29T20:57:41.722778100Z",
     "start_time": "2023-11-29T20:57:41.707133700Z"
    }
   },
   "id": "428454180bbb40a4"
  },
  {
   "cell_type": "code",
   "execution_count": 11,
   "outputs": [
    {
     "name": "stdout",
     "output_type": "stream",
     "text": [
      "Local model 1 prediction results:\n",
      "---------------------\n",
      "Accuracy : 0.95182829\n",
      "Precision: 0.95159655\n",
      "Recall   : 0.95182829\n",
      "F1 Score : 0.94860514\n",
      "---------------------\n",
      "\n",
      "Local model 2 prediction results:\n",
      "---------------------\n",
      "Accuracy : 0.94992644\n",
      "Precision: 0.94958353\n",
      "Recall   : 0.94992644\n",
      "F1 Score : 0.94645266\n",
      "---------------------\n",
      "\n",
      "Local model 3 prediction results:\n",
      "---------------------\n",
      "Accuracy : 0.95119776\n",
      "Precision: 0.95090893\n",
      "Recall   : 0.95119776\n",
      "F1 Score : 0.94790528\n",
      "---------------------\n",
      "\n",
      "Global model prediction results:\n",
      "---------------------\n",
      "Accuracy : 0.97409175\n",
      "Precision: 0.97404416\n",
      "Recall   : 0.97409175\n",
      "F1 Score : 0.97406720\n",
      "---------------------\n"
     ]
    }
   ],
   "source": [
    "_, X_test, y_test = helper.load_testset(test_size=0.3)\n",
    "models = ['./received_models/client_1.joblib', './received_models/client_2.joblib', './received_models/client_3.joblib']\n",
    "\n",
    "aggregate_predict(\n",
    "    models=models,\n",
    "    weights=weights,\n",
    "    X_test=X_test, \n",
    "    y_test=y_test,\n",
    ")"
   ],
   "metadata": {
    "collapsed": false,
    "ExecuteTime": {
     "end_time": "2023-11-29T20:57:51.573056Z",
     "start_time": "2023-11-29T20:57:41.722778100Z"
    }
   },
   "id": "5354fbafc496eade"
  },
  {
   "cell_type": "code",
   "execution_count": 12,
   "outputs": [],
   "source": [
    "# import numpy as np\n",
    "# zeros_count = np.sum([predict_1 == 0, predict_2 == 0, predict_3 == 0], axis=0)\n",
    "# result = np.where(zeros_count >= 3, 0, 1)\n",
    "# helper.display_metrics(y_test, result)"
   ],
   "metadata": {
    "collapsed": false,
    "ExecuteTime": {
     "end_time": "2023-11-29T20:57:51.588825300Z",
     "start_time": "2023-11-29T20:57:51.573056Z"
    }
   },
   "id": "4e3e024f4e8e7dea"
  }
 ],
 "metadata": {
  "kernelspec": {
   "display_name": "Python 3",
   "language": "python",
   "name": "python3"
  },
  "language_info": {
   "codemirror_mode": {
    "name": "ipython",
    "version": 2
   },
   "file_extension": ".py",
   "mimetype": "text/x-python",
   "name": "python",
   "nbconvert_exporter": "python",
   "pygments_lexer": "ipython2",
   "version": "2.7.6"
  }
 },
 "nbformat": 4,
 "nbformat_minor": 5
}
