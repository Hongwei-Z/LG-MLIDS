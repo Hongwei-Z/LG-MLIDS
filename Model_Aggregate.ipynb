{
 "cells": [
  {
   "cell_type": "code",
   "execution_count": 1,
   "id": "initial_id",
   "metadata": {
    "collapsed": true,
    "ExecuteTime": {
     "end_time": "2023-11-27T20:49:13.403996400Z",
     "start_time": "2023-11-27T20:49:12.829198500Z"
    }
   },
   "outputs": [],
   "source": [
    "import helper\n",
    "import joblib"
   ]
  },
  {
   "cell_type": "code",
   "execution_count": 2,
   "outputs": [],
   "source": [
    "_, X_test, y_test = helper.load_testset(test_size=0.1)\n",
    "\n",
    "local_model_1 = joblib.load('./models/model_client_1.joblib')\n",
    "predict_1 = local_model_1.predict(X_test)\n",
    "\n",
    "local_model_2 = joblib.load('./models/model_client_2.joblib')\n",
    "predict_2 = local_model_2.predict(X_test)\n",
    "\n",
    "local_model_3 = joblib.load('./models/model_client_3.joblib')\n",
    "predict_3 = local_model_3.predict(X_test)"
   ],
   "metadata": {
    "collapsed": false,
    "ExecuteTime": {
     "end_time": "2023-11-27T20:49:17.334936700Z",
     "start_time": "2023-11-27T20:49:13.403996400Z"
    }
   },
   "id": "f62e815fb3a02d06"
  },
  {
   "cell_type": "code",
   "execution_count": 3,
   "outputs": [
    {
     "name": "stdout",
     "output_type": "stream",
     "text": [
      "---------------------\n",
      "Accuracy : 0.95048058\n",
      "Precision: 0.95027056\n",
      "Recall   : 0.95048058\n",
      "F1 Score : 0.94702886\n",
      "---------------------\n"
     ]
    }
   ],
   "source": [
    "helper.display_metrics(y_test, predict_1)"
   ],
   "metadata": {
    "collapsed": false,
    "ExecuteTime": {
     "end_time": "2023-11-27T20:49:17.396425400Z",
     "start_time": "2023-11-27T20:49:17.337441200Z"
    }
   },
   "id": "43f943b8d11433fb"
  },
  {
   "cell_type": "code",
   "execution_count": 4,
   "outputs": [
    {
     "name": "stdout",
     "output_type": "stream",
     "text": [
      "---------------------\n",
      "Accuracy : 0.94991157\n",
      "Precision: 0.94960709\n",
      "Recall   : 0.94991157\n",
      "F1 Score : 0.94641853\n",
      "---------------------\n"
     ]
    }
   ],
   "source": [
    "helper.display_metrics(y_test, predict_2)"
   ],
   "metadata": {
    "collapsed": false,
    "ExecuteTime": {
     "end_time": "2023-11-27T20:49:17.444852700Z",
     "start_time": "2023-11-27T20:49:17.380794800Z"
    }
   },
   "id": "567566659a73e4d7"
  },
  {
   "cell_type": "code",
   "execution_count": 5,
   "outputs": [
    {
     "name": "stdout",
     "output_type": "stream",
     "text": [
      "---------------------\n",
      "Accuracy : 0.94938870\n",
      "Precision: 0.94903914\n",
      "Recall   : 0.94938870\n",
      "F1 Score : 0.94583239\n",
      "---------------------\n"
     ]
    }
   ],
   "source": [
    "helper.display_metrics(y_test, predict_3)"
   ],
   "metadata": {
    "collapsed": false,
    "ExecuteTime": {
     "end_time": "2023-11-27T20:49:17.523360700Z",
     "start_time": "2023-11-27T20:49:17.429343500Z"
    }
   },
   "id": "58113da7c4a8dafe"
  },
  {
   "cell_type": "code",
   "execution_count": 6,
   "outputs": [
    {
     "name": "stdout",
     "output_type": "stream",
     "text": [
      "{1: 0.8586478, 3: 0.86100591, 2: 0.86108281}\n"
     ]
    }
   ],
   "source": [
    "filename = './models/ratio.txt'\n",
    "ratio_dict = {}\n",
    "with open(filename, 'r') as file:\n",
    "    for line in file:\n",
    "        key, value = line.strip().split(':')\n",
    "        ratio_dict[int(key)] = float(value)\n",
    "\n",
    "print(ratio_dict)"
   ],
   "metadata": {
    "collapsed": false,
    "ExecuteTime": {
     "end_time": "2023-11-27T20:49:17.524371900Z",
     "start_time": "2023-11-27T20:49:17.476941300Z"
    }
   },
   "id": "6b2c78f0960c90"
  },
  {
   "cell_type": "code",
   "execution_count": 20,
   "outputs": [
    {
     "data": {
      "text/plain": "[0.8586478, 0.86108281, 0.86100591]"
     },
     "execution_count": 20,
     "metadata": {},
     "output_type": "execute_result"
    }
   ],
   "source": [
    "weights = [ratio_dict[1], ratio_dict[2], ratio_dict[3]]\n",
    "weights"
   ],
   "metadata": {
    "collapsed": false,
    "ExecuteTime": {
     "end_time": "2023-11-27T21:00:54.847852300Z",
     "start_time": "2023-11-27T21:00:54.837809400Z"
    }
   },
   "id": "c78fc145b2b50847"
  },
  {
   "cell_type": "code",
   "execution_count": 9,
   "outputs": [
    {
     "data": {
      "text/plain": "[array([0, 0, 0, ..., 1, 0, 0], dtype=int64),\n array([0, 0, 0, ..., 1, 0, 0], dtype=int64),\n array([0, 0, 0, ..., 1, 1, 0], dtype=int64)]"
     },
     "execution_count": 9,
     "metadata": {},
     "output_type": "execute_result"
    }
   ],
   "source": [
    "predicts = [predict_1, predict_2, predict_3]\n",
    "predicts"
   ],
   "metadata": {
    "collapsed": false,
    "ExecuteTime": {
     "end_time": "2023-11-27T20:53:03.999754900Z",
     "start_time": "2023-11-27T20:53:03.988249300Z"
    }
   },
   "id": "318cda143729eae8"
  },
  {
   "cell_type": "code",
   "execution_count": 27,
   "outputs": [
    {
     "name": "stdout",
     "output_type": "stream",
     "text": [
      "---------------------\n",
      "Accuracy : 0.97325644\n",
      "Precision: 0.97315690\n",
      "Recall   : 0.97325644\n",
      "F1 Score : 0.97320338\n",
      "---------------------\n"
     ]
    }
   ],
   "source": [
    "new_predict = []\n",
    "\n",
    "for i in range(len(y_test)):\n",
    "    pr1 = predict_1[i]\n",
    "    pr2 = predict_2[i]\n",
    "    pr3 = predict_3[i]\n",
    "    \n",
    "    weighted_sum = (weights[0] * pr1) + (weights[1] * pr2) + (weights[2] * pr3)\n",
    "    combined_weight = sum(weights)\n",
    "    weighted_avg = weighted_sum / combined_weight\n",
    "\n",
    "    threshold = 0.3\n",
    "    if weighted_avg < threshold:\n",
    "        new_predict.append(0)\n",
    "    else:\n",
    "        new_predict.append(1)\n",
    "        \n",
    "helper.display_metrics(y_test, new_predict)"
   ],
   "metadata": {
    "collapsed": false,
    "ExecuteTime": {
     "end_time": "2023-11-27T21:08:41.154910700Z",
     "start_time": "2023-11-27T21:08:40.892994800Z"
    }
   },
   "id": "eb831d415e4cec16"
  },
  {
   "cell_type": "code",
   "execution_count": 26,
   "outputs": [
    {
     "name": "stdout",
     "output_type": "stream",
     "text": [
      "---------------------\n",
      "Accuracy : 0.97325644\n",
      "Precision: 0.97315690\n",
      "Recall   : 0.97325644\n",
      "F1 Score : 0.97320338\n",
      "---------------------\n"
     ]
    }
   ],
   "source": [
    "import numpy as np\n",
    "zeros_count = np.sum([predict_1 == 0, predict_2 == 0, predict_3 == 0], axis=0)\n",
    "result = np.where(zeros_count >= 3, 0, 1)\n",
    "helper.display_metrics(y_test, result)"
   ],
   "metadata": {
    "collapsed": false,
    "ExecuteTime": {
     "end_time": "2023-11-27T21:08:35.592205500Z",
     "start_time": "2023-11-27T21:08:35.522855300Z"
    }
   },
   "id": "e87a8a1d914f808b"
  },
  {
   "cell_type": "code",
   "execution_count": null,
   "outputs": [],
   "source": [],
   "metadata": {
    "collapsed": false
   },
   "id": "43257488f8043e97"
  }
 ],
 "metadata": {
  "kernelspec": {
   "display_name": "Python 3",
   "language": "python",
   "name": "python3"
  },
  "language_info": {
   "codemirror_mode": {
    "name": "ipython",
    "version": 2
   },
   "file_extension": ".py",
   "mimetype": "text/x-python",
   "name": "python",
   "nbconvert_exporter": "python",
   "pygments_lexer": "ipython2",
   "version": "2.7.6"
  }
 },
 "nbformat": 4,
 "nbformat_minor": 5
}
