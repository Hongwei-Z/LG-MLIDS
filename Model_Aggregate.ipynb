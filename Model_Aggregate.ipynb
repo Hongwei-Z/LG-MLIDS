{
 "cells": [
  {
   "cell_type": "code",
   "execution_count": 1,
   "id": "initial_id",
   "metadata": {
    "collapsed": true,
    "ExecuteTime": {
     "end_time": "2023-11-27T21:53:48.479690Z",
     "start_time": "2023-11-27T21:53:47.937910800Z"
    }
   },
   "outputs": [],
   "source": [
    "import helper\n",
    "import joblib"
   ]
  },
  {
   "cell_type": "code",
   "execution_count": 2,
   "outputs": [],
   "source": [
    "def aggregate_predict(model_1, model_2, model_3, X_test, y_test, weights):\n",
    "    \n",
    "    local_model_1 = joblib.load(model_1)\n",
    "    predict_1 = local_model_1.predict(X_test)\n",
    "    print(\"Local model 1 prediction results:\")\n",
    "    helper.display_metrics(y_test, predict_1)\n",
    "    \n",
    "    local_model_2 = joblib.load(model_2)\n",
    "    predict_2 = local_model_2.predict(X_test)\n",
    "    print(\"Local model 2 prediction results:\")\n",
    "    helper.display_metrics(y_test, predict_2)\n",
    "    \n",
    "    local_model_3 = joblib.load(model_3)\n",
    "    predict_3 = local_model_3.predict(X_test)\n",
    "    print(\"Local model 3 prediction results:\")\n",
    "    helper.display_metrics(y_test, predict_3)\n",
    "    \n",
    "    new_predict = []\n",
    "\n",
    "    for i in range(len(y_test)):\n",
    "        pr1 = predict_1[i]\n",
    "        pr2 = predict_2[i]\n",
    "        pr3 = predict_3[i]\n",
    "        \n",
    "        weighted_sum = (weights[0] * pr1) + (weights[1] * pr2) + (weights[2] * pr3)\n",
    "        combined_weight = sum(weights)\n",
    "        weighted_avg = weighted_sum / combined_weight\n",
    "    \n",
    "        threshold = 0.3\n",
    "        \n",
    "        if weighted_avg < threshold:\n",
    "            new_predict.append(0)\n",
    "        else:\n",
    "            new_predict.append(1)\n",
    "            \n",
    "    print(\"Global model prediction results:\")\n",
    "    helper.display_metrics(y_test, new_predict)"
   ],
   "metadata": {
    "collapsed": false,
    "ExecuteTime": {
     "end_time": "2023-11-27T21:53:48.495769300Z",
     "start_time": "2023-11-27T21:53:48.479690Z"
    }
   },
   "id": "43257488f8043e97"
  },
  {
   "cell_type": "code",
   "execution_count": 3,
   "outputs": [
    {
     "data": {
      "text/plain": "[0.86088571, 0.86101259, 0.85998028]"
     },
     "execution_count": 3,
     "metadata": {},
     "output_type": "execute_result"
    }
   ],
   "source": [
    "filename = './models/ratio.txt'\n",
    "ratio_dict = {}\n",
    "with open(filename, 'r') as file:\n",
    "    for line in file:\n",
    "        key, value = line.strip().split(':')\n",
    "        ratio_dict[int(key)] = float(value)\n",
    "\n",
    "weights = [ratio_dict[1], ratio_dict[2], ratio_dict[3]]\n",
    "weights"
   ],
   "metadata": {
    "collapsed": false,
    "ExecuteTime": {
     "end_time": "2023-11-27T21:53:48.542418300Z",
     "start_time": "2023-11-27T21:53:48.495769300Z"
    }
   },
   "id": "428454180bbb40a4"
  },
  {
   "cell_type": "code",
   "execution_count": 4,
   "outputs": [
    {
     "name": "stdout",
     "output_type": "stream",
     "text": [
      "Local model 1 prediction results:\n",
      "---------------------\n",
      "Accuracy : 0.95626298\n",
      "Precision: 0.95595357\n",
      "Recall   : 0.95626298\n",
      "F1 Score : 0.95373368\n",
      "---------------------\n",
      "Local model 2 prediction results:\n",
      "---------------------\n",
      "Accuracy : 0.95769319\n",
      "Precision: 0.95751647\n",
      "Recall   : 0.95769319\n",
      "F1 Score : 0.95528251\n",
      "---------------------\n",
      "Local model 3 prediction results:\n",
      "---------------------\n",
      "Accuracy : 0.95720108\n",
      "Precision: 0.95700379\n",
      "Recall   : 0.95720108\n",
      "F1 Score : 0.95473546\n",
      "---------------------\n",
      "\n",
      "Global model prediction results:\n",
      "---------------------\n",
      "Accuracy : 0.97777778\n",
      "Precision: 0.97787924\n",
      "Recall   : 0.97777778\n",
      "F1 Score : 0.97782472\n",
      "---------------------\n"
     ]
    }
   ],
   "source": [
    "_, X_test, y_test = helper.load_testset(test_size=0.1)\n",
    "\n",
    "aggregate_predict(\n",
    "    model_1='./models/model_client_1.joblib', \n",
    "    model_2='./models/model_client_2.joblib',\n",
    "    model_3='./models/model_client_3.joblib',\n",
    "    X_test=X_test, \n",
    "    y_test=y_test,\n",
    "    weights=weights\n",
    ")"
   ],
   "metadata": {
    "collapsed": false,
    "ExecuteTime": {
     "end_time": "2023-11-27T21:53:52.424520800Z",
     "start_time": "2023-11-27T21:53:48.510809900Z"
    }
   },
   "id": "5354fbafc496eade"
  },
  {
   "cell_type": "code",
   "execution_count": 5,
   "outputs": [],
   "source": [
    "# import numpy as np\n",
    "# zeros_count = np.sum([predict_1 == 0, predict_2 == 0, predict_3 == 0], axis=0)\n",
    "# result = np.where(zeros_count >= 3, 0, 1)\n",
    "# helper.display_metrics(y_test, result)"
   ],
   "metadata": {
    "collapsed": false,
    "ExecuteTime": {
     "end_time": "2023-11-27T21:53:52.424520800Z",
     "start_time": "2023-11-27T21:53:52.412269900Z"
    }
   },
   "id": "4e3e024f4e8e7dea"
  }
 ],
 "metadata": {
  "kernelspec": {
   "display_name": "Python 3",
   "language": "python",
   "name": "python3"
  },
  "language_info": {
   "codemirror_mode": {
    "name": "ipython",
    "version": 2
   },
   "file_extension": ".py",
   "mimetype": "text/x-python",
   "name": "python",
   "nbconvert_exporter": "python",
   "pygments_lexer": "ipython2",
   "version": "2.7.6"
  }
 },
 "nbformat": 4,
 "nbformat_minor": 5
}
