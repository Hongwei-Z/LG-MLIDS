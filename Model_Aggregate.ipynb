{
 "cells": [
  {
   "cell_type": "code",
   "execution_count": 18,
   "id": "initial_id",
   "metadata": {
    "collapsed": true,
    "ExecuteTime": {
     "end_time": "2023-11-29T21:03:05.448114600Z",
     "start_time": "2023-11-29T21:03:05.409650900Z"
    }
   },
   "outputs": [],
   "source": [
    "import helper\n",
    "import joblib"
   ]
  },
  {
   "cell_type": "code",
   "execution_count": 19,
   "outputs": [],
   "source": [
    "def aggregate_predict(models, weights, X_test, y_test, threshold=0.3):\n",
    "    if len(models) != len(weights):\n",
    "        print(\"Error: Missing models or weights.\")\n",
    "        return \n",
    "    \n",
    "    # Test the local models and show the metrics\n",
    "    predicts = []\n",
    "    for i in range(len(models)):\n",
    "        local_model = joblib.load(models[i])\n",
    "        predict = local_model.predict(X_test)\n",
    "        predicts.append(predict)\n",
    "        print(f\"Local model {i + 1} prediction results:\")\n",
    "        helper.display_metrics(y_test, predict)\n",
    "    \n",
    "    # Give new predictions\n",
    "    new_predict = []\n",
    "    for i in range(len(y_test)):\n",
    "        weighted_sum = 0\n",
    "        \n",
    "        for weight, predict in zip(weights, predicts):\n",
    "            weighted_sum += weight * predict[i]\n",
    "    \n",
    "        combined_weight = sum(weights)\n",
    "        weighted_avg = weighted_sum / combined_weight\n",
    "            \n",
    "        if weighted_avg < threshold:\n",
    "            new_predict.append(0)\n",
    "        else:\n",
    "            new_predict.append(1)\n",
    "\n",
    "    print(\"Aggregated prediction results:\")\n",
    "    helper.display_metrics(y_test, new_predict)"
   ],
   "metadata": {
    "collapsed": false,
    "ExecuteTime": {
     "end_time": "2023-11-29T21:03:05.448114600Z",
     "start_time": "2023-11-29T21:03:05.432477Z"
    }
   },
   "id": "43257488f8043e97"
  },
  {
   "cell_type": "code",
   "execution_count": 20,
   "outputs": [
    {
     "data": {
      "text/plain": "[0.86087805, 0.86141851, 0.86014645]"
     },
     "execution_count": 20,
     "metadata": {},
     "output_type": "execute_result"
    }
   ],
   "source": [
    "filename = './received_models/ratio.txt'\n",
    "ratio_dict = {}\n",
    "with open(filename, 'r') as file:\n",
    "    for line in file:\n",
    "        key, value = line.strip().split(':')\n",
    "        ratio_dict[int(key)] = float(value)\n",
    "\n",
    "weights = [ratio_dict[1], ratio_dict[2], ratio_dict[3]]\n",
    "weights"
   ],
   "metadata": {
    "collapsed": false,
    "ExecuteTime": {
     "end_time": "2023-11-29T21:03:05.464128100Z",
     "start_time": "2023-11-29T21:03:05.448114600Z"
    }
   },
   "id": "428454180bbb40a4"
  },
  {
   "cell_type": "code",
   "execution_count": 21,
   "outputs": [
    {
     "name": "stdout",
     "output_type": "stream",
     "text": [
      "Local model 1 prediction results:\n",
      "---------------------\n",
      "Accuracy : 0.95175652\n",
      "Precision: 0.95148055\n",
      "Recall   : 0.95175652\n",
      "F1 Score : 0.94857914\n",
      "---------------------\n",
      "\n",
      "Local model 2 prediction results:\n",
      "---------------------\n",
      "Accuracy : 0.95080303\n",
      "Precision: 0.95053143\n",
      "Recall   : 0.95080303\n",
      "F1 Score : 0.94746805\n",
      "---------------------\n",
      "\n",
      "Local model 3 prediction results:\n",
      "---------------------\n",
      "Accuracy : 0.95153097\n",
      "Precision: 0.95125416\n",
      "Recall   : 0.95153097\n",
      "F1 Score : 0.94831781\n",
      "---------------------\n",
      "\n",
      "Aggregated prediction results:\n",
      "---------------------\n",
      "Accuracy : 0.97479405\n",
      "Precision: 0.97477375\n",
      "Recall   : 0.97479405\n",
      "F1 Score : 0.97478376\n",
      "---------------------\n",
      "\n"
     ]
    }
   ],
   "source": [
    "_, X_test, y_test = helper.load_testset(test_size=0.3)\n",
    "models = ['./received_models/client_1.joblib', './received_models/client_2.joblib', './received_models/client_3.joblib']\n",
    "\n",
    "aggregate_predict(\n",
    "    models=models,\n",
    "    weights=weights,\n",
    "    X_test=X_test, \n",
    "    y_test=y_test,\n",
    ")"
   ],
   "metadata": {
    "collapsed": false,
    "ExecuteTime": {
     "end_time": "2023-11-29T21:03:15.414754400Z",
     "start_time": "2023-11-29T21:03:05.464128100Z"
    }
   },
   "id": "5354fbafc496eade"
  }
 ],
 "metadata": {
  "kernelspec": {
   "display_name": "Python 3",
   "language": "python",
   "name": "python3"
  },
  "language_info": {
   "codemirror_mode": {
    "name": "ipython",
    "version": 2
   },
   "file_extension": ".py",
   "mimetype": "text/x-python",
   "name": "python",
   "nbconvert_exporter": "python",
   "pygments_lexer": "ipython2",
   "version": "2.7.6"
  }
 },
 "nbformat": 4,
 "nbformat_minor": 5
}
