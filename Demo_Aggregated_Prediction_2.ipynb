{
 "cells": [
  {
   "cell_type": "markdown",
   "id": "ef6e5aff929320e6",
   "metadata": {
    "collapsed": false,
    "jupyter": {
     "outputs_hidden": false
    }
   },
   "source": [
    "# Demonstrate the Aggregated Prediction Methods Using Different Classifiers"
   ]
  },
  {
   "cell_type": "code",
   "execution_count": 1,
   "id": "initial_id",
   "metadata": {
    "ExecuteTime": {
     "end_time": "2024-01-03T18:49:47.564946400Z",
     "start_time": "2024-01-03T18:49:46.794791700Z"
    },
    "collapsed": true,
    "jupyter": {
     "outputs_hidden": true
    }
   },
   "outputs": [],
   "source": [
    "import helper\n",
    "import aggregated_predict as ap\n",
    "import os\n",
    "from sklearn.ensemble import RandomForestClassifier\n",
    "from sklearn.linear_model import LogisticRegression\n",
    "from sklearn.ensemble import GradientBoostingClassifier\n",
    "from sklearn import svm\n",
    "import pandas as pd\n",
    "import joblib\n",
    "import time\n",
    "import warnings\n",
    "warnings.simplefilter('ignore')"
   ]
  },
  {
   "cell_type": "code",
   "execution_count": 2,
   "id": "e4cbc6ee29f94806",
   "metadata": {
    "ExecuteTime": {
     "end_time": "2024-01-03T18:49:47.581055800Z",
     "start_time": "2024-01-03T18:49:47.566844800Z"
    },
    "collapsed": false,
    "jupyter": {
     "outputs_hidden": false
    }
   },
   "outputs": [],
   "source": [
    "path = \"./new_models\"\n",
    "os.makedirs(path, exist_ok=True)"
   ]
  },
  {
   "cell_type": "markdown",
   "id": "ce31b0626fc89e48",
   "metadata": {
    "collapsed": false,
    "jupyter": {
     "outputs_hidden": false
    }
   },
   "source": [
    "### Train Client Model"
   ]
  },
  {
   "cell_type": "code",
   "execution_count": 3,
   "id": "b64a1c8843846d4f",
   "metadata": {
    "ExecuteTime": {
     "end_time": "2024-01-03T18:49:56.011249500Z",
     "start_time": "2024-01-03T18:49:47.582052500Z"
    },
    "collapsed": false,
    "jupyter": {
     "outputs_hidden": false
    }
   },
   "outputs": [
    {
     "data": {
      "text/plain": [
       "['./new_models/client_1.joblib']"
      ]
     },
     "execution_count": 3,
     "metadata": {},
     "output_type": "execute_result"
    }
   ],
   "source": [
    "rf = RandomForestClassifier()\n",
    "X_train, y_train = helper.load_sensor_train_set(0)\n",
    "rf.fit(X_train, y_train)\n",
    "rf_filename = f'{path}/client_1.joblib'\n",
    "joblib.dump(rf, filename=rf_filename)"
   ]
  },
  {
   "cell_type": "code",
   "execution_count": 4,
   "id": "617a9928f053f38f",
   "metadata": {
    "ExecuteTime": {
     "end_time": "2024-01-03T18:49:56.212140200Z",
     "start_time": "2024-01-03T18:49:56.013249900Z"
    },
    "collapsed": false,
    "jupyter": {
     "outputs_hidden": false
    }
   },
   "outputs": [
    {
     "data": {
      "text/plain": [
       "['./new_models/client_2.joblib']"
      ]
     },
     "execution_count": 4,
     "metadata": {},
     "output_type": "execute_result"
    }
   ],
   "source": [
    "lr = LogisticRegression()\n",
    "X_train, y_train = helper.load_sensor_train_set(1)\n",
    "lr.fit(X_train, y_train)\n",
    "lr_filename = f'{path}/client_2.joblib'\n",
    "joblib.dump(lr, filename=lr_filename)"
   ]
  },
  {
   "cell_type": "code",
   "execution_count": 5,
   "id": "65db57480c72400b",
   "metadata": {
    "ExecuteTime": {
     "end_time": "2024-01-03T18:50:00.789872200Z",
     "start_time": "2024-01-03T18:49:56.214144900Z"
    },
    "collapsed": false,
    "jupyter": {
     "outputs_hidden": false
    }
   },
   "outputs": [
    {
     "data": {
      "text/plain": [
       "['./new_models/client_3.joblib']"
      ]
     },
     "execution_count": 5,
     "metadata": {},
     "output_type": "execute_result"
    }
   ],
   "source": [
    "gb = GradientBoostingClassifier()\n",
    "X_train, y_train = helper.load_sensor_train_set(2)\n",
    "gb.fit(X_train, y_train)\n",
    "gb_filename = f'{path}/client_3.joblib'\n",
    "joblib.dump(gb, filename=gb_filename)"
   ]
  },
  {
   "cell_type": "markdown",
   "id": "eff5351e513122bc",
   "metadata": {
    "collapsed": false,
    "jupyter": {
     "outputs_hidden": false
    }
   },
   "source": [
    "### Train Server Model"
   ]
  },
  {
   "cell_type": "code",
   "execution_count": 6,
   "id": "4046cea4e5b7597c",
   "metadata": {
    "ExecuteTime": {
     "end_time": "2024-01-03T18:51:36.986916900Z",
     "start_time": "2024-01-03T18:50:00.790772200Z"
    },
    "collapsed": false,
    "jupyter": {
     "outputs_hidden": false
    }
   },
   "outputs": [
    {
     "data": {
      "text/plain": [
       "['./new_models/server.joblib']"
      ]
     },
     "execution_count": 6,
     "metadata": {},
     "output_type": "execute_result"
    }
   ],
   "source": [
    "sv = svm.SVC()\n",
    "X_train, y_train = helper.load_network_train_set()\n",
    "sv.fit(X_train, y_train)\n",
    "sv_filename = f'{path}/server.joblib'\n",
    "joblib.dump(sv, filename=sv_filename)"
   ]
  },
  {
   "cell_type": "markdown",
   "id": "880c954dc5c040e",
   "metadata": {
    "collapsed": false,
    "jupyter": {
     "outputs_hidden": false
    }
   },
   "source": [
    "## 1. Testing of each model and demonstration of model aggregated prediction methods"
   ]
  },
  {
   "cell_type": "code",
   "execution_count": 7,
   "id": "43896ae5747d4967",
   "metadata": {
    "ExecuteTime": {
     "end_time": "2024-01-03T18:52:00.578359100Z",
     "start_time": "2024-01-03T18:51:36.988918200Z"
    },
    "collapsed": false,
    "jupyter": {
     "outputs_hidden": false
    }
   },
   "outputs": [
    {
     "name": "stdout",
     "output_type": "stream",
     "text": [
      "Client 1 Prediction Results:\n",
      "-----------------------------\n",
      "Accuracy : 0.9368133893681339\n",
      "Precision: 0.9368099891926216\n",
      "Recall   : 0.9368133893681339\n",
      "F1 Score : 0.936811674567257\n",
      "-----------------------------\n",
      "\n",
      "\n",
      "Client 2 Prediction Results:\n",
      "-----------------------------\n",
      "Accuracy : 0.6134336061343361\n",
      "Precision: 0.5893461391130598\n",
      "Recall   : 0.6134336061343361\n",
      "F1 Score : 0.536363845859584\n",
      "-----------------------------\n",
      "\n",
      "\n",
      "Client 3 Prediction Results:\n",
      "-----------------------------\n",
      "Accuracy : 0.725503207255032\n",
      "Precision: 0.725294326589992\n",
      "Recall   : 0.725503207255032\n",
      "F1 Score : 0.7253965347864355\n",
      "-----------------------------\n",
      "\n",
      "Server Prediction Results:\n",
      "-----------------------------\n",
      "Accuracy : 0.9703113863697805\n",
      "Precision: 0.9702982410553063\n",
      "Recall   : 0.9703113863697805\n",
      "F1 Score : 0.9703032830767097\n",
      "-----------------------------\n"
     ]
    }
   ],
   "source": [
    "# Load the testing set\n",
    "sensor_test, network_test = helper.load_test_set()\n",
    "\n",
    "# Load the models\n",
    "sensor_models = [rf_filename, lr_filename, gb_filename]\n",
    "network_model = sv_filename\n",
    "\n",
    "# Test models \n",
    "models_predictions, models_metrics = ap.get_predictions_and_metrics(\n",
    "    local_models=sensor_models,\n",
    "    sensor_test=sensor_test,\n",
    "    global_model=network_model,\n",
    "    network_test=network_test,\n",
    "    roc=False\n",
    ")"
   ]
  },
  {
   "cell_type": "code",
   "execution_count": 8,
   "id": "a7b64237f24e8309",
   "metadata": {
    "ExecuteTime": {
     "end_time": "2024-01-03T18:52:00.596846400Z",
     "start_time": "2024-01-03T18:52:00.579358800Z"
    },
    "collapsed": false,
    "jupyter": {
     "outputs_hidden": false
    }
   },
   "outputs": [],
   "source": [
    "# Load network testing set, set the weights\n",
    "y_test = network_test.iloc[:, -1]\n",
    "model_weights = [0.2, 0.2, 0.2, 0.4]"
   ]
  },
  {
   "cell_type": "code",
   "execution_count": 9,
   "id": "76140c23d0568c66",
   "metadata": {
    "ExecuteTime": {
     "end_time": "2024-01-03T18:52:00.648134800Z",
     "start_time": "2024-01-03T18:52:00.594846500Z"
    },
    "collapsed": false,
    "jupyter": {
     "outputs_hidden": false
    }
   },
   "outputs": [
    {
     "name": "stdout",
     "output_type": "stream",
     "text": [
      "Aggregated Prediction by Score:\n",
      "-----------------------------\n",
      "Accuracy : 0.9606281796062818\n",
      "Precision: 0.961352861563956\n",
      "Recall   : 0.9606281796062818\n",
      "F1 Score : 0.9603912608053311\n",
      "-----------------------------\n"
     ]
    },
    {
     "data": {
      "text/plain": [
       "(0.9606281796062818, 0.961352861563956, 0.9606281796062818, 0.9603912608053311)"
      ]
     },
     "execution_count": 9,
     "metadata": {},
     "output_type": "execute_result"
    }
   ],
   "source": [
    "print(f\"Aggregated Prediction by Score:\")\n",
    "score = ap.aggregate_predict_by_score(\n",
    "    models_predictions=models_predictions,\n",
    "    models_metrics=models_metrics,\n",
    "    models_weights=model_weights)\n",
    "helper.get_metrics(y_test, score, printout=True)"
   ]
  },
  {
   "cell_type": "code",
   "execution_count": 10,
   "id": "3ceea053fbad58cd",
   "metadata": {
    "ExecuteTime": {
     "end_time": "2024-01-03T18:52:00.717136600Z",
     "start_time": "2024-01-03T18:52:00.669135200Z"
    },
    "collapsed": false,
    "jupyter": {
     "outputs_hidden": false
    }
   },
   "outputs": [
    {
     "name": "stdout",
     "output_type": "stream",
     "text": [
      "Aggregated Prediction by Vote:\n",
      "-----------------------------\n",
      "Accuracy : 0.9425151760918185\n",
      "Precision: 0.9473965121355862\n",
      "Recall   : 0.9425151760918185\n",
      "F1 Score : 0.942961577231457\n",
      "-----------------------------\n",
      "\n"
     ]
    },
    {
     "data": {
      "text/plain": [
       "(0.9425151760918185, 0.9473965121355862, 0.9425151760918185, 0.942961577231457)"
      ]
     },
     "execution_count": 10,
     "metadata": {},
     "output_type": "execute_result"
    }
   ],
   "source": [
    "print(f\"Aggregated Prediction by Vote:\")\n",
    "vote = ap.aggregate_predict_by_vote(models_predictions=models_predictions)\n",
    "helper.get_metrics(y_test, vote, printout=True)"
   ]
  },
  {
   "cell_type": "markdown",
   "id": "bbf48954502127e6",
   "metadata": {
    "collapsed": false,
    "jupyter": {
     "outputs_hidden": false
    }
   },
   "source": [
    "## 2. Simulation of Intrusion Detection in Wireless Sensor Networks\n",
    "\n",
    "Once the WSN simulation starts, the sensors in the nodes will collect new sensing data, these data need to pass the validation of the local models first. The data that passes the validation will be sent to the server and the data that does not pass will be discarded. Once the server receives the sensed data, it will validate the sensor data and the network traffic generated by the transmitted data by aggregated prediction method to give the final validation result. If the data passes the validation, the data is saved, otherwise, the data is discarded."
   ]
  },
  {
   "cell_type": "code",
   "execution_count": 11,
   "id": "70963b012cf31c19",
   "metadata": {
    "ExecuteTime": {
     "end_time": "2024-01-03T18:52:00.760904800Z",
     "start_time": "2024-01-03T18:52:00.719136Z"
    },
    "collapsed": false,
    "jupyter": {
     "outputs_hidden": false
    }
   },
   "outputs": [
    {
     "data": {
      "text/plain": [
       "target\n",
       "0    24635\n",
       "1    16054\n",
       "Name: count, dtype: int64"
      ]
     },
     "execution_count": 11,
     "metadata": {},
     "output_type": "execute_result"
    }
   ],
   "source": [
    "sensor_test['target'].value_counts()"
   ]
  },
  {
   "cell_type": "code",
   "execution_count": 12,
   "id": "2bad1de2ffcce1bc",
   "metadata": {
    "ExecuteTime": {
     "end_time": "2024-01-03T18:52:00.774891600Z",
     "start_time": "2024-01-03T18:52:00.735141500Z"
    },
    "collapsed": false,
    "jupyter": {
     "outputs_hidden": false
    }
   },
   "outputs": [
    {
     "name": "stdout",
     "output_type": "stream",
     "text": [
      "target\n",
      "0    10000\n",
      "1    10000\n",
      "Name: count, dtype: int64\n",
      "target\n",
      "0    10000\n",
      "1    10000\n",
      "Name: count, dtype: int64\n"
     ]
    }
   ],
   "source": [
    "# Select 10000 equally distributed samples from the testing set\n",
    "s0 = sensor_test[sensor_test['target'] == 0].sample(10000)\n",
    "s1 = sensor_test[sensor_test['target'] == 1].sample(10000)\n",
    "sampled_sensor_data = pd.concat([s0, s1])\n",
    "sampled_network_data = network_test.loc[sampled_sensor_data.index]\n",
    "\n",
    "sampled_sensor_data = sampled_sensor_data.reset_index(drop=True)\n",
    "sampled_network_data = sampled_network_data.reset_index(drop=True)\n",
    "\n",
    "print(sampled_sensor_data['target'].value_counts())\n",
    "print(sampled_network_data['target'].value_counts())"
   ]
  },
  {
   "cell_type": "code",
   "execution_count": 13,
   "id": "4504e2d222da9492",
   "metadata": {
    "ExecuteTime": {
     "end_time": "2024-01-03T18:52:01.189503Z",
     "start_time": "2024-01-03T18:52:00.763892100Z"
    },
    "collapsed": false,
    "jupyter": {
     "outputs_hidden": false
    }
   },
   "outputs": [
    {
     "name": "stdout",
     "output_type": "stream",
     "text": [
      "-----------------------------\n",
      "Accuracy : 0.93395\n",
      "Precision: 0.9344145150968479\n",
      "Recall   : 0.93395\n",
      "F1 Score : 0.9339323386275928\n",
      "-----------------------------\n"
     ]
    },
    {
     "data": {
      "text/plain": [
       "(0.93395, 0.9344145150968479, 0.93395, 0.9339323386275928)"
      ]
     },
     "execution_count": 13,
     "metadata": {},
     "output_type": "execute_result"
    }
   ],
   "source": [
    "# Use Client 1 as an example\n",
    "client_1_model = joblib.load(rf_filename)\n",
    "test_X = sampled_sensor_data.iloc[:, :-1]\n",
    "test_y = sampled_sensor_data.iloc[:, -1]\n",
    "client_1_predict = client_1_model.predict(test_X)\n",
    "helper.get_metrics(test_y, client_1_predict, printout=True)"
   ]
  },
  {
   "cell_type": "code",
   "execution_count": 14,
   "id": "72bb326cbe0f4db9",
   "metadata": {
    "ExecuteTime": {
     "end_time": "2024-01-03T18:52:01.209119500Z",
     "start_time": "2024-01-03T18:52:01.191385900Z"
    },
    "collapsed": false,
    "jupyter": {
     "outputs_hidden": false
    }
   },
   "outputs": [
    {
     "data": {
      "text/plain": [
       "Pred\n",
       "0    10327\n",
       "1     9673\n",
       "Name: count, dtype: int64"
      ]
     },
     "execution_count": 14,
     "metadata": {},
     "output_type": "execute_result"
    }
   ],
   "source": [
    "client_1_predict_df = pd.DataFrame(client_1_predict, columns=['Pred'])\n",
    "client_1_predict_df['Pred'].value_counts()"
   ]
  },
  {
   "cell_type": "code",
   "execution_count": 15,
   "id": "d25bb69840b319dd",
   "metadata": {
    "ExecuteTime": {
     "end_time": "2024-01-03T18:52:01.264423300Z",
     "start_time": "2024-01-03T18:52:01.208112100Z"
    },
    "collapsed": false,
    "jupyter": {
     "outputs_hidden": false
    }
   },
   "outputs": [
    {
     "name": "stdout",
     "output_type": "stream",
     "text": [
      "target\n",
      "0    9503\n",
      "1     824\n",
      "Name: count, dtype: int64\n",
      "target\n",
      "0    9503\n",
      "1     824\n",
      "Name: count, dtype: int64\n"
     ]
    }
   ],
   "source": [
    "# Client 1 will test the sensor data locally, only those that pass will be sent to the server\n",
    "# Drop false data, target = 1\n",
    "rows_to_keep = client_1_predict_df['Pred'] == 0\n",
    "filtered_sensor_data = sampled_sensor_data[rows_to_keep]\n",
    "filtered_network_data = sampled_network_data[rows_to_keep]\n",
    "\n",
    "print(filtered_sensor_data['target'].value_counts())\n",
    "print(filtered_network_data['target'].value_counts())"
   ]
  },
  {
   "cell_type": "code",
   "execution_count": 16,
   "id": "c8a12fb55cc40f84",
   "metadata": {
    "ExecuteTime": {
     "end_time": "2024-01-03T18:52:07.341923900Z",
     "start_time": "2024-01-03T18:52:01.221005300Z"
    },
    "collapsed": false,
    "jupyter": {
     "outputs_hidden": false
    }
   },
   "outputs": [
    {
     "name": "stdout",
     "output_type": "stream",
     "text": [
      "Client 1 Prediction Results:\n",
      "-----------------------------\n",
      "Accuracy : 0.920209160453181\n",
      "Precision: 0.8467848989819483\n",
      "Recall   : 0.920209160453181\n",
      "F1 Score : 0.8819715231252223\n",
      "-----------------------------\n",
      "\n",
      "\n",
      "Client 2 Prediction Results:\n",
      "-----------------------------\n",
      "Accuracy : 0.8562021884380749\n",
      "Precision: 0.8504789762813871\n",
      "Recall   : 0.8562021884380749\n",
      "F1 Score : 0.8533203909060002\n",
      "-----------------------------\n",
      "\n",
      "\n",
      "Client 3 Prediction Results:\n",
      "-----------------------------\n",
      "Accuracy : 0.7662438268616248\n",
      "Precision: 0.8738802720688298\n",
      "Recall   : 0.7662438268616248\n",
      "F1 Score : 0.8106068733898153\n",
      "-----------------------------\n",
      "\n",
      "Server Prediction Results:\n",
      "-----------------------------\n",
      "Accuracy : 0.9750169458700494\n",
      "Precision: 0.9784315604979368\n",
      "Recall   : 0.9750169458700494\n",
      "F1 Score : 0.9760611484560915\n",
      "-----------------------------\n"
     ]
    }
   ],
   "source": [
    "# Test Client 1 data using all models\n",
    "new_models_predictions, new_models_metrics = ap.get_predictions_and_metrics(\n",
    "    local_models=sensor_models,\n",
    "    sensor_test=filtered_sensor_data,\n",
    "    global_model=network_model,\n",
    "    network_test=filtered_network_data,\n",
    "    roc=False\n",
    ")"
   ]
  },
  {
   "cell_type": "code",
   "execution_count": 17,
   "id": "edac08ba9789d9e8",
   "metadata": {
    "ExecuteTime": {
     "end_time": "2024-01-03T18:52:07.368961500Z",
     "start_time": "2024-01-03T18:52:07.342922700Z"
    },
    "collapsed": false,
    "jupyter": {
     "outputs_hidden": false
    }
   },
   "outputs": [],
   "source": [
    "# Load Client 1 network testing set\n",
    "new_y_test = filtered_network_data.iloc[:, -1]"
   ]
  },
  {
   "cell_type": "code",
   "execution_count": 18,
   "id": "e5c0badd8391a815",
   "metadata": {
    "ExecuteTime": {
     "end_time": "2024-01-03T18:52:07.378944800Z",
     "start_time": "2024-01-03T18:52:07.359939500Z"
    },
    "collapsed": false,
    "jupyter": {
     "outputs_hidden": false
    }
   },
   "outputs": [
    {
     "name": "stdout",
     "output_type": "stream",
     "text": [
      "Client 1 Aggregated Prediction by Score:\n",
      "-----------------------------\n",
      "Accuracy : 0.9449017139537136\n",
      "Precision: 0.9403611603591695\n",
      "Recall   : 0.9449017139537136\n",
      "F1 Score : 0.935038807886683\n",
      "-----------------------------\n",
      "\n",
      "\n",
      "Time spent predicting 10327 pieces of data: 0.0 second, average time spent: 0.0 seconds.\n"
     ]
    }
   ],
   "source": [
    "print(f\"Client 1 Aggregated Prediction by Score:\")\n",
    "start_time = time.time()\n",
    "\n",
    "new_score = ap.aggregate_predict_by_score(\n",
    "    models_predictions=new_models_predictions,\n",
    "    models_metrics=new_models_metrics,\n",
    "    models_weights=model_weights)\n",
    "\n",
    "end_time = time.time()\n",
    "rows = len(new_models_predictions[0])\n",
    "time_spend = end_time - start_time\n",
    "\n",
    "helper.get_metrics(new_y_test, new_score, printout=True)\n",
    "print(f\"Time spent predicting {rows} pieces of data: {time_spend} second, average time spent: {time_spend / rows} seconds.\")"
   ]
  },
  {
   "cell_type": "code",
   "execution_count": 19,
   "id": "614350c626a4118",
   "metadata": {
    "ExecuteTime": {
     "end_time": "2024-01-03T18:52:07.433038500Z",
     "start_time": "2024-01-03T18:52:07.375939700Z"
    },
    "collapsed": false,
    "jupyter": {
     "outputs_hidden": false
    }
   },
   "outputs": [
    {
     "name": "stdout",
     "output_type": "stream",
     "text": [
      "Client 1 Aggregated Prediction by Vote:\n",
      "-----------------------------\n",
      "Accuracy : 0.9474193860753365\n",
      "Precision: 0.9649183981693704\n",
      "Recall   : 0.9474193860753365\n",
      "F1 Score : 0.9525621287905796\n",
      "-----------------------------\n",
      "\n",
      "\n",
      "Time spent predicting 10327 pieces of data: 0.007035493850708008 second, average time spent: 6.812717972991195e-07 seconds.\n"
     ]
    }
   ],
   "source": [
    "print(f\"Client 1 Aggregated Prediction by Vote:\")\n",
    "start_time = time.time()\n",
    "\n",
    "new_vote = ap.aggregate_predict_by_vote(models_predictions=new_models_predictions)\n",
    "\n",
    "end_time = time.time()\n",
    "time_spend = end_time - start_time\n",
    "\n",
    "helper.get_metrics(new_y_test, new_vote, printout=True)\n",
    "print(f\"Time spent predicting {rows} pieces of data: {time_spend} second, average time spent: {time_spend / rows} seconds.\")"
   ]
  },
  {
   "cell_type": "code",
   "execution_count": 19,
   "id": "c927c3923da32d58",
   "metadata": {
    "ExecuteTime": {
     "end_time": "2024-01-03T18:52:07.443041600Z",
     "start_time": "2024-01-03T18:52:07.406977Z"
    },
    "collapsed": false,
    "jupyter": {
     "outputs_hidden": false
    }
   },
   "outputs": [],
   "source": []
  }
 ],
 "metadata": {
  "kernelspec": {
   "display_name": "Python 3 (ipykernel)",
   "language": "python",
   "name": "python3"
  },
  "language_info": {
   "codemirror_mode": {
    "name": "ipython",
    "version": 3
   },
   "file_extension": ".py",
   "mimetype": "text/x-python",
   "name": "python",
   "nbconvert_exporter": "python",
   "pygments_lexer": "ipython3",
   "version": "3.10.11"
  }
 },
 "nbformat": 4,
 "nbformat_minor": 5
}
