{
 "cells": [
  {
   "cell_type": "markdown",
   "source": [
    "# Demonstrate the Aggregated Prediction Methods Using Different Classifiers"
   ],
   "metadata": {
    "collapsed": false
   },
   "id": "ef6e5aff929320e6"
  },
  {
   "cell_type": "code",
   "execution_count": 1,
   "id": "initial_id",
   "metadata": {
    "collapsed": true,
    "ExecuteTime": {
     "end_time": "2023-12-27T19:49:18.883300100Z",
     "start_time": "2023-12-27T19:49:18.023894700Z"
    }
   },
   "outputs": [],
   "source": [
    "import helper\n",
    "import aggregated_predict as ap\n",
    "import os\n",
    "from sklearn.ensemble import RandomForestClassifier\n",
    "from sklearn.linear_model import LogisticRegression\n",
    "from sklearn.ensemble import GradientBoostingClassifier\n",
    "from sklearn import svm\n",
    "import pandas as pd\n",
    "import joblib\n",
    "import time\n",
    "import warnings\n",
    "warnings.simplefilter('ignore')"
   ]
  },
  {
   "cell_type": "code",
   "execution_count": 2,
   "outputs": [],
   "source": [
    "path = \"./new_models\"\n",
    "os.makedirs(path, exist_ok=True)"
   ],
   "metadata": {
    "collapsed": false,
    "ExecuteTime": {
     "end_time": "2023-12-27T19:49:18.898938900Z",
     "start_time": "2023-12-27T19:49:18.884300600Z"
    }
   },
   "id": "e4cbc6ee29f94806"
  },
  {
   "cell_type": "markdown",
   "source": [
    "### Train Client Model"
   ],
   "metadata": {
    "collapsed": false
   },
   "id": "ce31b0626fc89e48"
  },
  {
   "cell_type": "code",
   "execution_count": 3,
   "outputs": [
    {
     "data": {
      "text/plain": "['./new_models/client_1.joblib']"
     },
     "execution_count": 3,
     "metadata": {},
     "output_type": "execute_result"
    }
   ],
   "source": [
    "rf = RandomForestClassifier()\n",
    "X_train, y_train = helper.load_sensor_train_set(0)\n",
    "rf.fit(X_train, y_train)\n",
    "rf_filename = f'{path}/client_1.joblib'\n",
    "joblib.dump(rf, filename=rf_filename)"
   ],
   "metadata": {
    "collapsed": false,
    "ExecuteTime": {
     "end_time": "2023-12-27T19:49:27.522716100Z",
     "start_time": "2023-12-27T19:49:18.899938800Z"
    }
   },
   "id": "b64a1c8843846d4f"
  },
  {
   "cell_type": "code",
   "execution_count": 4,
   "outputs": [
    {
     "data": {
      "text/plain": "['./new_models/client_2.joblib']"
     },
     "execution_count": 4,
     "metadata": {},
     "output_type": "execute_result"
    }
   ],
   "source": [
    "lr = LogisticRegression()\n",
    "X_train, y_train = helper.load_sensor_train_set(1)\n",
    "lr.fit(X_train, y_train)\n",
    "lr_filename = f'{path}/client_2.joblib'\n",
    "joblib.dump(lr, filename=lr_filename)"
   ],
   "metadata": {
    "collapsed": false,
    "ExecuteTime": {
     "end_time": "2023-12-27T19:49:27.726105700Z",
     "start_time": "2023-12-27T19:49:27.519717500Z"
    }
   },
   "id": "617a9928f053f38f"
  },
  {
   "cell_type": "code",
   "execution_count": 5,
   "outputs": [
    {
     "data": {
      "text/plain": "['./new_models/client_3.joblib']"
     },
     "execution_count": 5,
     "metadata": {},
     "output_type": "execute_result"
    }
   ],
   "source": [
    "gb = GradientBoostingClassifier()\n",
    "X_train, y_train = helper.load_sensor_train_set(2)\n",
    "gb.fit(X_train, y_train)\n",
    "gb_filename = f'{path}/client_3.joblib'\n",
    "joblib.dump(gb, filename=gb_filename)"
   ],
   "metadata": {
    "collapsed": false,
    "ExecuteTime": {
     "end_time": "2023-12-27T19:49:32.393436200Z",
     "start_time": "2023-12-27T19:49:27.721087200Z"
    }
   },
   "id": "65db57480c72400b"
  },
  {
   "cell_type": "markdown",
   "source": [
    "### Train Server Model"
   ],
   "metadata": {
    "collapsed": false
   },
   "id": "eff5351e513122bc"
  },
  {
   "cell_type": "code",
   "execution_count": 6,
   "outputs": [
    {
     "data": {
      "text/plain": "['./new_models/server.joblib']"
     },
     "execution_count": 6,
     "metadata": {},
     "output_type": "execute_result"
    }
   ],
   "source": [
    "sv = svm.SVC()\n",
    "X_train, y_train = helper.load_network_train_set()\n",
    "sv.fit(X_train, y_train)\n",
    "sv_filename = f'{path}/server.joblib'\n",
    "joblib.dump(sv, filename=sv_filename)"
   ],
   "metadata": {
    "collapsed": false,
    "ExecuteTime": {
     "end_time": "2023-12-27T19:51:03.200858100Z",
     "start_time": "2023-12-27T19:49:32.394452Z"
    }
   },
   "id": "4046cea4e5b7597c"
  },
  {
   "cell_type": "markdown",
   "source": [
    "## 1. Testing of each model and demonstration of model aggregated prediction methods"
   ],
   "metadata": {
    "collapsed": false
   },
   "id": "880c954dc5c040e"
  },
  {
   "cell_type": "code",
   "execution_count": 7,
   "outputs": [
    {
     "name": "stdout",
     "output_type": "stream",
     "text": [
      "Sensor Model 1 Prediction Results:\n",
      "-----------------------------\n",
      "Accuracy : 0.9343311460099781\n",
      "Precision: 0.9343095014760292\n",
      "Recall   : 0.9343311460099781\n",
      "F1 Score : 0.9343197930393493\n",
      "-----------------------------\n",
      "\n",
      "\n",
      "Sensor Model 2 Prediction Results:\n",
      "-----------------------------\n",
      "Accuracy : 0.617685369510187\n",
      "Precision: 0.5910909835828869\n",
      "Recall   : 0.617685369510187\n",
      "F1 Score : 0.5362617851122214\n",
      "-----------------------------\n",
      "\n",
      "\n",
      "Sensor Model 3 Prediction Results:\n",
      "-----------------------------\n",
      "Accuracy : 0.7331465506647988\n",
      "Precision: 0.7318530595197775\n",
      "Recall   : 0.7331465506647988\n",
      "F1 Score : 0.7324052456713047\n",
      "-----------------------------\n",
      "\n",
      "Network Model Prediction Results:\n",
      "-----------------------------\n",
      "Accuracy : 0.9708520730418541\n",
      "Precision: 0.9708464335148319\n",
      "Recall   : 0.9708520730418541\n",
      "F1 Score : 0.9708490539674421\n",
      "-----------------------------\n"
     ]
    }
   ],
   "source": [
    "# Load the testing set\n",
    "sensor_test, network_test = helper.load_test_set()\n",
    "\n",
    "# Load the models\n",
    "sensor_models = [rf_filename, lr_filename, gb_filename]\n",
    "network_model = sv_filename\n",
    "\n",
    "# Test models \n",
    "models_predictions, models_metrics = ap.get_predictions_and_metrics(\n",
    "    local_models=sensor_models,\n",
    "    sensor_test=sensor_test,\n",
    "    global_model=network_model,\n",
    "    network_test=network_test,\n",
    "    roc=False\n",
    ")"
   ],
   "metadata": {
    "collapsed": false,
    "ExecuteTime": {
     "end_time": "2023-12-27T19:51:25.882934300Z",
     "start_time": "2023-12-27T19:51:03.204671400Z"
    }
   },
   "id": "43896ae5747d4967"
  },
  {
   "cell_type": "code",
   "execution_count": 8,
   "outputs": [],
   "source": [
    "# Load network testing set, set the weights\n",
    "y_test = network_test.iloc[:, -1]\n",
    "model_weights = [0.2, 0.2, 0.2, 0.4]"
   ],
   "metadata": {
    "collapsed": false,
    "ExecuteTime": {
     "end_time": "2023-12-27T19:51:25.921645300Z",
     "start_time": "2023-12-27T19:51:25.883832100Z"
    }
   },
   "id": "a7b64237f24e8309"
  },
  {
   "cell_type": "code",
   "execution_count": 9,
   "outputs": [
    {
     "name": "stdout",
     "output_type": "stream",
     "text": [
      "Aggregated Prediction by Score:\n",
      "-----------------------------\n",
      "Accuracy : 0.9589569662562363\n",
      "Precision: 0.9598455951220688\n",
      "Recall   : 0.9589569662562363\n",
      "F1 Score : 0.958666447873014\n",
      "-----------------------------\n"
     ]
    },
    {
     "data": {
      "text/plain": "(0.9589569662562363, 0.9598455951220688, 0.9589569662562363, 0.958666447873014)"
     },
     "execution_count": 9,
     "metadata": {},
     "output_type": "execute_result"
    }
   ],
   "source": [
    "print(f\"Aggregated Prediction by Score:\")\n",
    "score = ap.aggregate_predict_by_score(\n",
    "    models_predictions=models_predictions,\n",
    "    models_metrics=models_metrics,\n",
    "    models_weights=model_weights)\n",
    "helper.get_metrics(y_test, score, printout=True)"
   ],
   "metadata": {
    "collapsed": false,
    "ExecuteTime": {
     "end_time": "2023-12-27T19:51:26.021491900Z",
     "start_time": "2023-12-27T19:51:25.899591600Z"
    }
   },
   "id": "76140c23d0568c66"
  },
  {
   "cell_type": "code",
   "execution_count": 10,
   "outputs": [
    {
     "name": "stdout",
     "output_type": "stream",
     "text": [
      "Aggregated Prediction by Vote:\n",
      "-----------------------------\n",
      "Accuracy : 0.9490525694905257\n",
      "Precision: 0.9529983750515859\n",
      "Recall   : 0.9490525694905257\n",
      "F1 Score : 0.9494402510938869\n",
      "-----------------------------\n",
      "\n"
     ]
    },
    {
     "data": {
      "text/plain": "(0.9490525694905257,\n 0.9529983750515859,\n 0.9490525694905257,\n 0.9494402510938869)"
     },
     "execution_count": 10,
     "metadata": {},
     "output_type": "execute_result"
    }
   ],
   "source": [
    "print(f\"Aggregated Prediction by Vote:\")\n",
    "vote = ap.aggregate_predict_by_vote(models_predictions=models_predictions)\n",
    "helper.get_metrics(y_test, vote, printout=True)"
   ],
   "metadata": {
    "collapsed": false,
    "ExecuteTime": {
     "end_time": "2023-12-27T19:51:26.028320300Z",
     "start_time": "2023-12-27T19:51:25.947565100Z"
    }
   },
   "id": "3ceea053fbad58cd"
  },
  {
   "cell_type": "markdown",
   "source": [
    "## 2. Simulation of Intrusion Detection in Wireless Sensor Networks\n",
    "\n",
    "Once the WSN simulation starts, the sensors in the nodes will collect new sensing data, these data need to pass the validation of the local models first. The data that passes the validation will be sent to the server and the data that does not pass will be discarded. Once the server receives the sensed data, it will validate the sensor data and the network traffic generated by the transmitted data by aggregated prediction method to give the final validation result. If the data passes the validation, the data is saved, otherwise, the data is discarded."
   ],
   "metadata": {
    "collapsed": false
   },
   "id": "bbf48954502127e6"
  },
  {
   "cell_type": "code",
   "execution_count": 11,
   "outputs": [
    {
     "data": {
      "text/plain": "target\n0    24863\n1    15826\nName: count, dtype: int64"
     },
     "execution_count": 11,
     "metadata": {},
     "output_type": "execute_result"
    }
   ],
   "source": [
    "sensor_test['target'].value_counts()"
   ],
   "metadata": {
    "collapsed": false,
    "ExecuteTime": {
     "end_time": "2023-12-27T19:51:26.028320300Z",
     "start_time": "2023-12-27T19:51:26.008321100Z"
    }
   },
   "id": "70963b012cf31c19"
  },
  {
   "cell_type": "code",
   "execution_count": 12,
   "outputs": [
    {
     "name": "stdout",
     "output_type": "stream",
     "text": [
      "target\n",
      "0    10000\n",
      "1    10000\n",
      "Name: count, dtype: int64\n",
      "target\n",
      "0    10000\n",
      "1    10000\n",
      "Name: count, dtype: int64\n"
     ]
    }
   ],
   "source": [
    "# Select 10000 equally distributed samples from the testing set\n",
    "s0 = sensor_test[sensor_test['target'] == 0].sample(10000)\n",
    "s1 = sensor_test[sensor_test['target'] == 1].sample(10000)\n",
    "sampled_sensor_data = pd.concat([s0, s1])\n",
    "sampled_network_data = network_test.loc[sampled_sensor_data.index]\n",
    "\n",
    "sampled_sensor_data = sampled_sensor_data.reset_index(drop=True)\n",
    "sampled_network_data = sampled_network_data.reset_index(drop=True)\n",
    "\n",
    "print(sampled_sensor_data['target'].value_counts())\n",
    "print(sampled_network_data['target'].value_counts())"
   ],
   "metadata": {
    "collapsed": false,
    "ExecuteTime": {
     "end_time": "2023-12-27T19:51:26.131354200Z",
     "start_time": "2023-12-27T19:51:26.025321200Z"
    }
   },
   "id": "2bad1de2ffcce1bc"
  },
  {
   "cell_type": "code",
   "execution_count": 13,
   "outputs": [
    {
     "name": "stdout",
     "output_type": "stream",
     "text": [
      "-----------------------------\n",
      "Accuracy : 0.93085\n",
      "Precision: 0.9314310902211078\n",
      "Recall   : 0.93085\n",
      "F1 Score : 0.930826707796116\n",
      "-----------------------------\n"
     ]
    },
    {
     "data": {
      "text/plain": "(0.93085, 0.9314310902211078, 0.93085, 0.930826707796116)"
     },
     "execution_count": 13,
     "metadata": {},
     "output_type": "execute_result"
    }
   ],
   "source": [
    "# Use Client 1 as an example\n",
    "client_1_model = joblib.load(rf_filename)\n",
    "test_X = sampled_sensor_data.iloc[:, :-1]\n",
    "test_y = sampled_sensor_data.iloc[:, -1]\n",
    "client_1_predict = client_1_model.predict(test_X)\n",
    "helper.get_metrics(test_y, client_1_predict, printout=True)"
   ],
   "metadata": {
    "collapsed": false,
    "ExecuteTime": {
     "end_time": "2023-12-27T19:51:26.447728100Z",
     "start_time": "2023-12-27T19:51:26.057335900Z"
    }
   },
   "id": "4504e2d222da9492"
  },
  {
   "cell_type": "code",
   "execution_count": 14,
   "outputs": [
    {
     "data": {
      "text/plain": "Pred\n0    10367\n1     9633\nName: count, dtype: int64"
     },
     "execution_count": 14,
     "metadata": {},
     "output_type": "execute_result"
    }
   ],
   "source": [
    "client_1_predict_df = pd.DataFrame(client_1_predict, columns=['Pred'])\n",
    "client_1_predict_df['Pred'].value_counts()"
   ],
   "metadata": {
    "collapsed": false,
    "ExecuteTime": {
     "end_time": "2023-12-27T19:51:26.525528800Z",
     "start_time": "2023-12-27T19:51:26.448728500Z"
    }
   },
   "id": "72bb326cbe0f4db9"
  },
  {
   "cell_type": "code",
   "execution_count": 15,
   "outputs": [
    {
     "name": "stdout",
     "output_type": "stream",
     "text": [
      "target\n",
      "0    9492\n",
      "1     875\n",
      "Name: count, dtype: int64\n",
      "target\n",
      "0    9492\n",
      "1     875\n",
      "Name: count, dtype: int64\n"
     ]
    }
   ],
   "source": [
    "# Client 1 will test the sensor data locally, only those that pass will be sent to the server\n",
    "# Drop false data, target = 1\n",
    "rows_to_keep = client_1_predict_df['Pred'] == 0\n",
    "filtered_sensor_data = sampled_sensor_data[rows_to_keep]\n",
    "filtered_network_data = sampled_network_data[rows_to_keep]\n",
    "\n",
    "print(filtered_sensor_data['target'].value_counts())\n",
    "print(filtered_network_data['target'].value_counts())"
   ],
   "metadata": {
    "collapsed": false,
    "ExecuteTime": {
     "end_time": "2023-12-27T19:51:26.528528900Z",
     "start_time": "2023-12-27T19:51:26.467642100Z"
    }
   },
   "id": "d25bb69840b319dd"
  },
  {
   "cell_type": "code",
   "execution_count": 16,
   "outputs": [
    {
     "name": "stdout",
     "output_type": "stream",
     "text": [
      "Sensor Model 1 Prediction Results:\n",
      "-----------------------------\n",
      "Accuracy : 0.9155975692099932\n",
      "Precision: 0.8383189087432483\n",
      "Recall   : 0.9155975692099932\n",
      "F1 Score : 0.8752557658433209\n",
      "-----------------------------\n",
      "\n",
      "\n",
      "Sensor Model 2 Prediction Results:\n",
      "-----------------------------\n",
      "Accuracy : 0.8599401948490403\n",
      "Precision: 0.8458741636236434\n",
      "Recall   : 0.8599401948490403\n",
      "F1 Score : 0.8527529403063455\n",
      "-----------------------------\n",
      "\n",
      "\n",
      "Sensor Model 3 Prediction Results:\n",
      "-----------------------------\n",
      "Accuracy : 0.7738979454036847\n",
      "Precision: 0.8617836814859937\n",
      "Recall   : 0.7738979454036847\n",
      "F1 Score : 0.8114721102498307\n",
      "-----------------------------\n",
      "\n",
      "Network Model Prediction Results:\n",
      "-----------------------------\n",
      "Accuracy : 0.9741487411980322\n",
      "Precision: 0.9777019495184126\n",
      "Recall   : 0.9741487411980322\n",
      "F1 Score : 0.9752197405877197\n",
      "-----------------------------\n"
     ]
    }
   ],
   "source": [
    "# Test Client 1 data using all models\n",
    "new_models_predictions, new_models_metrics = ap.get_predictions_and_metrics(\n",
    "    local_models=sensor_models,\n",
    "    sensor_test=filtered_sensor_data,\n",
    "    global_model=network_model,\n",
    "    network_test=filtered_network_data,\n",
    "    roc=False\n",
    ")"
   ],
   "metadata": {
    "collapsed": false,
    "ExecuteTime": {
     "end_time": "2023-12-27T19:51:32.222768600Z",
     "start_time": "2023-12-27T19:51:26.481529900Z"
    }
   },
   "id": "c8a12fb55cc40f84"
  },
  {
   "cell_type": "code",
   "execution_count": 17,
   "outputs": [],
   "source": [
    "# Load Client 1 network testing set, set the weights\n",
    "new_y_test = filtered_network_data.iloc[:, -1]\n",
    "new_model_weights = [0.4, 0.05, 0.05, 0.5]"
   ],
   "metadata": {
    "collapsed": false,
    "ExecuteTime": {
     "end_time": "2023-12-27T19:51:32.243509900Z",
     "start_time": "2023-12-27T19:51:32.223768300Z"
    }
   },
   "id": "edac08ba9789d9e8"
  },
  {
   "cell_type": "code",
   "execution_count": 18,
   "outputs": [
    {
     "name": "stdout",
     "output_type": "stream",
     "text": [
      "Client 1 Aggregated Prediction by Score:\n",
      "-----------------------------\n",
      "Accuracy : 0.9741487411980322\n",
      "Precision: 0.9777019495184126\n",
      "Recall   : 0.9741487411980322\n",
      "F1 Score : 0.9752197405877197\n",
      "-----------------------------\n",
      "\n",
      "\n",
      "Time spent predicting 10367 pieces of data: 0.0 second, average time spent: 0.0 seconds.\n"
     ]
    }
   ],
   "source": [
    "print(f\"Client 1 Aggregated Prediction by Score:\")\n",
    "start_time = time.time()\n",
    "\n",
    "new_score = ap.aggregate_predict_by_score(\n",
    "    models_predictions=new_models_predictions,\n",
    "    models_metrics=new_models_metrics,\n",
    "    models_weights=new_model_weights)\n",
    "\n",
    "end_time = time.time()\n",
    "rows = len(new_models_predictions[0])\n",
    "time_spend = end_time - start_time\n",
    "\n",
    "helper.get_metrics(new_y_test, new_score, printout=True)\n",
    "print(f\"Time spent predicting {rows} pieces of data: {time_spend} second, average time spent: {time_spend / rows} seconds.\")"
   ],
   "metadata": {
    "collapsed": false,
    "ExecuteTime": {
     "end_time": "2023-12-27T19:51:32.329880600Z",
     "start_time": "2023-12-27T19:51:32.240496Z"
    }
   },
   "id": "e5c0badd8391a815"
  },
  {
   "cell_type": "code",
   "execution_count": 19,
   "outputs": [
    {
     "name": "stdout",
     "output_type": "stream",
     "text": [
      "Client 1 Aggregated Prediction by Vote:\n",
      "-----------------------------\n",
      "Accuracy : 0.958618693932671\n",
      "Precision: 0.9690962714291651\n",
      "Recall   : 0.958618693932671\n",
      "F1 Score : 0.9616572324245592\n",
      "-----------------------------\n",
      "\n",
      "\n",
      "Time spent predicting 10367 pieces of data: 0.0091094970703125 second, average time spent: 8.78701366867223e-07 seconds.\n"
     ]
    }
   ],
   "source": [
    "print(f\"Client 1 Aggregated Prediction by Vote:\")\n",
    "start_time = time.time()\n",
    "\n",
    "new_vote = ap.aggregate_predict_by_vote(models_predictions=new_models_predictions)\n",
    "\n",
    "end_time = time.time()\n",
    "time_spend = end_time - start_time\n",
    "\n",
    "helper.get_metrics(new_y_test, new_vote, printout=True)\n",
    "print(f\"Time spent predicting {rows} pieces of data: {time_spend} second, average time spent: {time_spend / rows} seconds.\")"
   ],
   "metadata": {
    "collapsed": false,
    "ExecuteTime": {
     "end_time": "2023-12-27T19:51:32.332774300Z",
     "start_time": "2023-12-27T19:51:32.271293400Z"
    }
   },
   "id": "614350c626a4118"
  },
  {
   "cell_type": "code",
   "execution_count": 19,
   "outputs": [],
   "source": [],
   "metadata": {
    "collapsed": false,
    "ExecuteTime": {
     "end_time": "2023-12-27T19:51:32.332774300Z",
     "start_time": "2023-12-27T19:51:32.301773900Z"
    }
   },
   "id": "c927c3923da32d58"
  }
 ],
 "metadata": {
  "kernelspec": {
   "display_name": "Python 3",
   "language": "python",
   "name": "python3"
  },
  "language_info": {
   "codemirror_mode": {
    "name": "ipython",
    "version": 2
   },
   "file_extension": ".py",
   "mimetype": "text/x-python",
   "name": "python",
   "nbconvert_exporter": "python",
   "pygments_lexer": "ipython2",
   "version": "2.7.6"
  }
 },
 "nbformat": 4,
 "nbformat_minor": 5
}
