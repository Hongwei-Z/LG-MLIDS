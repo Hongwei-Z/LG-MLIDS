{
 "cells": [
  {
   "cell_type": "code",
   "execution_count": 3,
   "id": "472425b580dddcaf",
   "metadata": {
    "collapsed": false,
    "ExecuteTime": {
     "end_time": "2023-10-18T19:03:02.971740100Z",
     "start_time": "2023-10-18T19:02:02.282784700Z"
    }
   },
   "outputs": [],
   "source": [
    "import pandas as pd\n",
    "import numpy as np \n",
    "from matplotlib import pyplot as plt\n",
    "\n",
    "from sklearn.preprocessing import Normalizer\n",
    "from imblearn.under_sampling import RandomUnderSampler\n",
    "from imblearn.over_sampling import SMOTE, RandomOverSampler\n",
    "from sklearn.model_selection import train_test_split\n",
    "\n",
    "\n",
    "import torch \n",
    "import torch.nn as nn \n",
    "from torch.utils.data import random_split, DataLoader, TensorDataset \n",
    "import torch.nn.functional as F\n",
    "import torch.optim as optim\n",
    "\n",
    "import flwr as fl\n",
    "from flwr.common import Metrics\n",
    "\n",
    "import sys"
   ]
  },
  {
   "cell_type": "code",
   "execution_count": 4,
   "outputs": [],
   "source": [
    "# import platform, cpuinfo, GPUtil, psutil\n",
    "# print(f\"OS: {platform.uname().system} {platform.uname().release}\")\n",
    "# print(f\"CPU: {cpuinfo.get_cpu_info()['brand_raw']}\")\n",
    "# print(f\"GPU: {GPUtil.getGPUs()[0].name}\")\n",
    "# print(f\"Memory: {psutil.virtual_memory().total / (1024 ** 3):.2f} GB\")"
   ],
   "metadata": {
    "collapsed": false,
    "ExecuteTime": {
     "end_time": "2023-10-18T19:03:02.984716700Z",
     "start_time": "2023-10-18T19:03:02.971740100Z"
    }
   },
   "id": "4ba5cc17f1cd99fd"
  },
  {
   "cell_type": "code",
   "execution_count": 5,
   "outputs": [
    {
     "name": "stdout",
     "output_type": "stream",
     "text": [
      "Python version: 3.11.4 (tags/v3.11.4:d2340ef, Jun  7 2023, 05:45:37) [MSC v.1934 64 bit (AMD64)]\n",
      "Version info: sys.version_info(major=3, minor=11, micro=4, releaselevel='final', serial=0)\n"
     ]
    }
   ],
   "source": [
    "print(\"Python version:\", sys.version)\n",
    "print(\"Version info:\", sys.version_info)"
   ],
   "metadata": {
    "collapsed": false,
    "ExecuteTime": {
     "end_time": "2023-10-18T19:03:03.005695800Z",
     "start_time": "2023-10-18T19:03:02.988744100Z"
    }
   },
   "id": "a03c08d2241fc3fe"
  },
  {
   "cell_type": "code",
   "execution_count": 6,
   "outputs": [
    {
     "name": "stdout",
     "output_type": "stream",
     "text": [
      "Training on cpu using PyTorch 2.0.1+cpu and Flower 1.5.0\n"
     ]
    }
   ],
   "source": [
    "DEVICE = torch.device(\"cpu\")  # Try \"cuda\" to train on GPU\n",
    "print(\n",
    "    f\"Training on {DEVICE} using PyTorch {torch.__version__} and Flower {fl.__version__}\"\n",
    ")"
   ],
   "metadata": {
    "collapsed": false,
    "ExecuteTime": {
     "end_time": "2023-10-18T19:03:03.022221800Z",
     "start_time": "2023-10-18T19:03:03.005695800Z"
    }
   },
   "id": "f80cb111f6bc6cc6"
  },
  {
   "cell_type": "code",
   "execution_count": 7,
   "outputs": [],
   "source": [
    "# X = dataset.drop('target', axis=1)\n",
    "# y = dataset['target']\n",
    "# X,y\n",
    "\n",
    "# X_global_train, X_global_test, y_global_train, y_global_test = train_test_split(X, y, test_size=0.2, random_state=42)\n",
    "# X_global_train, X_global_test, y_global_train, y_global_test"
   ],
   "metadata": {
    "collapsed": false,
    "ExecuteTime": {
     "end_time": "2023-10-18T19:03:03.034413700Z",
     "start_time": "2023-10-18T19:03:03.022221800Z"
    }
   },
   "id": "365053f5041dbda4"
  },
  {
   "cell_type": "code",
   "execution_count": 8,
   "outputs": [],
   "source": [
    "#DEVICE = torch.device(\"cuda:0\" if torch.cuda.is_available() else \"cpu\")"
   ],
   "metadata": {
    "collapsed": false,
    "ExecuteTime": {
     "end_time": "2023-10-18T19:03:03.090162800Z",
     "start_time": "2023-10-18T19:03:03.034413700Z"
    }
   },
   "id": "b2cdebba8c4306ae"
  },
  {
   "cell_type": "code",
   "execution_count": 9,
   "outputs": [],
   "source": [
    "#data = pd.read_csv('./data.csv')\n",
    "\n",
    "# class CustomDataset(Dataset):\n",
    "#     def __init__(self, data, target):\n",
    "#         self.data = data\n",
    "#         self.target = target\n",
    "# \n",
    "#     def __len__(self):\n",
    "#         return len(self.data)\n",
    "# \n",
    "#     def __getitem__(self, idx):\n",
    "#         feature = torch.FloatTensor(self.data[idx, :])\n",
    "#         target = torch.LongTensor(self.target[idx])\n",
    "#         return feature, target"
   ],
   "metadata": {
    "collapsed": false,
    "ExecuteTime": {
     "end_time": "2023-10-18T19:03:03.102473700Z",
     "start_time": "2023-10-18T19:03:03.050107900Z"
    }
   },
   "id": "151ed344a22824ef"
  },
  {
   "cell_type": "code",
   "execution_count": 10,
   "id": "d6ed94bf98631bf",
   "metadata": {
    "collapsed": false,
    "ExecuteTime": {
     "end_time": "2023-10-18T19:03:03.106474200Z",
     "start_time": "2023-10-18T19:03:03.069799600Z"
    }
   },
   "outputs": [],
   "source": [
    "NUM_CLIENTS = 3\n",
    "\n",
    "EPOCHS = 10\n",
    "BATCH_SIZE = 10\n",
    "\n",
    "IN_FEATURES = 3\n",
    "HIDDEN_LAYERS = 128\n",
    "OUT_FEATURES = 8"
   ]
  },
  {
   "cell_type": "code",
   "execution_count": 11,
   "outputs": [
    {
     "name": "stdout",
     "output_type": "stream",
     "text": [
      "        temperature  pressure  humidity  target\n",
      "622000     0.621362  0.012722  0.783420       0\n",
      "218767     0.382035  0.011630  0.924075       0\n",
      "331426     0.550945  0.211892  0.807194       0\n",
      "218657     0.323645  0.014595  0.946066       0\n",
      "164213     0.844971  0.101424  0.525107       0\n",
      "...             ...       ...       ...     ...\n",
      "187186     0.317109  0.014100  0.948284       0\n",
      "625948     0.344829  0.237268  0.908183       0\n",
      "416298     0.602934  0.161305  0.781314       0\n",
      "172093     0.989371  0.022967  0.143589       0\n",
      "345948     0.631181  0.010923  0.775559       0\n",
      "\n",
      "[520193 rows x 4 columns]\n",
      "        temperature  pressure  humidity  target\n",
      "510953     0.776598  0.025113  0.629496       0\n",
      "220580     0.950552  0.021499  0.309821       0\n",
      "403981     0.331335  0.018495  0.943332       1\n",
      "72939      0.842861  0.027093  0.537449       0\n",
      "255290     0.366813  0.000155  0.930295       0\n",
      "...             ...       ...       ...     ...\n",
      "644167     0.594258 -0.132081  0.793355       0\n",
      "259178     0.397029  0.035821  0.917107       0\n",
      "365838     0.332811  0.243485  0.911017       0\n",
      "131932     0.470996  0.015081  0.882007       0\n",
      "121958     0.648014  0.164145  0.743730       0\n",
      "\n",
      "[130049 rows x 4 columns]\n"
     ]
    }
   ],
   "source": [
    "def load_datasets():\n",
    "    df = pd.read_csv('./data.csv')\n",
    "    df = df.rename(columns={'type': 'target'})\n",
    "    normalize = ['temperature', 'pressure', 'humidity']\n",
    "    scaler = Normalizer()\n",
    "    df[normalize] = scaler.fit_transform(df[normalize])\n",
    "    \n",
    "    # X = df.iloc[:, :-1]\n",
    "    # y = df.iloc[:, -1]\n",
    "        \n",
    "    split_ratio = 0.8\n",
    "    split_index = int(len(df) * split_ratio)\n",
    "    \n",
    "    trainset = df.iloc[:split_index, :]\n",
    "    testset = df.iloc[split_index:, :]\n",
    "    print(trainset)\n",
    "    print(testset)\n",
    "    \n",
    "load_datasets()\n"
   ],
   "metadata": {
    "collapsed": false,
    "ExecuteTime": {
     "end_time": "2023-10-18T19:03:03.515007400Z",
     "start_time": "2023-10-18T19:03:03.086151700Z"
    }
   },
   "id": "7953758d82a33194"
  }
 ],
 "metadata": {
  "kernelspec": {
   "display_name": "Python 3 (ipykernel)",
   "language": "python",
   "name": "python3"
  },
  "language_info": {
   "codemirror_mode": {
    "name": "ipython",
    "version": 3
   },
   "file_extension": ".py",
   "mimetype": "text/x-python",
   "name": "python",
   "nbconvert_exporter": "python",
   "pygments_lexer": "ipython3",
   "version": "3.11.4"
  }
 },
 "nbformat": 4,
 "nbformat_minor": 5
}
