{
 "cells": [
  {
   "cell_type": "code",
   "execution_count": 28,
   "id": "472425b580dddcaf",
   "metadata": {
    "collapsed": false,
    "ExecuteTime": {
     "end_time": "2023-10-18T21:16:59.529698400Z",
     "start_time": "2023-10-18T21:16:59.518460100Z"
    }
   },
   "outputs": [],
   "source": [
    "import pandas as pd\n",
    "import numpy as np \n",
    "from matplotlib import pyplot as plt\n",
    "from sklearn.preprocessing import Normalizer\n",
    "from imblearn.under_sampling import RandomUnderSampler\n",
    "from imblearn.over_sampling import SMOTE, RandomOverSampler\n",
    "from sklearn.model_selection import train_test_split\n",
    "import torch \n",
    "import torch.nn as nn \n",
    "from torch.utils.data import random_split, DataLoader, TensorDataset \n",
    "import torch.nn.functional as F\n",
    "import torch.optim as optim\n",
    "import flwr as fl\n",
    "from flwr.common import Metrics\n",
    "import sys"
   ]
  },
  {
   "cell_type": "code",
   "execution_count": 29,
   "outputs": [],
   "source": [
    "# import platform, cpuinfo, GPUtil, psutil\n",
    "# print(f\"OS: {platform.uname().system} {platform.uname().release}\")\n",
    "# print(f\"CPU: {cpuinfo.get_cpu_info()['brand_raw']}\")\n",
    "# print(f\"GPU: {GPUtil.getGPUs()[0].name}\")\n",
    "# print(f\"Memory: {psutil.virtual_memory().total / (1024 ** 3):.2f} GB\")"
   ],
   "metadata": {
    "collapsed": false,
    "ExecuteTime": {
     "end_time": "2023-10-18T21:16:59.530693500Z",
     "start_time": "2023-10-18T21:16:59.521297600Z"
    }
   },
   "id": "4ba5cc17f1cd99fd"
  },
  {
   "cell_type": "code",
   "execution_count": 30,
   "outputs": [
    {
     "name": "stdout",
     "output_type": "stream",
     "text": [
      "Python version: 3.11.4 (tags/v3.11.4:d2340ef, Jun  7 2023, 05:45:37) [MSC v.1934 64 bit (AMD64)]\n",
      "Version info: sys.version_info(major=3, minor=11, micro=4, releaselevel='final', serial=0)\n"
     ]
    }
   ],
   "source": [
    "print(\"Python version:\", sys.version)\n",
    "print(\"Version info:\", sys.version_info)"
   ],
   "metadata": {
    "collapsed": false,
    "ExecuteTime": {
     "end_time": "2023-10-18T21:16:59.567923500Z",
     "start_time": "2023-10-18T21:16:59.529698400Z"
    }
   },
   "id": "a03c08d2241fc3fe"
  },
  {
   "cell_type": "code",
   "execution_count": 31,
   "outputs": [
    {
     "name": "stdout",
     "output_type": "stream",
     "text": [
      "Training on cpu using PyTorch 2.0.1+cpu and Flower 1.5.0\n"
     ]
    }
   ],
   "source": [
    "DEVICE = torch.device(\"cpu\")  # Try \"cuda\" to train on GPU\n",
    "print(\n",
    "    f\"Training on {DEVICE} using PyTorch {torch.__version__} and Flower {fl.__version__}\"\n",
    ")"
   ],
   "metadata": {
    "collapsed": false,
    "ExecuteTime": {
     "end_time": "2023-10-18T21:16:59.570281Z",
     "start_time": "2023-10-18T21:16:59.538402Z"
    }
   },
   "id": "f80cb111f6bc6cc6"
  },
  {
   "cell_type": "code",
   "execution_count": 32,
   "id": "d6ed94bf98631bf",
   "metadata": {
    "collapsed": false,
    "ExecuteTime": {
     "end_time": "2023-10-18T21:16:59.570281Z",
     "start_time": "2023-10-18T21:16:59.546628700Z"
    }
   },
   "outputs": [],
   "source": [
    "NUM_CLIENTS = 3\n",
    "\n",
    "EPOCHS = 10\n",
    "BATCH_SIZE = 100\n",
    "\n",
    "IN_FEATURES = 3\n",
    "HIDDEN_LAYERS = 128\n",
    "OUT_FEATURES = 8"
   ]
  },
  {
   "cell_type": "code",
   "execution_count": 33,
   "outputs": [],
   "source": [
    "def load_datasets():\n",
    "    df = pd.read_csv('./datasets/label_data.csv')\n",
    "    df = df.rename(columns={'label': 'target'})\n",
    "        \n",
    "    split_ratio = 0.8\n",
    "    split_index = int(len(df) * split_ratio)\n",
    "    \n",
    "    train_set = df.iloc[:split_index, :]\n",
    "    test_set = df.iloc[split_index:, :]\n",
    "    \n",
    "    part_size = len(train_set) // NUM_CLIENTS\n",
    "    lengths = [part_size] * NUM_CLIENTS\n",
    "    \n",
    "    # Split the test set evenly into thirds, removing the remainders    \n",
    "    random_choose = np.random.choice(train_set.index, (len(train_set) % NUM_CLIENTS), replace=False)\n",
    "    train_set = train_set.drop(random_choose)\n",
    "    \n",
    "    datasets = random_split(train_set, lengths, generator=torch.Generator().manual_seed(42))\n",
    "    \n",
    "    train_loader = []\n",
    "    val_loader = []\n",
    "    \n",
    "    for data in datasets:\n",
    "        val_length = len(data) // 10\n",
    "        train_length = len(data) - val_length\n",
    "        lengths = [train_length, val_length]\n",
    "        train_data, val_data = random_split(data, lengths, generator=torch.Generator().manual_seed(42))\n",
    "        \n",
    "        train_loader.append(DataLoader(train_data, batch_size=BATCH_SIZE, shuffle=True))\n",
    "        val_loader.append(DataLoader(val_data, batch_size=BATCH_SIZE, shuffle=True))\n",
    "    \n",
    "    test_loader = DataLoader(test_set, batch_size=BATCH_SIZE, shuffle=True)\n",
    "    return train_loader, val_loader, test_loader\n",
    "    \n",
    "train_loader, val_loader, test_loader = load_datasets()"
   ],
   "metadata": {
    "collapsed": false,
    "ExecuteTime": {
     "end_time": "2023-10-18T21:16:59.791816Z",
     "start_time": "2023-10-18T21:16:59.555947100Z"
    }
   },
   "id": "7953758d82a33194"
  },
  {
   "cell_type": "code",
   "execution_count": 33,
   "outputs": [],
   "source": [],
   "metadata": {
    "collapsed": false,
    "ExecuteTime": {
     "end_time": "2023-10-18T21:16:59.795862200Z",
     "start_time": "2023-10-18T21:16:59.793077200Z"
    }
   },
   "id": "3b7767fe074ec24"
  },
  {
   "cell_type": "code",
   "execution_count": 33,
   "outputs": [],
   "source": [],
   "metadata": {
    "collapsed": false,
    "ExecuteTime": {
     "end_time": "2023-10-18T21:16:59.799867200Z",
     "start_time": "2023-10-18T21:16:59.794585600Z"
    }
   },
   "id": "b55c029f8b011706"
  }
 ],
 "metadata": {
  "kernelspec": {
   "display_name": "Python 3 (ipykernel)",
   "language": "python",
   "name": "python3"
  },
  "language_info": {
   "codemirror_mode": {
    "name": "ipython",
    "version": 3
   },
   "file_extension": ".py",
   "mimetype": "text/x-python",
   "name": "python",
   "nbconvert_exporter": "python",
   "pygments_lexer": "ipython3",
   "version": "3.11.4"
  }
 },
 "nbformat": 4,
 "nbformat_minor": 5
}
