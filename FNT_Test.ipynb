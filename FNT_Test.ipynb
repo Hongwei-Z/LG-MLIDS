{
 "cells": [
  {
   "cell_type": "code",
   "execution_count": 6,
   "metadata": {
    "collapsed": true,
    "pycharm": {
     "name": "#%%\n"
    },
    "ExecuteTime": {
     "end_time": "2023-08-04T10:37:23.654975300Z",
     "start_time": "2023-08-04T10:37:23.630447300Z"
    }
   },
   "outputs": [],
   "source": [
    "import pandas as pd\n",
    "import datetime\n",
    "import FNT"
   ]
  },
  {
   "cell_type": "code",
   "execution_count": 7,
   "outputs": [
    {
     "data": {
      "text/plain": "                        date  temperature  pressure   humidity  label    type\n0         31-Mar-19 12:36:52    31.788508  1.035000  32.036579      0  normal\n1         31-Mar-19 12:36:53    41.630997  1.035000  30.886165      0  normal\n2         31-Mar-19 12:36:54    42.256959  1.035000  19.755908      0  normal\n3         31-Mar-19 12:36:55    49.116581  1.035000  78.949621      0  normal\n4         31-Mar-19 12:36:56    24.017085  1.035000  40.001059      0  normal\n...                      ...          ...       ...        ...    ...     ...\n650237  27-Apr-19  12:41:17     40.384291  9.049059  93.094490      0  normal\n650238  27-Apr-19  12:41:18     47.240113 -5.782022  28.146511      0  normal\n650239  27-Apr-19  12:41:18     23.540606  0.913648  30.478316      0  normal\n650240  27-Apr-19  12:41:18     46.016150  3.493588  73.328413      0  normal\n650241  27-Apr-19  12:41:20     48.082975  0.100271  20.949148      0  normal\n\n[650242 rows x 6 columns]",
      "text/html": "<div>\n<style scoped>\n    .dataframe tbody tr th:only-of-type {\n        vertical-align: middle;\n    }\n\n    .dataframe tbody tr th {\n        vertical-align: top;\n    }\n\n    .dataframe thead th {\n        text-align: right;\n    }\n</style>\n<table border=\"1\" class=\"dataframe\">\n  <thead>\n    <tr style=\"text-align: right;\">\n      <th></th>\n      <th>date</th>\n      <th>temperature</th>\n      <th>pressure</th>\n      <th>humidity</th>\n      <th>label</th>\n      <th>type</th>\n    </tr>\n  </thead>\n  <tbody>\n    <tr>\n      <th>0</th>\n      <td>31-Mar-19 12:36:52</td>\n      <td>31.788508</td>\n      <td>1.035000</td>\n      <td>32.036579</td>\n      <td>0</td>\n      <td>normal</td>\n    </tr>\n    <tr>\n      <th>1</th>\n      <td>31-Mar-19 12:36:53</td>\n      <td>41.630997</td>\n      <td>1.035000</td>\n      <td>30.886165</td>\n      <td>0</td>\n      <td>normal</td>\n    </tr>\n    <tr>\n      <th>2</th>\n      <td>31-Mar-19 12:36:54</td>\n      <td>42.256959</td>\n      <td>1.035000</td>\n      <td>19.755908</td>\n      <td>0</td>\n      <td>normal</td>\n    </tr>\n    <tr>\n      <th>3</th>\n      <td>31-Mar-19 12:36:55</td>\n      <td>49.116581</td>\n      <td>1.035000</td>\n      <td>78.949621</td>\n      <td>0</td>\n      <td>normal</td>\n    </tr>\n    <tr>\n      <th>4</th>\n      <td>31-Mar-19 12:36:56</td>\n      <td>24.017085</td>\n      <td>1.035000</td>\n      <td>40.001059</td>\n      <td>0</td>\n      <td>normal</td>\n    </tr>\n    <tr>\n      <th>...</th>\n      <td>...</td>\n      <td>...</td>\n      <td>...</td>\n      <td>...</td>\n      <td>...</td>\n      <td>...</td>\n    </tr>\n    <tr>\n      <th>650237</th>\n      <td>27-Apr-19  12:41:17</td>\n      <td>40.384291</td>\n      <td>9.049059</td>\n      <td>93.094490</td>\n      <td>0</td>\n      <td>normal</td>\n    </tr>\n    <tr>\n      <th>650238</th>\n      <td>27-Apr-19  12:41:18</td>\n      <td>47.240113</td>\n      <td>-5.782022</td>\n      <td>28.146511</td>\n      <td>0</td>\n      <td>normal</td>\n    </tr>\n    <tr>\n      <th>650239</th>\n      <td>27-Apr-19  12:41:18</td>\n      <td>23.540606</td>\n      <td>0.913648</td>\n      <td>30.478316</td>\n      <td>0</td>\n      <td>normal</td>\n    </tr>\n    <tr>\n      <th>650240</th>\n      <td>27-Apr-19  12:41:18</td>\n      <td>46.016150</td>\n      <td>3.493588</td>\n      <td>73.328413</td>\n      <td>0</td>\n      <td>normal</td>\n    </tr>\n    <tr>\n      <th>650241</th>\n      <td>27-Apr-19  12:41:20</td>\n      <td>48.082975</td>\n      <td>0.100271</td>\n      <td>20.949148</td>\n      <td>0</td>\n      <td>normal</td>\n    </tr>\n  </tbody>\n</table>\n<p>650242 rows × 6 columns</p>\n</div>"
     },
     "execution_count": 7,
     "metadata": {},
     "output_type": "execute_result"
    }
   ],
   "source": [
    "# Read dataset\n",
    "dataset = pd.read_csv('./IoT_Weather.csv')\n",
    "\n",
    "dataset['date'] = dataset['date'] + ' ' + dataset['time']\n",
    "#dataset['date'] = pd.to_datetime(dataset['date'])\n",
    "dataset = dataset.drop('time', axis=1)\n",
    "dataset"
   ],
   "metadata": {
    "collapsed": false,
    "pycharm": {
     "name": "#%%\n"
    },
    "ExecuteTime": {
     "end_time": "2023-08-04T10:37:24.054221200Z",
     "start_time": "2023-08-04T10:37:23.635450700Z"
    }
   }
  },
  {
   "cell_type": "code",
   "execution_count": 8,
   "outputs": [
    {
     "data": {
      "text/plain": "date            object\ntemperature    float64\npressure       float64\nhumidity       float64\nlabel            int64\ntype            object\ndtype: object"
     },
     "execution_count": 8,
     "metadata": {},
     "output_type": "execute_result"
    }
   ],
   "source": [
    "dataset.dtypes"
   ],
   "metadata": {
    "collapsed": false,
    "pycharm": {
     "name": "#%%\n"
    },
    "ExecuteTime": {
     "end_time": "2023-08-04T10:37:24.063269900Z",
     "start_time": "2023-08-04T10:37:24.057224900Z"
    }
   }
  },
  {
   "cell_type": "code",
   "execution_count": 9,
   "outputs": [
    {
     "data": {
      "text/plain": "                        date  temperature  pressure   humidity  label  type\n0         31-Mar-19 12:36:52    31.788508  1.035000  32.036579      0     0\n1         31-Mar-19 12:36:53    41.630997  1.035000  30.886165      0     0\n2         31-Mar-19 12:36:54    42.256959  1.035000  19.755908      0     0\n3         31-Mar-19 12:36:55    49.116581  1.035000  78.949621      0     0\n4         31-Mar-19 12:36:56    24.017085  1.035000  40.001059      0     0\n...                      ...          ...       ...        ...    ...   ...\n650237  27-Apr-19  12:41:17     40.384291  9.049059  93.094490      0     0\n650238  27-Apr-19  12:41:18     47.240113 -5.782022  28.146511      0     0\n650239  27-Apr-19  12:41:18     23.540606  0.913648  30.478316      0     0\n650240  27-Apr-19  12:41:18     46.016150  3.493588  73.328413      0     0\n650241  27-Apr-19  12:41:20     48.082975  0.100271  20.949148      0     0\n\n[650242 rows x 6 columns]",
      "text/html": "<div>\n<style scoped>\n    .dataframe tbody tr th:only-of-type {\n        vertical-align: middle;\n    }\n\n    .dataframe tbody tr th {\n        vertical-align: top;\n    }\n\n    .dataframe thead th {\n        text-align: right;\n    }\n</style>\n<table border=\"1\" class=\"dataframe\">\n  <thead>\n    <tr style=\"text-align: right;\">\n      <th></th>\n      <th>date</th>\n      <th>temperature</th>\n      <th>pressure</th>\n      <th>humidity</th>\n      <th>label</th>\n      <th>type</th>\n    </tr>\n  </thead>\n  <tbody>\n    <tr>\n      <th>0</th>\n      <td>31-Mar-19 12:36:52</td>\n      <td>31.788508</td>\n      <td>1.035000</td>\n      <td>32.036579</td>\n      <td>0</td>\n      <td>0</td>\n    </tr>\n    <tr>\n      <th>1</th>\n      <td>31-Mar-19 12:36:53</td>\n      <td>41.630997</td>\n      <td>1.035000</td>\n      <td>30.886165</td>\n      <td>0</td>\n      <td>0</td>\n    </tr>\n    <tr>\n      <th>2</th>\n      <td>31-Mar-19 12:36:54</td>\n      <td>42.256959</td>\n      <td>1.035000</td>\n      <td>19.755908</td>\n      <td>0</td>\n      <td>0</td>\n    </tr>\n    <tr>\n      <th>3</th>\n      <td>31-Mar-19 12:36:55</td>\n      <td>49.116581</td>\n      <td>1.035000</td>\n      <td>78.949621</td>\n      <td>0</td>\n      <td>0</td>\n    </tr>\n    <tr>\n      <th>4</th>\n      <td>31-Mar-19 12:36:56</td>\n      <td>24.017085</td>\n      <td>1.035000</td>\n      <td>40.001059</td>\n      <td>0</td>\n      <td>0</td>\n    </tr>\n    <tr>\n      <th>...</th>\n      <td>...</td>\n      <td>...</td>\n      <td>...</td>\n      <td>...</td>\n      <td>...</td>\n      <td>...</td>\n    </tr>\n    <tr>\n      <th>650237</th>\n      <td>27-Apr-19  12:41:17</td>\n      <td>40.384291</td>\n      <td>9.049059</td>\n      <td>93.094490</td>\n      <td>0</td>\n      <td>0</td>\n    </tr>\n    <tr>\n      <th>650238</th>\n      <td>27-Apr-19  12:41:18</td>\n      <td>47.240113</td>\n      <td>-5.782022</td>\n      <td>28.146511</td>\n      <td>0</td>\n      <td>0</td>\n    </tr>\n    <tr>\n      <th>650239</th>\n      <td>27-Apr-19  12:41:18</td>\n      <td>23.540606</td>\n      <td>0.913648</td>\n      <td>30.478316</td>\n      <td>0</td>\n      <td>0</td>\n    </tr>\n    <tr>\n      <th>650240</th>\n      <td>27-Apr-19  12:41:18</td>\n      <td>46.016150</td>\n      <td>3.493588</td>\n      <td>73.328413</td>\n      <td>0</td>\n      <td>0</td>\n    </tr>\n    <tr>\n      <th>650241</th>\n      <td>27-Apr-19  12:41:20</td>\n      <td>48.082975</td>\n      <td>0.100271</td>\n      <td>20.949148</td>\n      <td>0</td>\n      <td>0</td>\n    </tr>\n  </tbody>\n</table>\n<p>650242 rows × 6 columns</p>\n</div>"
     },
     "execution_count": 9,
     "metadata": {},
     "output_type": "execute_result"
    }
   ],
   "source": [
    "mapping = {'normal': 0, 'backdoor': 1, 'password': 2, 'ddos': 3, 'injection': 4, 'ransomware': 5, 'xss': 6, 'scanning': 7}\n",
    "dataset['type'] = dataset['type'].replace(mapping)\n",
    "dataset"
   ],
   "metadata": {
    "collapsed": false,
    "pycharm": {
     "name": "#%%\n"
    },
    "ExecuteTime": {
     "end_time": "2023-08-04T10:37:24.607193800Z",
     "start_time": "2023-08-04T10:37:24.062272900Z"
    }
   }
  },
  {
   "cell_type": "code",
   "execution_count": 10,
   "outputs": [
    {
     "name": "stdout",
     "output_type": "stream",
     "text": [
      "Packet ID: 0, Timestamp: 2023-08-04 18:37:24, Auditee: [None, None], Auditor: [1, 2]. SensorID: 0, Status: On, Location: 0. Data: Temp 31.78850762, Pre 1.035, Hum 32.03657873.\n",
      "Packet ID: 1, Timestamp: 2023-08-04 18:37:24, Auditee: [0, None], Auditor: [3, 4]. SensorID: 0, Status: On, Location: 0. Data: Temp 41.6309968, Pre 1.035, Hum 30.8861654.\n",
      "Packet ID: 2, Timestamp: 2023-08-04 18:37:24, Auditee: [0, None], Auditor: [4, 5]. SensorID: 0, Status: On, Location: 0. Data: Temp 42.25695892, Pre 1.035, Hum 19.75590846.\n",
      "Packet ID: 3, Timestamp: 2023-08-04 18:37:24, Auditee: [1, None], Auditor: [6, 7]. SensorID: 0, Status: On, Location: 0. Data: Temp 49.11658069, Pre 1.035, Hum 78.94962111.\n",
      "Packet ID: 4, Timestamp: 2023-08-04 18:37:24, Auditee: [1, 2], Auditor: [7, 8]. SensorID: 0, Status: On, Location: 0. Data: Temp 24.0170852, Pre 1.035, Hum 40.00105869.\n",
      "Packet ID: 5, Timestamp: 2023-08-04 18:37:24, Auditee: [2, None], Auditor: [8, 9]. SensorID: 0, Status: On, Location: 0. Data: Temp 31.78850762, Pre 1.035, Hum 32.03657873.\n",
      "Packet ID: 6, Timestamp: 2023-08-04 18:37:24, Auditee: [3, None], Auditor: [10, 11]. SensorID: 0, Status: On, Location: 0. Data: Temp 28.68926493, Pre 1.035, Hum 11.56575114.\n",
      "Packet ID: 7, Timestamp: 2023-08-04 18:37:24, Auditee: [3, 4], Auditor: [11, 12]. SensorID: 0, Status: On, Location: 0. Data: Temp 42.03776327, Pre 1.035, Hum 28.83502777.\n",
      "Packet ID: 8, Timestamp: 2023-08-04 18:37:24, Auditee: [4, 5], Auditor: [12, 13]. SensorID: 0, Status: On, Location: 0. Data: Temp 24.09267237, Pre 1.035, Hum 8.19887241.\n",
      "Packet ID: 9, Timestamp: 2023-08-04 18:37:24, Auditee: [5, None], Auditor: [13, 14]. SensorID: 0, Status: On, Location: 0. Data: Temp 41.98321922, Pre 1.035, Hum 19.75590846.\n",
      "Packet ID: 10, Timestamp: 2023-08-04 18:37:24, Auditee: [6, None], Auditor: [15, 16]. SensorID: 0, Status: On, Location: 0. Data: Temp 32.9166805, Pre 1.035, Hum 29.8671752.\n",
      "Packet ID: 11, Timestamp: 2023-08-04 18:37:24, Auditee: [6, 7], Auditor: [16, 17]. SensorID: 0, Status: On, Location: 0. Data: Temp 48.94736504, Pre 0.599772085, Hum 78.94962111.\n",
      "Packet ID: 12, Timestamp: 2023-08-04 18:37:24, Auditee: [7, 8], Auditor: [17, 18]. SensorID: 0, Status: On, Location: 0. Data: Temp 21.8547483, Pre 1.035, Hum 65.05212542.\n",
      "Packet ID: 13, Timestamp: 2023-08-04 18:37:24, Auditee: [8, 9], Auditor: [18, 19]. SensorID: 0, Status: On, Location: 0. Data: Temp 24.15336583, Pre 0.924533615, Hum 40.00105869.\n",
      "Packet ID: 14, Timestamp: 2023-08-04 18:37:24, Auditee: [9, None], Auditor: [19, 20]. SensorID: 0, Status: On, Location: 0. Data: Temp 46.61109707, Pre 1.035, Hum 37.15112529.\n",
      "Packet ID: 15, Timestamp: 2023-08-04 18:37:24, Auditee: [10, None], Auditor: [21, 22]. SensorID: 0, Status: On, Location: 0. Data: Temp 32.22333966, Pre 1.035, Hum 32.43628592.\n",
      "Packet ID: 16, Timestamp: 2023-08-04 18:37:24, Auditee: [10, 11], Auditor: [22, 23]. SensorID: 0, Status: On, Location: 0. Data: Temp 28.76875922, Pre 1.035, Hum 11.56575114.\n",
      "Packet ID: 17, Timestamp: 2023-08-04 18:37:24, Auditee: [11, 12], Auditor: [23, 24]. SensorID: 0, Status: On, Location: 0. Data: Temp 25.20759596, Pre 1.035, Hum 66.81602614.\n",
      "Packet ID: 18, Timestamp: 2023-08-04 18:37:24, Auditee: [12, 13], Auditor: [24, 25]. SensorID: 0, Status: On, Location: 0. Data: Temp 42.19295899, Pre 1.035, Hum 28.83502777.\n",
      "Packet ID: 19, Timestamp: 2023-08-04 18:37:24, Auditee: [13, 14], Auditor: [25, 26]. SensorID: 0, Status: On, Location: 0. Data: Temp 24.23519766, Pre 1.035, Hum 8.19887241.\n",
      "Packet ID: 20, Timestamp: 2023-08-04 18:37:24, Auditee: [14, None], Auditor: [26, 27]. SensorID: 0, Status: On, Location: 0. Data: Temp 49.92257542, Pre 1.035, Hum 46.98871274.\n",
      "Packet ID: 21, Timestamp: 2023-08-04 18:37:24, Auditee: [15, None], Auditor: [28, 29]. SensorID: 0, Status: On, Location: 0. Data: Temp 42.33008193, Pre 1.035, Hum 19.75590846.\n",
      "Packet ID: 22, Timestamp: 2023-08-04 18:37:24, Auditee: [15, 16], Auditor: [29, 30]. SensorID: 0, Status: On, Location: 0. Data: Temp 32.54730797, Pre 1.035, Hum 27.54957906.\n",
      "Packet ID: 23, Timestamp: 2023-08-04 18:37:24, Auditee: [16, 17], Auditor: [30, 31]. SensorID: 0, Status: On, Location: 0. Data: Temp 40.83353751, Pre 1.035, Hum 4.08032965.\n",
      "Packet ID: 24, Timestamp: 2023-08-04 18:37:24, Auditee: [17, 18], Auditor: [31, 32]. SensorID: 0, Status: On, Location: 0. Data: Temp 48.74927754, Pre 0.599772085, Hum 78.94962111.\n",
      "Packet ID: 25, Timestamp: 2023-08-04 18:37:24, Auditee: [18, 19], Auditor: [32, 33]. SensorID: 0, Status: On, Location: 0. Data: Temp 21.83768458, Pre 1.035, Hum 65.05212542.\n",
      "Packet ID: 26, Timestamp: 2023-08-04 18:37:24, Auditee: [19, 20], Auditor: [33, 34]. SensorID: 0, Status: On, Location: 0. Data: Temp 31.12333127, Pre 1.035, Hum 70.70674908.\n",
      "Packet ID: 27, Timestamp: 2023-08-04 18:37:24, Auditee: [20, None], Auditor: [34, 35]. SensorID: 0, Status: On, Location: 0. Data: Temp 24.03684983, Pre 0.924533615, Hum 40.00105869.\n",
      "Packet ID: 28, Timestamp: 2023-08-04 18:37:24, Auditee: [21, None], Auditor: [36, 43]. SensorID: 0, Status: On, Location: 0. Data: Temp 46.43808514, Pre 1.035, Hum 40.26226601.\n",
      "Packet ID: 29, Timestamp: 2023-08-04 18:37:24, Auditee: [21, 22], Auditor: [36, 37]. SensorID: 0, Status: On, Location: 0. Data: Temp 45.5938494, Pre 1.035, Hum 58.90969685.\n",
      "Packet ID: 30, Timestamp: 2023-08-04 18:37:24, Auditee: [22, 23], Auditor: [37, 38]. SensorID: 0, Status: On, Location: 0. Data: Temp 31.76908777, Pre 1.035, Hum 32.43628592.\n",
      "Packet ID: 31, Timestamp: 2023-08-04 18:37:24, Auditee: [23, 24], Auditor: [38, 39]. SensorID: 0, Status: On, Location: 0. Data: Temp 29.07622278, Pre 1.035, Hum 11.56575114.\n",
      "Packet ID: 32, Timestamp: 2023-08-04 18:37:24, Auditee: [24, 25], Auditor: [39, 40]. SensorID: 0, Status: On, Location: 0. Data: Temp 24.79042798, Pre 1.035, Hum 66.81602614.\n",
      "Packet ID: 33, Timestamp: 2023-08-04 18:37:24, Auditee: [25, 26], Auditor: [40, 41]. SensorID: 0, Status: On, Location: 0. Data: Temp 40.11896833, Pre 1.035, Hum 9.254226775.\n",
      "Packet ID: 34, Timestamp: 2023-08-04 18:37:24, Auditee: [26, 27], Auditor: [41, 42]. SensorID: 0, Status: On, Location: 0. Data: Temp 42.20836888, Pre 1.035, Hum 28.83502777.\n",
      "Packet ID: 35, Timestamp: 2023-08-04 18:37:24, Auditee: [27, None], Auditor: [42, 50]. SensorID: 0, Status: On, Location: 0. Data: Temp 23.9682045, Pre 1.035, Hum 8.19887241.\n",
      "Packet ID: 36, Timestamp: 2023-08-04 18:37:24, Auditee: [28, 29], Auditor: [43, 44]. SensorID: 0, Status: On, Location: 0. Data: Temp 49.45444278, Pre 1.035, Hum 46.98871274.\n",
      "Packet ID: 37, Timestamp: 2023-08-04 18:37:24, Auditee: [29, 30], Auditor: [44, 45]. SensorID: 0, Status: On, Location: 0. Data: Temp 23.08044247, Pre 1.035, Hum 76.78679985.\n",
      "Packet ID: 38, Timestamp: 2023-08-04 18:37:24, Auditee: [30, 31], Auditor: [45, 46]. SensorID: 0, Status: On, Location: 0. Data: Temp 42.48969035, Pre 1.035, Hum 19.75590846.\n",
      "Packet ID: 39, Timestamp: 2023-08-04 18:37:24, Auditee: [31, 32], Auditor: [46, 47]. SensorID: 0, Status: On, Location: 0. Data: Temp 32.52056442, Pre 1.035, Hum 27.54957906.\n",
      "Packet ID: 40, Timestamp: 2023-08-04 18:37:24, Auditee: [32, 33], Auditor: [47, 48]. SensorID: 0, Status: On, Location: 0. Data: Temp 40.80155237, Pre 1.035, Hum 4.08032965.\n",
      "Packet ID: 41, Timestamp: 2023-08-04 18:37:24, Auditee: [33, 34], Auditor: [48, 49]. SensorID: 0, Status: On, Location: 0. Data: Temp 21.4442112, Pre 1.035, Hum 36.43366138.\n",
      "Packet ID: 42, Timestamp: 2023-08-04 18:37:24, Auditee: [34, 35], Auditor: [49, 50]. SensorID: 0, Status: On, Location: 0. Data: Temp 48.65154478, Pre 0.599772085, Hum 83.64918779.\n",
      "Packet ID: 43, Timestamp: 2023-08-04 18:37:24, Auditee: [28, 36], Auditor: [51, 58]. SensorID: 0, Status: On, Location: 0. Data: Temp 21.77391669, Pre 1.035, Hum 65.05212542.\n",
      "Packet ID: 44, Timestamp: 2023-08-04 18:37:24, Auditee: [36, 37], Auditor: [51, 52]. SensorID: 0, Status: On, Location: 0. Data: Temp 30.95679376, Pre 1.035, Hum 70.70674908.\n",
      "Packet ID: 45, Timestamp: 2023-08-04 18:37:24, Auditee: [37, 38], Auditor: [52, 53]. SensorID: 0, Status: On, Location: 0. Data: Temp 31.57103593, Pre 1.035, Hum 32.03105852.\n",
      "Packet ID: 46, Timestamp: 2023-08-04 18:37:24, Auditee: [38, 39], Auditor: [53, 54]. SensorID: 0, Status: On, Location: 0. Data: Temp 23.55108184, Pre 0.924533615, Hum 40.00105869.\n",
      "Packet ID: 47, Timestamp: 2023-08-04 18:37:24, Auditee: [39, 40], Auditor: [54, 55]. SensorID: 0, Status: On, Location: 0. Data: Temp 46.27819214, Pre 1.035, Hum 40.26226601.\n",
      "Packet ID: 48, Timestamp: 2023-08-04 18:37:24, Auditee: [40, 41], Auditor: [55, 56]. SensorID: 0, Status: On, Location: 0. Data: Temp 45.99492099, Pre 1.035, Hum 58.90969685.\n",
      "Packet ID: 49, Timestamp: 2023-08-04 18:37:24, Auditee: [41, 42], Auditor: [56, 57]. SensorID: 0, Status: On, Location: 0. Data: Temp 40.01584429, Pre 1.035, Hum 76.38690694.\n",
      "Packet ID: 50, Timestamp: 2023-08-04 18:37:24, Auditee: [35, 42], Auditor: [57, 65]. SensorID: 0, Status: On, Location: 0. Data: Temp 31.35235522, Pre 1.035, Hum 32.43628592.\n",
      "Packet ID: 51, Timestamp: 2023-08-04 18:37:24, Auditee: [43, 44], Auditor: [58, 59]. SensorID: 0, Status: On, Location: 0. Data: Temp 28.75920121, Pre 1.035, Hum 11.56575114.\n",
      "Packet ID: 52, Timestamp: 2023-08-04 18:37:24, Auditee: [44, 45], Auditor: [59, 60]. SensorID: 0, Status: On, Location: 0. Data: Temp 24.32058001, Pre 1.035, Hum 66.81602614.\n",
      "Packet ID: 53, Timestamp: 2023-08-04 18:37:24, Auditee: [45, 46], Auditor: [60, 61]. SensorID: 0, Status: On, Location: 0. Data: Temp 39.9184649, Pre 1.035, Hum 9.254226775.\n",
      "Packet ID: 54, Timestamp: 2023-08-04 18:37:24, Auditee: [46, 47], Auditor: [61, 62]. SensorID: 0, Status: On, Location: 0. Data: Temp 49.25773791, Pre 1.035, Hum 67.14153267.\n",
      "Packet ID: 55, Timestamp: 2023-08-04 18:37:24, Auditee: [47, 48], Auditor: [62, 63]. SensorID: 0, Status: On, Location: 0. Data: Temp 42.7067622, Pre 1.035, Hum 28.83502777.\n",
      "Packet ID: 56, Timestamp: 2023-08-04 18:37:24, Auditee: [48, 49], Auditor: [63, 64]. SensorID: 0, Status: On, Location: 0. Data: Temp 24.1194535, Pre 1.035, Hum 8.19887241.\n",
      "Packet ID: 57, Timestamp: 2023-08-04 18:37:24, Auditee: [49, 50], Auditor: [64, 65]. SensorID: 0, Status: On, Location: 0. Data: Temp 49.4284527, Pre 1.035, Hum 46.98871274.\n",
      "Packet ID: 58, Timestamp: 2023-08-04 18:37:24, Auditee: [43, 51], Auditor: [66, 73]. SensorID: 0, Status: On, Location: 0. Data: Temp 22.70862629, Pre 1.035, Hum 76.78679985.\n",
      "Packet ID: 59, Timestamp: 2023-08-04 18:37:24, Auditee: [51, 52], Auditor: [66, 67]. SensorID: 0, Status: On, Location: 0. Data: Temp 35.70474113, Pre 1.035, Hum 73.63041496.\n",
      "Packet ID: 60, Timestamp: 2023-08-04 18:37:24, Auditee: [52, 53], Auditor: [67, 68]. SensorID: 0, Status: On, Location: 0. Data: Temp 42.3722722, Pre 1.035, Hum 19.75590846.\n",
      "Packet ID: 61, Timestamp: 2023-08-04 18:37:24, Auditee: [53, 54], Auditor: [68, 69]. SensorID: 0, Status: On, Location: 0. Data: Temp 32.52056442, Pre 1.035, Hum 27.54957906.\n",
      "Packet ID: 62, Timestamp: 2023-08-04 18:37:24, Auditee: [54, 55], Auditor: [69, 70]. SensorID: 0, Status: On, Location: 0. Data: Temp 40.35145332, Pre 1.035, Hum 4.08032965.\n",
      "Packet ID: 63, Timestamp: 2023-08-04 18:37:24, Auditee: [55, 56], Auditor: [70, 71]. SensorID: 0, Status: On, Location: 0. Data: Temp 21.4442112, Pre 1.035, Hum 36.43366138.\n",
      "Packet ID: 64, Timestamp: 2023-08-04 18:37:24, Auditee: [56, 57], Auditor: [71, 72]. SensorID: 0, Status: On, Location: 0. Data: Temp 32.49094117, Pre 1.035, Hum 57.84644551.\n",
      "Packet ID: 65, Timestamp: 2023-08-04 18:37:24, Auditee: [50, 57], Auditor: [72, 80]. SensorID: 0, Status: On, Location: 0. Data: Temp 48.72066863, Pre 0.679156169, Hum 80.72619415.\n",
      "Packet ID: 66, Timestamp: 2023-08-04 18:37:24, Auditee: [58, 59], Auditor: [73, 74]. SensorID: 0, Status: On, Location: 0. Data: Temp 21.49948818, Pre 1.035, Hum 63.56191235.\n",
      "Packet ID: 67, Timestamp: 2023-08-04 18:37:24, Auditee: [59, 60], Auditor: [74, 75]. SensorID: 0, Status: On, Location: 0. Data: Temp 30.62554366, Pre 1.035, Hum 67.30550454.\n",
      "Packet ID: 68, Timestamp: 2023-08-04 18:37:24, Auditee: [60, 61], Auditor: [75, 76]. SensorID: 0, Status: On, Location: 0. Data: Temp 31.99558648, Pre 0.682582328, Hum 32.03105852.\n",
      "Packet ID: 69, Timestamp: 2023-08-04 18:37:24, Auditee: [61, 62], Auditor: [76, 77]. SensorID: 0, Status: On, Location: 0. Data: Temp 46.29030563, Pre 1.035, Hum 72.58984385.\n",
      "Packet ID: 70, Timestamp: 2023-08-04 18:37:24, Auditee: [62, 63], Auditor: [77, 78]. SensorID: 0, Status: On, Location: 0. Data: Temp 23.73913475, Pre 0.924533615, Hum 40.00105869.\n",
      "Packet ID: 71, Timestamp: 2023-08-04 18:37:24, Auditee: [63, 64], Auditor: [78, 79]. SensorID: 0, Status: On, Location: 0. Data: Temp 46.57104081, Pre 1.035, Hum 40.26226601.\n",
      "Packet ID: 72, Timestamp: 2023-08-04 18:37:24, Auditee: [64, 65], Auditor: [79, 80]. SensorID: 0, Status: On, Location: 0. Data: Temp 46.08960457, Pre 1.035, Hum 56.34336604.\n",
      "Packet ID: 73, Timestamp: 2023-08-04 18:37:24, Auditee: [58, 66], Auditor: [81, 88]. SensorID: 0, Status: On, Location: 0. Data: Temp 39.62341032, Pre 1.035, Hum 76.38690694.\n",
      "Packet ID: 74, Timestamp: 2023-08-04 18:37:24, Auditee: [66, 67], Auditor: [81, 82]. SensorID: 0, Status: On, Location: 0. Data: Temp 49.41235392, Pre 1.035, Hum 51.06589808.\n",
      "Packet ID: 75, Timestamp: 2023-08-04 18:37:24, Auditee: [67, 68], Auditor: [82, 83]. SensorID: 0, Status: On, Location: 0. Data: Temp 31.84959664, Pre 1.035, Hum 32.43628592.\n",
      "Packet ID: 76, Timestamp: 2023-08-04 18:37:24, Auditee: [68, 69], Auditor: [83, 84]. SensorID: 0, Status: On, Location: 0. Data: Temp 29.25413376, Pre 1.035, Hum 11.56575114.\n",
      "Packet ID: 77, Timestamp: 2023-08-04 18:37:24, Auditee: [69, 70], Auditor: [84, 85]. SensorID: 0, Status: On, Location: 0. Data: Temp 24.74790263, Pre 1.035, Hum 66.81602614.\n",
      "Packet ID: 78, Timestamp: 2023-08-04 18:37:24, Auditee: [70, 71], Auditor: [85, 86]. SensorID: 0, Status: On, Location: 0. Data: Temp 40.15605272, Pre 1.035, Hum 9.254226775.\n",
      "Packet ID: 79, Timestamp: 2023-08-04 18:37:24, Auditee: [71, 72], Auditor: [86, 87]. SensorID: 0, Status: On, Location: 0. Data: Temp 48.81088774, Pre 1.035, Hum 67.14153267.\n",
      "Packet ID: 80, Timestamp: 2023-08-04 18:37:24, Auditee: [65, 72], Auditor: [87, 95]. SensorID: 0, Status: On, Location: 0. Data: Temp 25.5297072, Pre 1.035, Hum 62.18557545.\n",
      "Packet ID: 81, Timestamp: 2023-08-04 18:37:24, Auditee: [73, 74], Auditor: [88, 89]. SensorID: 0, Status: On, Location: 0. Data: Temp 42.22505468, Pre 1.035, Hum 28.83502777.\n",
      "Packet ID: 82, Timestamp: 2023-08-04 18:37:24, Auditee: [74, 75], Auditor: [89, 90]. SensorID: 0, Status: On, Location: 0. Data: Temp 23.92968163, Pre 1.035, Hum 8.19887241.\n",
      "Packet ID: 83, Timestamp: 2023-08-04 18:37:24, Auditee: [75, 76], Auditor: [90, 91]. SensorID: 0, Status: On, Location: 0. Data: Temp 49.2398816, Pre 1.035, Hum 46.98871274.\n",
      "Packet ID: 84, Timestamp: 2023-08-04 18:37:24, Auditee: [76, 77], Auditor: [91, 92]. SensorID: 0, Status: On, Location: 0. Data: Temp 22.70583269, Pre 1.035, Hum 76.78679985.\n",
      "Packet ID: 85, Timestamp: 2023-08-04 18:37:24, Auditee: [77, 78], Auditor: [92, 93]. SensorID: 0, Status: On, Location: 0. Data: Temp 35.20739073, Pre 1.035, Hum 73.63041496.\n",
      "Packet ID: 86, Timestamp: 2023-08-04 18:37:24, Auditee: [78, 79], Auditor: [93, 94]. SensorID: 0, Status: On, Location: 0. Data: Temp 20.96814677, Pre 1.035, Hum 35.28366141.\n",
      "Packet ID: 87, Timestamp: 2023-08-04 18:37:24, Auditee: [79, 80], Auditor: [94, 95]. SensorID: 0, Status: On, Location: 0. Data: Temp 41.94852062, Pre 1.035, Hum 19.75590846.\n",
      "Packet ID: 88, Timestamp: 2023-08-04 18:37:24, Auditee: [73, 81], Auditor: [96, None]. SensorID: 0, Status: On, Location: 0. Data: Temp 32.52056442, Pre 1.035, Hum 27.54957906.\n",
      "Packet ID: 89, Timestamp: 2023-08-04 18:37:24, Auditee: [81, 82], Auditor: [96, 97]. SensorID: 0, Status: On, Location: 0. Data: Temp 39.94166314, Pre 1.035, Hum 4.08032965.\n",
      "Packet ID: 90, Timestamp: 2023-08-04 18:37:24, Auditee: [82, 83], Auditor: [97, 98]. SensorID: 0, Status: On, Location: 0. Data: Temp 21.59653184, Pre 1.035, Hum 36.43366138.\n",
      "Packet ID: 91, Timestamp: 2023-08-04 18:37:24, Auditee: [83, 84], Auditor: [98, 99]. SensorID: 0, Status: On, Location: 0. Data: Temp 32.57484504, Pre 1.035, Hum 57.84644551.\n",
      "Packet ID: 92, Timestamp: 2023-08-04 18:37:24, Auditee: [84, 85], Auditor: [99, None]. SensorID: 0, Status: On, Location: 0. Data: Temp 37.96928092, Pre 1.035, Hum 86.32184776.\n",
      "Packet ID: 93, Timestamp: 2023-08-04 18:37:24, Auditee: [85, 86], Auditor: [None, None]. SensorID: 0, Status: On, Location: 0. Data: Temp 48.89207497, Pre 1.025009942, Hum 80.72619415.\n",
      "Packet ID: 94, Timestamp: 2023-08-04 18:37:24, Auditee: [86, 87], Auditor: [None, None]. SensorID: 0, Status: On, Location: 0. Data: Temp 21.30578964, Pre 1.433629816, Hum 63.56191235.\n",
      "Packet ID: 95, Timestamp: 2023-08-04 18:37:24, Auditee: [80, 87], Auditor: [None, None]. SensorID: 0, Status: On, Location: 0. Data: Temp 30.62554366, Pre 1.035, Hum 67.30550454.\n",
      "Packet ID: 96, Timestamp: 2023-08-04 18:37:24, Auditee: [88, 89], Auditor: [None, None]. SensorID: 0, Status: On, Location: 0. Data: Temp 31.64461015, Pre 0.682582328, Hum 29.25399052.\n",
      "Packet ID: 97, Timestamp: 2023-08-04 18:37:24, Auditee: [89, 90], Auditor: [None, None]. SensorID: 0, Status: On, Location: 0. Data: Temp 46.00366628, Pre 1.035, Hum 72.58984385.\n",
      "Packet ID: 98, Timestamp: 2023-08-04 18:37:24, Auditee: [90, 91], Auditor: [None, None]. SensorID: 0, Status: On, Location: 0. Data: Temp 20.85504844, Pre 1.035, Hum 42.42997187.\n",
      "Packet ID: 99, Timestamp: 2023-08-04 18:37:24, Auditee: [91, 92], Auditor: [None, None]. SensorID: 0, Status: On, Location: 0. Data: Temp 23.4168339, Pre 0.924533615, Hum 40.00105869.\n"
     ]
    }
   ],
   "source": [
    "f = FNT.FishingNet(8)\n",
    "\n",
    "for i in range(100):\n",
    "    data = 'Temp ' + str(dataset.iloc[i, 1]) + ', Pre ' + str(dataset.iloc[i, 2]) + ', Hum ' + str(dataset.iloc[i, 3])\n",
    "\n",
    "    f.new_packet(datetime.datetime.now().strftime('%Y-%m-%d %H:%M:%S'),\n",
    "                 dataset.iloc[i, 5], 'On', dataset.iloc[i, 4], data)\n",
    "\n",
    "f.display_fnt()"
   ],
   "metadata": {
    "collapsed": false,
    "pycharm": {
     "name": "#%%\n"
    },
    "ExecuteTime": {
     "end_time": "2023-08-04T10:37:24.621422200Z",
     "start_time": "2023-08-04T10:37:24.594680400Z"
    }
   }
  },
  {
   "cell_type": "code",
   "execution_count": 10,
   "outputs": [],
   "source": [],
   "metadata": {
    "collapsed": false,
    "pycharm": {
     "name": "#%%\n"
    },
    "ExecuteTime": {
     "end_time": "2023-08-04T10:37:24.622422800Z",
     "start_time": "2023-08-04T10:37:24.613804600Z"
    }
   }
  }
 ],
 "metadata": {
  "kernelspec": {
   "display_name": "Python 3",
   "language": "python",
   "name": "python3"
  },
  "language_info": {
   "codemirror_mode": {
    "name": "ipython",
    "version": 2
   },
   "file_extension": ".py",
   "mimetype": "text/x-python",
   "name": "python",
   "nbconvert_exporter": "python",
   "pygments_lexer": "ipython2",
   "version": "2.7.6"
  }
 },
 "nbformat": 4,
 "nbformat_minor": 0
}
