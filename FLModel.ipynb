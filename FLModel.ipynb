{
 "cells": [
  {
   "cell_type": "code",
   "execution_count": 42,
   "id": "472425b580dddcaf",
   "metadata": {
    "collapsed": false,
    "ExecuteTime": {
     "end_time": "2023-11-09T21:13:44.837109900Z",
     "start_time": "2023-11-09T21:13:44.772158500Z"
    }
   },
   "outputs": [],
   "source": [
    "import pandas as pd\n",
    "import numpy as np\n",
    "import torch\n",
    "import torch.nn as nn \n",
    "from torch.utils.data import random_split, DataLoader, TensorDataset \n",
    "import flwr as fl\n",
    "from flwr.common import Metrics\n",
    "from sklearn.metrics import accuracy_score, precision_score, recall_score, f1_score\n",
    "from collections import OrderedDict\n",
    "from typing import List, Tuple\n",
    "import sys\n",
    "import time\n",
    "import warnings\n",
    "warnings.simplefilter('ignore')"
   ]
  },
  {
   "cell_type": "code",
   "execution_count": 43,
   "outputs": [
    {
     "name": "stdout",
     "output_type": "stream",
     "text": [
      "Python version: 3.10.11 (tags/v3.10.11:7d4cc5a, Apr  5 2023, 00:38:17) [MSC v.1929 64 bit (AMD64)]\n",
      "Version info: sys.version_info(major=3, minor=10, micro=11, releaselevel='final', serial=0)\n"
     ]
    }
   ],
   "source": [
    "print(\"Python version:\", sys.version)\n",
    "print(\"Version info:\", sys.version_info)"
   ],
   "metadata": {
    "collapsed": false,
    "ExecuteTime": {
     "end_time": "2023-11-09T21:13:44.884143Z",
     "start_time": "2023-11-09T21:13:44.789569200Z"
    }
   },
   "id": "a03c08d2241fc3fe"
  },
  {
   "cell_type": "code",
   "execution_count": 44,
   "outputs": [
    {
     "name": "stdout",
     "output_type": "stream",
     "text": [
      "Training on cpu using PyTorch 2.1.0+cpu and Flower 1.5.0\n"
     ]
    }
   ],
   "source": [
    "DEVICE = torch.device('cuda:0' if torch.cuda.is_available() else 'cpu')\n",
    "print(f\"Training on {DEVICE} using PyTorch {torch.__version__} and Flower {fl.__version__}\")"
   ],
   "metadata": {
    "collapsed": false,
    "ExecuteTime": {
     "end_time": "2023-11-09T21:13:44.884143Z",
     "start_time": "2023-11-09T21:13:44.805359Z"
    }
   },
   "id": "f80cb111f6bc6cc6"
  },
  {
   "cell_type": "code",
   "execution_count": 45,
   "id": "d6ed94bf98631bf",
   "metadata": {
    "collapsed": false,
    "ExecuteTime": {
     "end_time": "2023-11-09T21:13:44.884143Z",
     "start_time": "2023-11-09T21:13:44.821438600Z"
    }
   },
   "outputs": [],
   "source": [
    "NUM_CLIENTS = 3\n",
    "EPOCHS = 10\n",
    "ROUNDS = 5\n",
    "\n",
    "BATCH_SIZE = 32\n",
    "IN_FEATURES = 3\n",
    "HIDDEN_LAYERS = 80\n",
    "OUT_FEATURES = 2\n",
    "\n",
    "weight = torch.tensor([0.8608, 0.1392])"
   ]
  },
  {
   "cell_type": "code",
   "execution_count": 46,
   "outputs": [],
   "source": [
    "def load_datasets():\n",
    "    df = pd.read_csv('./datasets/label_data.csv')\n",
    "    \n",
    "    feature = df.iloc[:, :-1]\n",
    "    target = df.loc[:, 'label']\n",
    "    feature = torch.Tensor(feature.to_numpy())\n",
    "    target = torch.tensor(target.to_numpy())\n",
    "    tensor_data = TensorDataset(feature, target)\n",
    "    \n",
    "    split_ratio = 0.8\n",
    "    train_split = int(len(feature) * split_ratio)\n",
    "    test_split = len(feature) - train_split\n",
    "    while train_split % NUM_CLIENTS != 0:\n",
    "        train_split -= 1\n",
    "        test_split += 1\n",
    "    train_set, test_set = random_split(tensor_data, [train_split, test_split])  \n",
    "\n",
    "    # split_index = int(len(df) * split_ratio)\n",
    "    # train_set = tensor_data.iloc[:split_index, :]\n",
    "    # test_set = tensor_data.iloc[split_index:, :]\n",
    "    \n",
    "    part_size = len(train_set) // NUM_CLIENTS\n",
    "    length = [part_size] * NUM_CLIENTS  # lengths for each client\n",
    "    \n",
    "    # Split the test set evenly into thirds, removing the remainders\n",
    "    # random_choose = np.random.choice(train_set.index, (len(train_set) % NUM_CLIENTS), replace=False)\n",
    "    # train_set = train_set.drop(random_choose)\n",
    "    \n",
    "    datasets = random_split(train_set, length, generator=torch.Generator().manual_seed(42))\n",
    "    \n",
    "    train_loader = []\n",
    "    val_loader = []\n",
    "    \n",
    "    for data in datasets:\n",
    "        val_length = len(data) // 10  # 10% for validation \n",
    "        \n",
    "        train_length = len(data) - val_length\n",
    "        length = [train_length, val_length]\n",
    "        train_data, val_data = random_split(data, length, generator=torch.Generator().manual_seed(42))\n",
    "        \n",
    "        train_loader.append(DataLoader(train_data, batch_size=BATCH_SIZE, shuffle=True))\n",
    "        val_loader.append(DataLoader(val_data, batch_size=BATCH_SIZE, shuffle=True))\n",
    "    \n",
    "    test_loader = DataLoader(test_set, batch_size=BATCH_SIZE, shuffle=True)\n",
    "    return train_loader, val_loader, test_loader\n",
    "    \n",
    "train_loader, val_loader, test_loader = load_datasets()"
   ],
   "metadata": {
    "collapsed": false,
    "ExecuteTime": {
     "end_time": "2023-11-09T21:13:45.072938500Z",
     "start_time": "2023-11-09T21:13:44.837109900Z"
    }
   },
   "id": "7953758d82a33194"
  },
  {
   "cell_type": "code",
   "execution_count": 47,
   "outputs": [],
   "source": [
    "class Network(nn.Module):\n",
    "    \n",
    "    def __init__(self, IN_FEATURES, HIDDEN_LAYERS, OUT_FEATURES):\n",
    "        super().__init__()\n",
    "        self.flatten = nn.Flatten()\n",
    "        \n",
    "        self.linear_relu_stack = nn.Sequential(\n",
    "            nn.Linear(IN_FEATURES, HIDDEN_LAYERS), \n",
    "            nn.ReLU(),\n",
    "            nn.Linear(HIDDEN_LAYERS, HIDDEN_LAYERS), \n",
    "            nn.ReLU(),\n",
    "            nn.Linear(HIDDEN_LAYERS, OUT_FEATURES), \n",
    "            nn.Softmax(dim=1)\n",
    "        )\n",
    "        \n",
    "    def forward(self, x):\n",
    "        x = self.flatten(x)\n",
    "        logits = self.linear_relu_stack(x)\n",
    "        return logits"
   ],
   "metadata": {
    "collapsed": false,
    "ExecuteTime": {
     "end_time": "2023-11-09T21:13:45.095872500Z",
     "start_time": "2023-11-09T21:13:45.072938500Z"
    }
   },
   "id": "7de944941f3254ed"
  },
  {
   "cell_type": "code",
   "execution_count": 48,
   "outputs": [],
   "source": [
    "def train(model, train_loader, epochs):\n",
    "    criterion = torch.nn.CrossEntropyLoss(weight=weight)\n",
    "    optimizer = torch.optim.Adam(model.parameters(), lr=0.0001)\n",
    "    model.train()\n",
    "    \n",
    "    for epoch in range(1, epochs + 1): \n",
    "        correct, total, epoch_loss = 0, 0, 0.0\n",
    "        \n",
    "        for feature, target in train_loader:\n",
    "            feature, target = feature.to(DEVICE), target.to(DEVICE)\n",
    "            optimizer.zero_grad()\n",
    "            output = model(feature)\n",
    "            train_loss = criterion(output, target)\n",
    "            train_loss.backward()\n",
    "            optimizer.step()\n",
    "            \n",
    "            epoch_loss += train_loss\n",
    "            total += target.size(0)\n",
    "            correct += (torch.max(output.data, 1)[1] == target).sum().item()\n",
    "            \n",
    "        epoch_loss /= len(train_loader.dataset)\n",
    "        epoch_accuracy = correct / total\n",
    "        \n",
    "        print(f\"Epoch {epoch}/{EPOCHS}: train loss is {epoch_loss:.4f}, accuracy is {epoch_accuracy:.4f}.\")"
   ],
   "metadata": {
    "collapsed": false,
    "ExecuteTime": {
     "end_time": "2023-11-09T21:13:45.118935900Z",
     "start_time": "2023-11-09T21:13:45.095872500Z"
    }
   },
   "id": "3b7767fe074ec24"
  },
  {
   "cell_type": "code",
   "execution_count": 49,
   "outputs": [],
   "source": [
    "def test(model, test_loader):\n",
    "    criterion = torch.nn.CrossEntropyLoss(weight=weight)\n",
    "    model.eval()\n",
    "    \n",
    "    correct, total, loss = 0, 0, 0.0\n",
    "    actual_labels = []\n",
    "    predicted_labels = []\n",
    " \n",
    "    with torch.no_grad():\n",
    "        for feature, target in test_loader:\n",
    "            feature, target = feature.to(DEVICE), target.to(DEVICE)\n",
    "            output = model(feature)\n",
    "            _, predicted = torch.max(output.data, 1)\n",
    "            \n",
    "            loss += criterion(output, target).item()\n",
    "            # total += target.size(0)\n",
    "            # correct += (predicted == target).sum().item()\n",
    "            \n",
    "            actual_labels.extend(target.cpu().numpy())\n",
    "            predicted_labels.extend(predicted.cpu().numpy())\n",
    "            \n",
    "        loss /= len(test_loader.dataset)\n",
    "        # accuracy = correct / total\n",
    "        # return loss, accuracy\n",
    "        \n",
    "    accuracy = accuracy_score(actual_labels, predicted_labels)\n",
    "    precision = precision_score(actual_labels, predicted_labels, average='weighted')\n",
    "    recall = recall_score(actual_labels, predicted_labels, average='weighted')\n",
    "    f1 = f1_score(actual_labels, predicted_labels, average='weighted')\n",
    "    \n",
    "    print(\"Testing Result:\"\n",
    "          \"\\n----------------------------------------------------------------------------------------\")\n",
    "    print(f\"Loss: {loss:.4f}   Accuracy: {accuracy:.4f}   Precision: {precision:.4f}   Recall: {recall:.4f}   F1-Score: {f1:.4f}\"\n",
    "          f\"\\n----------------------------------------------------------------------------------------\")"
   ],
   "metadata": {
    "collapsed": false,
    "ExecuteTime": {
     "end_time": "2023-11-09T21:13:45.159547400Z",
     "start_time": "2023-11-09T21:13:45.111931500Z"
    }
   },
   "id": "b55c029f8b011706"
  },
  {
   "cell_type": "code",
   "execution_count": 50,
   "outputs": [
    {
     "name": "stdout",
     "output_type": "stream",
     "text": [
      "Epoch 1/10: train loss is 0.0109, accuracy is 0.8590.\n",
      "Epoch 2/10: train loss is 0.0106, accuracy is 0.8606.\n",
      "Epoch 3/10: train loss is 0.0106, accuracy is 0.8606.\n",
      "Epoch 4/10: train loss is 0.0106, accuracy is 0.8606.\n",
      "Epoch 5/10: train loss is 0.0106, accuracy is 0.8606.\n",
      "Epoch 6/10: train loss is 0.0106, accuracy is 0.8606.\n",
      "Epoch 7/10: train loss is 0.0106, accuracy is 0.8606.\n",
      "Epoch 8/10: train loss is 0.0106, accuracy is 0.8606.\n",
      "Epoch 9/10: train loss is 0.0106, accuracy is 0.8606.\n",
      "Epoch 10/10: train loss is 0.0106, accuracy is 0.8606.\n",
      "\n",
      "Training time: 81.0174 secs.\n",
      "Testing Result:\n",
      "----------------------------------------------------------------------------------------\n",
      "Loss: 0.0106   Accuracy: 0.8633   Precision: 0.7453   Recall: 0.8633   F1-Score: 0.8000\n",
      "----------------------------------------------------------------------------------------\n"
     ]
    }
   ],
   "source": [
    "# PyTorch model testing\n",
    "\n",
    "train_loader = train_loader[1]\n",
    "val_loader = val_loader[1]\n",
    "model = Network(IN_FEATURES, HIDDEN_LAYERS, OUT_FEATURES).to(DEVICE)\n",
    "\n",
    "train_start = time.time()\n",
    "train(model, train_loader, EPOCHS)\n",
    "train_end = time.time()\n",
    "print(f\"\\nTraining time: {train_end - train_start:.4f} secs.\")\n",
    "\n",
    "test(model, val_loader)"
   ],
   "metadata": {
    "collapsed": false,
    "ExecuteTime": {
     "end_time": "2023-11-09T21:15:06.565303300Z",
     "start_time": "2023-11-09T21:13:45.128909900Z"
    }
   },
   "id": "8bacc3940f61904b"
  },
  {
   "cell_type": "code",
   "execution_count": 51,
   "outputs": [],
   "source": [
    "def get_parameters(model) -> List[np.ndarray]:\n",
    "    return [val.cpu().numpy() for _, val in model.state_dict().items()]\n",
    "\n",
    "def set_parameters(model, parameters: List[np.ndarray]):\n",
    "    params_dict = zip(model.state_dict().keys(), parameters)\n",
    "    state_dict = OrderedDict({k: torch.Tensor(v) for k, v in params_dict})\n",
    "    model.load_state_dict(state_dict, strict=True)"
   ],
   "metadata": {
    "collapsed": false,
    "ExecuteTime": {
     "end_time": "2023-11-09T21:15:06.584293300Z",
     "start_time": "2023-11-09T21:15:06.562829300Z"
    }
   },
   "id": "53bb07e9fc48198c"
  },
  {
   "cell_type": "code",
   "execution_count": 52,
   "outputs": [],
   "source": [
    "class FlowerClient(fl.client.NumPyClient):\n",
    "    def __init__(self, cid, model, train_loader, val_loader):\n",
    "        self.cid = cid\n",
    "        self.model = model\n",
    "        self.train_loader = train_loader\n",
    "        self.val_loader = val_loader\n",
    "\n",
    "    def get_parameters(self, config):\n",
    "        print(f\"Client {self.cid} received the parameters.\")\n",
    "        return get_parameters(self.model)\n",
    "\n",
    "    def fit(self, parameters, config):\n",
    "        print(f\"Client {self.cid} fit, config: {config}.\")\n",
    "        set_parameters(self.model, parameters)\n",
    "        train(self.model, self.train_loader, epochs=EPOCHS)\n",
    "        return get_parameters(self.model), len(self.train_loader), {}\n",
    "\n",
    "    def evaluate(self, parameters, config):\n",
    "        print(f\"Client {self.cid} evaluate, config: {config}.\")\n",
    "        set_parameters(self.model, parameters)\n",
    "        loss, accuracy = test(self.model, self.val_loader)\n",
    "        return float(loss), len(self.val_loader), {'accuracy: ': float(accuracy)}"
   ],
   "metadata": {
    "collapsed": false,
    "ExecuteTime": {
     "end_time": "2023-11-09T21:15:06.600540700Z",
     "start_time": "2023-11-09T21:15:06.580251400Z"
    }
   },
   "id": "4a938348b17084cd"
  },
  {
   "cell_type": "code",
   "execution_count": 53,
   "outputs": [],
   "source": [
    "def client_fn(cid: str) -> FlowerClient:\n",
    "    print(f\"Client: {cid} -------------------------------------------------------------------------\")\n",
    "    model = Network(IN_FEATURES, HIDDEN_LAYERS, OUT_FEATURES).to(DEVICE)\n",
    "    \n",
    "    train_loader, val_loader, test_loader = load_datasets()\n",
    "    train_loader = train_loader[int(cid)]\n",
    "    val_loader = val_loader[int(cid)]\n",
    "    \n",
    "    return FlowerClient(cid, model, train_loader, val_loader)"
   ],
   "metadata": {
    "collapsed": false,
    "ExecuteTime": {
     "end_time": "2023-11-09T21:15:06.621546900Z",
     "start_time": "2023-11-09T21:15:06.595653400Z"
    }
   },
   "id": "21917de3493b815d"
  },
  {
   "cell_type": "code",
   "execution_count": 54,
   "outputs": [],
   "source": [
    "def weighted_average(metrics: List[Tuple[int, Metrics]]) -> Metrics:\n",
    "    accuracies = [num_examples * m['accuracy'] for num_examples, m in metrics]\n",
    "    examples = [num_examples for num_examples, _ in metrics]\n",
    "    return {'accuracy': sum(accuracies) / sum(examples)}"
   ],
   "metadata": {
    "collapsed": false,
    "ExecuteTime": {
     "end_time": "2023-11-09T21:15:06.636558600Z",
     "start_time": "2023-11-09T21:15:06.610512Z"
    }
   },
   "id": "51dffba09b1309e9"
  },
  {
   "cell_type": "code",
   "execution_count": 56,
   "outputs": [
    {
     "name": "stderr",
     "output_type": "stream",
     "text": [
      "INFO flwr 2023-11-09 17:15:32,395 | app.py:175 | Starting Flower simulation, config: ServerConfig(num_rounds=5, round_timeout=None)\n"
     ]
    },
    {
     "ename": "FileNotFoundError",
     "evalue": "[WinError 2] 系统找不到指定的文件。",
     "output_type": "error",
     "traceback": [
      "\u001B[1;31m---------------------------------------------------------------------------\u001B[0m",
      "\u001B[1;31mFileNotFoundError\u001B[0m                         Traceback (most recent call last)",
      "Cell \u001B[1;32mIn[56], line 12\u001B[0m\n\u001B[0;32m      1\u001B[0m params \u001B[38;5;241m=\u001B[39m get_parameters(Network(IN_FEATURES, HIDDEN_LAYERS, OUT_FEATURES))\n\u001B[0;32m      3\u001B[0m strategy \u001B[38;5;241m=\u001B[39m fl\u001B[38;5;241m.\u001B[39mserver\u001B[38;5;241m.\u001B[39mstrategy\u001B[38;5;241m.\u001B[39mFedAvg(\n\u001B[0;32m      4\u001B[0m     fraction_fit\u001B[38;5;241m=\u001B[39m\u001B[38;5;241m1.0\u001B[39m,\n\u001B[0;32m      5\u001B[0m     fraction_evaluate\u001B[38;5;241m=\u001B[39m\u001B[38;5;241m1.0\u001B[39m,\n\u001B[1;32m   (...)\u001B[0m\n\u001B[0;32m      9\u001B[0m     initial_parameters\u001B[38;5;241m=\u001B[39mfl\u001B[38;5;241m.\u001B[39mcommon\u001B[38;5;241m.\u001B[39mndarrays_to_parameters(params),\n\u001B[0;32m     10\u001B[0m )\n\u001B[1;32m---> 12\u001B[0m \u001B[43mfl\u001B[49m\u001B[38;5;241;43m.\u001B[39;49m\u001B[43msimulation\u001B[49m\u001B[38;5;241;43m.\u001B[39;49m\u001B[43mstart_simulation\u001B[49m\u001B[43m(\u001B[49m\n\u001B[0;32m     13\u001B[0m \u001B[43m    \u001B[49m\u001B[43mclient_fn\u001B[49m\u001B[38;5;241;43m=\u001B[39;49m\u001B[43mclient_fn\u001B[49m\u001B[43m,\u001B[49m\n\u001B[0;32m     14\u001B[0m \u001B[43m    \u001B[49m\u001B[43mnum_clients\u001B[49m\u001B[38;5;241;43m=\u001B[39;49m\u001B[43mNUM_CLIENTS\u001B[49m\u001B[43m,\u001B[49m\n\u001B[0;32m     15\u001B[0m \u001B[43m    \u001B[49m\u001B[43mconfig\u001B[49m\u001B[38;5;241;43m=\u001B[39;49m\u001B[43mfl\u001B[49m\u001B[38;5;241;43m.\u001B[39;49m\u001B[43mserver\u001B[49m\u001B[38;5;241;43m.\u001B[39;49m\u001B[43mServerConfig\u001B[49m\u001B[43m(\u001B[49m\u001B[43mnum_rounds\u001B[49m\u001B[38;5;241;43m=\u001B[39;49m\u001B[43mROUNDS\u001B[49m\u001B[43m)\u001B[49m\u001B[43m,\u001B[49m\n\u001B[0;32m     16\u001B[0m \u001B[43m    \u001B[49m\u001B[43mstrategy\u001B[49m\u001B[38;5;241;43m=\u001B[39;49m\u001B[43mstrategy\u001B[49m\u001B[43m,\u001B[49m\n\u001B[0;32m     17\u001B[0m \u001B[43m)\u001B[49m\n",
      "File \u001B[1;32m~\\AppData\\Local\\Programs\\Python\\Python310\\lib\\site-packages\\flwr\\simulation\\app.py:208\u001B[0m, in \u001B[0;36mstart_simulation\u001B[1;34m(client_fn, num_clients, clients_ids, client_resources, server, config, strategy, client_manager, ray_init_args, keep_initialised, actor_type, actor_kwargs, actor_scheduling)\u001B[0m\n\u001B[0;32m    205\u001B[0m     ray\u001B[38;5;241m.\u001B[39mshutdown()\n\u001B[0;32m    207\u001B[0m \u001B[38;5;66;03m# Initialize Ray\u001B[39;00m\n\u001B[1;32m--> 208\u001B[0m ray\u001B[38;5;241m.\u001B[39minit(\u001B[38;5;241m*\u001B[39m\u001B[38;5;241m*\u001B[39mray_init_args)\n\u001B[0;32m    209\u001B[0m cluster_resources \u001B[38;5;241m=\u001B[39m ray\u001B[38;5;241m.\u001B[39mcluster_resources()\n\u001B[0;32m    210\u001B[0m log(\n\u001B[0;32m    211\u001B[0m     INFO,\n\u001B[0;32m    212\u001B[0m     \u001B[38;5;124m\"\u001B[39m\u001B[38;5;124mFlower VCE: Ray initialized with resources: \u001B[39m\u001B[38;5;132;01m%s\u001B[39;00m\u001B[38;5;124m\"\u001B[39m,\n\u001B[0;32m    213\u001B[0m     cluster_resources,\n\u001B[0;32m    214\u001B[0m )\n",
      "File \u001B[1;32m~\\AppData\\Local\\Programs\\Python\\Python310\\lib\\site-packages\\ray\\_private\\client_mode_hook.py:103\u001B[0m, in \u001B[0;36mclient_mode_hook.<locals>.wrapper\u001B[1;34m(*args, **kwargs)\u001B[0m\n\u001B[0;32m    101\u001B[0m     \u001B[38;5;28;01mif\u001B[39;00m func\u001B[38;5;241m.\u001B[39m\u001B[38;5;18m__name__\u001B[39m \u001B[38;5;241m!=\u001B[39m \u001B[38;5;124m\"\u001B[39m\u001B[38;5;124minit\u001B[39m\u001B[38;5;124m\"\u001B[39m \u001B[38;5;129;01mor\u001B[39;00m is_client_mode_enabled_by_default:\n\u001B[0;32m    102\u001B[0m         \u001B[38;5;28;01mreturn\u001B[39;00m \u001B[38;5;28mgetattr\u001B[39m(ray, func\u001B[38;5;241m.\u001B[39m\u001B[38;5;18m__name__\u001B[39m)(\u001B[38;5;241m*\u001B[39margs, \u001B[38;5;241m*\u001B[39m\u001B[38;5;241m*\u001B[39mkwargs)\n\u001B[1;32m--> 103\u001B[0m \u001B[38;5;28;01mreturn\u001B[39;00m func(\u001B[38;5;241m*\u001B[39margs, \u001B[38;5;241m*\u001B[39m\u001B[38;5;241m*\u001B[39mkwargs)\n",
      "File \u001B[1;32m~\\AppData\\Local\\Programs\\Python\\Python310\\lib\\site-packages\\ray\\_private\\worker.py:1514\u001B[0m, in \u001B[0;36minit\u001B[1;34m(address, num_cpus, num_gpus, resources, labels, object_store_memory, local_mode, ignore_reinit_error, include_dashboard, dashboard_host, dashboard_port, job_config, configure_logging, logging_level, logging_format, log_to_driver, namespace, runtime_env, storage, **kwargs)\u001B[0m\n\u001B[0;32m   1480\u001B[0m     ray_params \u001B[38;5;241m=\u001B[39m ray\u001B[38;5;241m.\u001B[39m_private\u001B[38;5;241m.\u001B[39mparameter\u001B[38;5;241m.\u001B[39mRayParams(\n\u001B[0;32m   1481\u001B[0m         node_ip_address\u001B[38;5;241m=\u001B[39mnode_ip_address,\n\u001B[0;32m   1482\u001B[0m         raylet_ip_address\u001B[38;5;241m=\u001B[39mraylet_ip_address,\n\u001B[1;32m   (...)\u001B[0m\n\u001B[0;32m   1508\u001B[0m         node_name\u001B[38;5;241m=\u001B[39m_node_name,\n\u001B[0;32m   1509\u001B[0m     )\n\u001B[0;32m   1510\u001B[0m     \u001B[38;5;66;03m# Start the Ray processes. We set shutdown_at_exit=False because we\u001B[39;00m\n\u001B[0;32m   1511\u001B[0m     \u001B[38;5;66;03m# shutdown the node in the ray.shutdown call that happens in the atexit\u001B[39;00m\n\u001B[0;32m   1512\u001B[0m     \u001B[38;5;66;03m# handler. We still spawn a reaper process in case the atexit handler\u001B[39;00m\n\u001B[0;32m   1513\u001B[0m     \u001B[38;5;66;03m# isn't called.\u001B[39;00m\n\u001B[1;32m-> 1514\u001B[0m     _global_node \u001B[38;5;241m=\u001B[39m \u001B[43mray\u001B[49m\u001B[38;5;241;43m.\u001B[39;49m\u001B[43m_private\u001B[49m\u001B[38;5;241;43m.\u001B[39;49m\u001B[43mnode\u001B[49m\u001B[38;5;241;43m.\u001B[39;49m\u001B[43mNode\u001B[49m\u001B[43m(\u001B[49m\n\u001B[0;32m   1515\u001B[0m \u001B[43m        \u001B[49m\u001B[43mhead\u001B[49m\u001B[38;5;241;43m=\u001B[39;49m\u001B[38;5;28;43;01mTrue\u001B[39;49;00m\u001B[43m,\u001B[49m\n\u001B[0;32m   1516\u001B[0m \u001B[43m        \u001B[49m\u001B[43mshutdown_at_exit\u001B[49m\u001B[38;5;241;43m=\u001B[39;49m\u001B[38;5;28;43;01mFalse\u001B[39;49;00m\u001B[43m,\u001B[49m\n\u001B[0;32m   1517\u001B[0m \u001B[43m        \u001B[49m\u001B[43mspawn_reaper\u001B[49m\u001B[38;5;241;43m=\u001B[39;49m\u001B[38;5;28;43;01mTrue\u001B[39;49;00m\u001B[43m,\u001B[49m\n\u001B[0;32m   1518\u001B[0m \u001B[43m        \u001B[49m\u001B[43mray_params\u001B[49m\u001B[38;5;241;43m=\u001B[39;49m\u001B[43mray_params\u001B[49m\u001B[43m,\u001B[49m\n\u001B[0;32m   1519\u001B[0m \u001B[43m    \u001B[49m\u001B[43m)\u001B[49m\n\u001B[0;32m   1520\u001B[0m \u001B[38;5;28;01melse\u001B[39;00m:\n\u001B[0;32m   1521\u001B[0m     \u001B[38;5;66;03m# In this case, we are connecting to an existing cluster.\u001B[39;00m\n\u001B[0;32m   1522\u001B[0m     \u001B[38;5;28;01mif\u001B[39;00m num_cpus \u001B[38;5;129;01mis\u001B[39;00m \u001B[38;5;129;01mnot\u001B[39;00m \u001B[38;5;28;01mNone\u001B[39;00m \u001B[38;5;129;01mor\u001B[39;00m num_gpus \u001B[38;5;129;01mis\u001B[39;00m \u001B[38;5;129;01mnot\u001B[39;00m \u001B[38;5;28;01mNone\u001B[39;00m:\n",
      "File \u001B[1;32m~\\AppData\\Local\\Programs\\Python\\Python310\\lib\\site-packages\\ray\\_private\\node.py:290\u001B[0m, in \u001B[0;36mNode.__init__\u001B[1;34m(self, ray_params, head, shutdown_at_exit, spawn_reaper, connect_only, default_worker)\u001B[0m\n\u001B[0;32m    287\u001B[0m     \u001B[38;5;28mself\u001B[39m\u001B[38;5;241m.\u001B[39mstart_head_processes()\n\u001B[0;32m    289\u001B[0m \u001B[38;5;28;01mif\u001B[39;00m \u001B[38;5;129;01mnot\u001B[39;00m connect_only:\n\u001B[1;32m--> 290\u001B[0m     \u001B[38;5;28;43mself\u001B[39;49m\u001B[38;5;241;43m.\u001B[39;49m\u001B[43mstart_ray_processes\u001B[49m\u001B[43m(\u001B[49m\u001B[43m)\u001B[49m\n\u001B[0;32m    291\u001B[0m     \u001B[38;5;66;03m# we should update the address info after the node has been started\u001B[39;00m\n\u001B[0;32m    292\u001B[0m     \u001B[38;5;28;01mtry\u001B[39;00m:\n",
      "File \u001B[1;32m~\\AppData\\Local\\Programs\\Python\\Python310\\lib\\site-packages\\ray\\_private\\node.py:1214\u001B[0m, in \u001B[0;36mNode.start_ray_processes\u001B[1;34m(self)\u001B[0m\n\u001B[0;32m   1210\u001B[0m \u001B[38;5;28mself\u001B[39m\u001B[38;5;241m.\u001B[39mdestroy_external_storage()\n\u001B[0;32m   1212\u001B[0m \u001B[38;5;66;03m# Make sure we don't call `determine_plasma_store_config` multiple\u001B[39;00m\n\u001B[0;32m   1213\u001B[0m \u001B[38;5;66;03m# times to avoid printing multiple warnings.\u001B[39;00m\n\u001B[1;32m-> 1214\u001B[0m resource_spec \u001B[38;5;241m=\u001B[39m \u001B[38;5;28;43mself\u001B[39;49m\u001B[38;5;241;43m.\u001B[39;49m\u001B[43mget_resource_spec\u001B[49m\u001B[43m(\u001B[49m\u001B[43m)\u001B[49m\n\u001B[0;32m   1215\u001B[0m (\n\u001B[0;32m   1216\u001B[0m     plasma_directory,\n\u001B[0;32m   1217\u001B[0m     object_store_memory,\n\u001B[1;32m   (...)\u001B[0m\n\u001B[0;32m   1221\u001B[0m     huge_pages\u001B[38;5;241m=\u001B[39m\u001B[38;5;28mself\u001B[39m\u001B[38;5;241m.\u001B[39m_ray_params\u001B[38;5;241m.\u001B[39mhuge_pages,\n\u001B[0;32m   1222\u001B[0m )\n\u001B[0;32m   1223\u001B[0m \u001B[38;5;28mself\u001B[39m\u001B[38;5;241m.\u001B[39mstart_raylet(plasma_directory, object_store_memory)\n",
      "File \u001B[1;32m~\\AppData\\Local\\Programs\\Python\\Python310\\lib\\site-packages\\ray\\_private\\node.py:459\u001B[0m, in \u001B[0;36mNode.get_resource_spec\u001B[1;34m(self)\u001B[0m\n\u001B[0;32m    451\u001B[0m         logger\u001B[38;5;241m.\u001B[39mdebug(\u001B[38;5;124mf\u001B[39m\u001B[38;5;124m\"\u001B[39m\u001B[38;5;124mAutoscaler overriding resources: \u001B[39m\u001B[38;5;132;01m{\u001B[39;00menv_resources\u001B[38;5;132;01m}\u001B[39;00m\u001B[38;5;124m.\u001B[39m\u001B[38;5;124m\"\u001B[39m)\n\u001B[0;32m    452\u001B[0m     (\n\u001B[0;32m    453\u001B[0m         num_cpus,\n\u001B[0;32m    454\u001B[0m         num_gpus,\n\u001B[1;32m   (...)\u001B[0m\n\u001B[0;32m    457\u001B[0m         resources,\n\u001B[0;32m    458\u001B[0m     ) \u001B[38;5;241m=\u001B[39m merge_resources(env_resources, \u001B[38;5;28mself\u001B[39m\u001B[38;5;241m.\u001B[39m_ray_params\u001B[38;5;241m.\u001B[39mresources)\n\u001B[1;32m--> 459\u001B[0m     \u001B[38;5;28mself\u001B[39m\u001B[38;5;241m.\u001B[39m_resource_spec \u001B[38;5;241m=\u001B[39m \u001B[43mResourceSpec\u001B[49m\u001B[43m(\u001B[49m\n\u001B[0;32m    460\u001B[0m \u001B[43m        \u001B[49m\u001B[38;5;28;43mself\u001B[39;49m\u001B[38;5;241;43m.\u001B[39;49m\u001B[43m_ray_params\u001B[49m\u001B[38;5;241;43m.\u001B[39;49m\u001B[43mnum_cpus\u001B[49m\u001B[43m \u001B[49m\u001B[38;5;28;43;01mif\u001B[39;49;00m\u001B[43m \u001B[49m\u001B[43mnum_cpus\u001B[49m\u001B[43m \u001B[49m\u001B[38;5;129;43;01mis\u001B[39;49;00m\u001B[43m \u001B[49m\u001B[38;5;28;43;01mNone\u001B[39;49;00m\u001B[43m \u001B[49m\u001B[38;5;28;43;01melse\u001B[39;49;00m\u001B[43m \u001B[49m\u001B[43mnum_cpus\u001B[49m\u001B[43m,\u001B[49m\n\u001B[0;32m    461\u001B[0m \u001B[43m        \u001B[49m\u001B[38;5;28;43mself\u001B[39;49m\u001B[38;5;241;43m.\u001B[39;49m\u001B[43m_ray_params\u001B[49m\u001B[38;5;241;43m.\u001B[39;49m\u001B[43mnum_gpus\u001B[49m\u001B[43m \u001B[49m\u001B[38;5;28;43;01mif\u001B[39;49;00m\u001B[43m \u001B[49m\u001B[43mnum_gpus\u001B[49m\u001B[43m \u001B[49m\u001B[38;5;129;43;01mis\u001B[39;49;00m\u001B[43m \u001B[49m\u001B[38;5;28;43;01mNone\u001B[39;49;00m\u001B[43m \u001B[49m\u001B[38;5;28;43;01melse\u001B[39;49;00m\u001B[43m \u001B[49m\u001B[43mnum_gpus\u001B[49m\u001B[43m,\u001B[49m\n\u001B[0;32m    462\u001B[0m \u001B[43m        \u001B[49m\u001B[38;5;28;43mself\u001B[39;49m\u001B[38;5;241;43m.\u001B[39;49m\u001B[43m_ray_params\u001B[49m\u001B[38;5;241;43m.\u001B[39;49m\u001B[43mmemory\u001B[49m\u001B[43m \u001B[49m\u001B[38;5;28;43;01mif\u001B[39;49;00m\u001B[43m \u001B[49m\u001B[43mmemory\u001B[49m\u001B[43m \u001B[49m\u001B[38;5;129;43;01mis\u001B[39;49;00m\u001B[43m \u001B[49m\u001B[38;5;28;43;01mNone\u001B[39;49;00m\u001B[43m \u001B[49m\u001B[38;5;28;43;01melse\u001B[39;49;00m\u001B[43m \u001B[49m\u001B[43mmemory\u001B[49m\u001B[43m,\u001B[49m\n\u001B[0;32m    463\u001B[0m \u001B[43m        \u001B[49m\u001B[38;5;28;43mself\u001B[39;49m\u001B[38;5;241;43m.\u001B[39;49m\u001B[43m_ray_params\u001B[49m\u001B[38;5;241;43m.\u001B[39;49m\u001B[43mobject_store_memory\u001B[49m\n\u001B[0;32m    464\u001B[0m \u001B[43m        \u001B[49m\u001B[38;5;28;43;01mif\u001B[39;49;00m\u001B[43m \u001B[49m\u001B[43mobject_store_memory\u001B[49m\u001B[43m \u001B[49m\u001B[38;5;129;43;01mis\u001B[39;49;00m\u001B[43m \u001B[49m\u001B[38;5;28;43;01mNone\u001B[39;49;00m\n\u001B[0;32m    465\u001B[0m \u001B[43m        \u001B[49m\u001B[38;5;28;43;01melse\u001B[39;49;00m\u001B[43m \u001B[49m\u001B[43mobject_store_memory\u001B[49m\u001B[43m,\u001B[49m\n\u001B[0;32m    466\u001B[0m \u001B[43m        \u001B[49m\u001B[43mresources\u001B[49m\u001B[43m,\u001B[49m\n\u001B[0;32m    467\u001B[0m \u001B[43m        \u001B[49m\u001B[38;5;28;43mself\u001B[39;49m\u001B[38;5;241;43m.\u001B[39;49m\u001B[43m_ray_params\u001B[49m\u001B[38;5;241;43m.\u001B[39;49m\u001B[43mredis_max_memory\u001B[49m\u001B[43m,\u001B[49m\n\u001B[0;32m    468\u001B[0m \u001B[43m    \u001B[49m\u001B[43m)\u001B[49m\u001B[38;5;241;43m.\u001B[39;49m\u001B[43mresolve\u001B[49m\u001B[43m(\u001B[49m\u001B[43mis_head\u001B[49m\u001B[38;5;241;43m=\u001B[39;49m\u001B[38;5;28;43mself\u001B[39;49m\u001B[38;5;241;43m.\u001B[39;49m\u001B[43mhead\u001B[49m\u001B[43m,\u001B[49m\u001B[43m \u001B[49m\u001B[43mnode_ip_address\u001B[49m\u001B[38;5;241;43m=\u001B[39;49m\u001B[38;5;28;43mself\u001B[39;49m\u001B[38;5;241;43m.\u001B[39;49m\u001B[43mnode_ip_address\u001B[49m\u001B[43m)\u001B[49m\n\u001B[0;32m    469\u001B[0m \u001B[38;5;28;01mreturn\u001B[39;00m \u001B[38;5;28mself\u001B[39m\u001B[38;5;241m.\u001B[39m_resource_spec\n",
      "File \u001B[1;32m~\\AppData\\Local\\Programs\\Python\\Python310\\lib\\site-packages\\ray\\_private\\resource_spec.py:186\u001B[0m, in \u001B[0;36mResourceSpec.resolve\u001B[1;34m(self, is_head, node_ip_address)\u001B[0m\n\u001B[0;32m    180\u001B[0m     \u001B[38;5;28;01mraise\u001B[39;00m \u001B[38;5;167;01mValueError\u001B[39;00m(\n\u001B[0;32m    181\u001B[0m         \u001B[38;5;124m\"\u001B[39m\u001B[38;5;124mAttempting to start raylet with \u001B[39m\u001B[38;5;132;01m{}\u001B[39;00m\u001B[38;5;124m GPUs, \u001B[39m\u001B[38;5;124m\"\u001B[39m\n\u001B[0;32m    182\u001B[0m         \u001B[38;5;124m\"\u001B[39m\u001B[38;5;124mbut CUDA_VISIBLE_DEVICES contains \u001B[39m\u001B[38;5;132;01m{}\u001B[39;00m\u001B[38;5;124m.\u001B[39m\u001B[38;5;124m\"\u001B[39m\u001B[38;5;241m.\u001B[39mformat(num_gpus, gpu_ids)\n\u001B[0;32m    183\u001B[0m     )\n\u001B[0;32m    184\u001B[0m \u001B[38;5;28;01mif\u001B[39;00m num_gpus \u001B[38;5;129;01mis\u001B[39;00m \u001B[38;5;28;01mNone\u001B[39;00m:\n\u001B[0;32m    185\u001B[0m     \u001B[38;5;66;03m# Try to automatically detect the number of GPUs.\u001B[39;00m\n\u001B[1;32m--> 186\u001B[0m     num_gpus \u001B[38;5;241m=\u001B[39m \u001B[43m_autodetect_num_gpus\u001B[49m\u001B[43m(\u001B[49m\u001B[43m)\u001B[49m\n\u001B[0;32m    187\u001B[0m     \u001B[38;5;66;03m# Don't use more GPUs than allowed by CUDA_VISIBLE_DEVICES.\u001B[39;00m\n\u001B[0;32m    188\u001B[0m     \u001B[38;5;28;01mif\u001B[39;00m gpu_ids \u001B[38;5;129;01mis\u001B[39;00m \u001B[38;5;129;01mnot\u001B[39;00m \u001B[38;5;28;01mNone\u001B[39;00m:\n",
      "File \u001B[1;32m~\\AppData\\Local\\Programs\\Python\\Python310\\lib\\site-packages\\ray\\_private\\resource_spec.py:298\u001B[0m, in \u001B[0;36m_autodetect_num_gpus\u001B[1;34m()\u001B[0m\n\u001B[0;32m    296\u001B[0m     props \u001B[38;5;241m=\u001B[39m \u001B[38;5;124m\"\u001B[39m\u001B[38;5;124mAdapterCompatibility\u001B[39m\u001B[38;5;124m\"\u001B[39m\n\u001B[0;32m    297\u001B[0m     cmdargs \u001B[38;5;241m=\u001B[39m [\u001B[38;5;124m\"\u001B[39m\u001B[38;5;124mWMIC\u001B[39m\u001B[38;5;124m\"\u001B[39m, \u001B[38;5;124m\"\u001B[39m\u001B[38;5;124mPATH\u001B[39m\u001B[38;5;124m\"\u001B[39m, \u001B[38;5;124m\"\u001B[39m\u001B[38;5;124mWin32_VideoController\u001B[39m\u001B[38;5;124m\"\u001B[39m, \u001B[38;5;124m\"\u001B[39m\u001B[38;5;124mGET\u001B[39m\u001B[38;5;124m\"\u001B[39m, props]\n\u001B[1;32m--> 298\u001B[0m     lines \u001B[38;5;241m=\u001B[39m \u001B[43msubprocess\u001B[49m\u001B[38;5;241;43m.\u001B[39;49m\u001B[43mcheck_output\u001B[49m\u001B[43m(\u001B[49m\u001B[43mcmdargs\u001B[49m\u001B[43m)\u001B[49m\u001B[38;5;241m.\u001B[39msplitlines()[\u001B[38;5;241m1\u001B[39m:]\n\u001B[0;32m    299\u001B[0m     result \u001B[38;5;241m=\u001B[39m \u001B[38;5;28mlen\u001B[39m([x\u001B[38;5;241m.\u001B[39mrstrip() \u001B[38;5;28;01mfor\u001B[39;00m x \u001B[38;5;129;01min\u001B[39;00m lines \u001B[38;5;28;01mif\u001B[39;00m x\u001B[38;5;241m.\u001B[39mstartswith(\u001B[38;5;124mb\u001B[39m\u001B[38;5;124m\"\u001B[39m\u001B[38;5;124mNVIDIA\u001B[39m\u001B[38;5;124m\"\u001B[39m)])\n\u001B[0;32m    300\u001B[0m \u001B[38;5;28;01mreturn\u001B[39;00m result\n",
      "File \u001B[1;32m~\\AppData\\Local\\Programs\\Python\\Python310\\lib\\subprocess.py:421\u001B[0m, in \u001B[0;36mcheck_output\u001B[1;34m(timeout, *popenargs, **kwargs)\u001B[0m\n\u001B[0;32m    418\u001B[0m         empty \u001B[38;5;241m=\u001B[39m \u001B[38;5;124mb\u001B[39m\u001B[38;5;124m'\u001B[39m\u001B[38;5;124m'\u001B[39m\n\u001B[0;32m    419\u001B[0m     kwargs[\u001B[38;5;124m'\u001B[39m\u001B[38;5;124minput\u001B[39m\u001B[38;5;124m'\u001B[39m] \u001B[38;5;241m=\u001B[39m empty\n\u001B[1;32m--> 421\u001B[0m \u001B[38;5;28;01mreturn\u001B[39;00m run(\u001B[38;5;241m*\u001B[39mpopenargs, stdout\u001B[38;5;241m=\u001B[39mPIPE, timeout\u001B[38;5;241m=\u001B[39mtimeout, check\u001B[38;5;241m=\u001B[39m\u001B[38;5;28;01mTrue\u001B[39;00m,\n\u001B[0;32m    422\u001B[0m            \u001B[38;5;241m*\u001B[39m\u001B[38;5;241m*\u001B[39mkwargs)\u001B[38;5;241m.\u001B[39mstdout\n",
      "File \u001B[1;32m~\\AppData\\Local\\Programs\\Python\\Python310\\lib\\subprocess.py:503\u001B[0m, in \u001B[0;36mrun\u001B[1;34m(input, capture_output, timeout, check, *popenargs, **kwargs)\u001B[0m\n\u001B[0;32m    500\u001B[0m     kwargs[\u001B[38;5;124m'\u001B[39m\u001B[38;5;124mstdout\u001B[39m\u001B[38;5;124m'\u001B[39m] \u001B[38;5;241m=\u001B[39m PIPE\n\u001B[0;32m    501\u001B[0m     kwargs[\u001B[38;5;124m'\u001B[39m\u001B[38;5;124mstderr\u001B[39m\u001B[38;5;124m'\u001B[39m] \u001B[38;5;241m=\u001B[39m PIPE\n\u001B[1;32m--> 503\u001B[0m \u001B[38;5;28;01mwith\u001B[39;00m Popen(\u001B[38;5;241m*\u001B[39mpopenargs, \u001B[38;5;241m*\u001B[39m\u001B[38;5;241m*\u001B[39mkwargs) \u001B[38;5;28;01mas\u001B[39;00m process:\n\u001B[0;32m    504\u001B[0m     \u001B[38;5;28;01mtry\u001B[39;00m:\n\u001B[0;32m    505\u001B[0m         stdout, stderr \u001B[38;5;241m=\u001B[39m process\u001B[38;5;241m.\u001B[39mcommunicate(\u001B[38;5;28minput\u001B[39m, timeout\u001B[38;5;241m=\u001B[39mtimeout)\n",
      "File \u001B[1;32m~\\AppData\\Local\\Programs\\Python\\Python310\\lib\\subprocess.py:971\u001B[0m, in \u001B[0;36mPopen.__init__\u001B[1;34m(self, args, bufsize, executable, stdin, stdout, stderr, preexec_fn, close_fds, shell, cwd, env, universal_newlines, startupinfo, creationflags, restore_signals, start_new_session, pass_fds, user, group, extra_groups, encoding, errors, text, umask, pipesize)\u001B[0m\n\u001B[0;32m    967\u001B[0m         \u001B[38;5;28;01mif\u001B[39;00m \u001B[38;5;28mself\u001B[39m\u001B[38;5;241m.\u001B[39mtext_mode:\n\u001B[0;32m    968\u001B[0m             \u001B[38;5;28mself\u001B[39m\u001B[38;5;241m.\u001B[39mstderr \u001B[38;5;241m=\u001B[39m io\u001B[38;5;241m.\u001B[39mTextIOWrapper(\u001B[38;5;28mself\u001B[39m\u001B[38;5;241m.\u001B[39mstderr,\n\u001B[0;32m    969\u001B[0m                     encoding\u001B[38;5;241m=\u001B[39mencoding, errors\u001B[38;5;241m=\u001B[39merrors)\n\u001B[1;32m--> 971\u001B[0m     \u001B[38;5;28;43mself\u001B[39;49m\u001B[38;5;241;43m.\u001B[39;49m\u001B[43m_execute_child\u001B[49m\u001B[43m(\u001B[49m\u001B[43margs\u001B[49m\u001B[43m,\u001B[49m\u001B[43m \u001B[49m\u001B[43mexecutable\u001B[49m\u001B[43m,\u001B[49m\u001B[43m \u001B[49m\u001B[43mpreexec_fn\u001B[49m\u001B[43m,\u001B[49m\u001B[43m \u001B[49m\u001B[43mclose_fds\u001B[49m\u001B[43m,\u001B[49m\n\u001B[0;32m    972\u001B[0m \u001B[43m                        \u001B[49m\u001B[43mpass_fds\u001B[49m\u001B[43m,\u001B[49m\u001B[43m \u001B[49m\u001B[43mcwd\u001B[49m\u001B[43m,\u001B[49m\u001B[43m \u001B[49m\u001B[43menv\u001B[49m\u001B[43m,\u001B[49m\n\u001B[0;32m    973\u001B[0m \u001B[43m                        \u001B[49m\u001B[43mstartupinfo\u001B[49m\u001B[43m,\u001B[49m\u001B[43m \u001B[49m\u001B[43mcreationflags\u001B[49m\u001B[43m,\u001B[49m\u001B[43m \u001B[49m\u001B[43mshell\u001B[49m\u001B[43m,\u001B[49m\n\u001B[0;32m    974\u001B[0m \u001B[43m                        \u001B[49m\u001B[43mp2cread\u001B[49m\u001B[43m,\u001B[49m\u001B[43m \u001B[49m\u001B[43mp2cwrite\u001B[49m\u001B[43m,\u001B[49m\n\u001B[0;32m    975\u001B[0m \u001B[43m                        \u001B[49m\u001B[43mc2pread\u001B[49m\u001B[43m,\u001B[49m\u001B[43m \u001B[49m\u001B[43mc2pwrite\u001B[49m\u001B[43m,\u001B[49m\n\u001B[0;32m    976\u001B[0m \u001B[43m                        \u001B[49m\u001B[43merrread\u001B[49m\u001B[43m,\u001B[49m\u001B[43m \u001B[49m\u001B[43merrwrite\u001B[49m\u001B[43m,\u001B[49m\n\u001B[0;32m    977\u001B[0m \u001B[43m                        \u001B[49m\u001B[43mrestore_signals\u001B[49m\u001B[43m,\u001B[49m\n\u001B[0;32m    978\u001B[0m \u001B[43m                        \u001B[49m\u001B[43mgid\u001B[49m\u001B[43m,\u001B[49m\u001B[43m \u001B[49m\u001B[43mgids\u001B[49m\u001B[43m,\u001B[49m\u001B[43m \u001B[49m\u001B[43muid\u001B[49m\u001B[43m,\u001B[49m\u001B[43m \u001B[49m\u001B[43mumask\u001B[49m\u001B[43m,\u001B[49m\n\u001B[0;32m    979\u001B[0m \u001B[43m                        \u001B[49m\u001B[43mstart_new_session\u001B[49m\u001B[43m)\u001B[49m\n\u001B[0;32m    980\u001B[0m \u001B[38;5;28;01mexcept\u001B[39;00m:\n\u001B[0;32m    981\u001B[0m     \u001B[38;5;66;03m# Cleanup if the child failed starting.\u001B[39;00m\n\u001B[0;32m    982\u001B[0m     \u001B[38;5;28;01mfor\u001B[39;00m f \u001B[38;5;129;01min\u001B[39;00m \u001B[38;5;28mfilter\u001B[39m(\u001B[38;5;28;01mNone\u001B[39;00m, (\u001B[38;5;28mself\u001B[39m\u001B[38;5;241m.\u001B[39mstdin, \u001B[38;5;28mself\u001B[39m\u001B[38;5;241m.\u001B[39mstdout, \u001B[38;5;28mself\u001B[39m\u001B[38;5;241m.\u001B[39mstderr)):\n",
      "File \u001B[1;32m~\\AppData\\Local\\Programs\\Python\\Python310\\lib\\subprocess.py:1456\u001B[0m, in \u001B[0;36mPopen._execute_child\u001B[1;34m(self, args, executable, preexec_fn, close_fds, pass_fds, cwd, env, startupinfo, creationflags, shell, p2cread, p2cwrite, c2pread, c2pwrite, errread, errwrite, unused_restore_signals, unused_gid, unused_gids, unused_uid, unused_umask, unused_start_new_session)\u001B[0m\n\u001B[0;32m   1454\u001B[0m \u001B[38;5;66;03m# Start the process\u001B[39;00m\n\u001B[0;32m   1455\u001B[0m \u001B[38;5;28;01mtry\u001B[39;00m:\n\u001B[1;32m-> 1456\u001B[0m     hp, ht, pid, tid \u001B[38;5;241m=\u001B[39m \u001B[43m_winapi\u001B[49m\u001B[38;5;241;43m.\u001B[39;49m\u001B[43mCreateProcess\u001B[49m\u001B[43m(\u001B[49m\u001B[43mexecutable\u001B[49m\u001B[43m,\u001B[49m\u001B[43m \u001B[49m\u001B[43margs\u001B[49m\u001B[43m,\u001B[49m\n\u001B[0;32m   1457\u001B[0m \u001B[43m                             \u001B[49m\u001B[38;5;66;43;03m# no special security\u001B[39;49;00m\n\u001B[0;32m   1458\u001B[0m \u001B[43m                             \u001B[49m\u001B[38;5;28;43;01mNone\u001B[39;49;00m\u001B[43m,\u001B[49m\u001B[43m \u001B[49m\u001B[38;5;28;43;01mNone\u001B[39;49;00m\u001B[43m,\u001B[49m\n\u001B[0;32m   1459\u001B[0m \u001B[43m                             \u001B[49m\u001B[38;5;28;43mint\u001B[39;49m\u001B[43m(\u001B[49m\u001B[38;5;129;43;01mnot\u001B[39;49;00m\u001B[43m \u001B[49m\u001B[43mclose_fds\u001B[49m\u001B[43m)\u001B[49m\u001B[43m,\u001B[49m\n\u001B[0;32m   1460\u001B[0m \u001B[43m                             \u001B[49m\u001B[43mcreationflags\u001B[49m\u001B[43m,\u001B[49m\n\u001B[0;32m   1461\u001B[0m \u001B[43m                             \u001B[49m\u001B[43menv\u001B[49m\u001B[43m,\u001B[49m\n\u001B[0;32m   1462\u001B[0m \u001B[43m                             \u001B[49m\u001B[43mcwd\u001B[49m\u001B[43m,\u001B[49m\n\u001B[0;32m   1463\u001B[0m \u001B[43m                             \u001B[49m\u001B[43mstartupinfo\u001B[49m\u001B[43m)\u001B[49m\n\u001B[0;32m   1464\u001B[0m \u001B[38;5;28;01mfinally\u001B[39;00m:\n\u001B[0;32m   1465\u001B[0m     \u001B[38;5;66;03m# Child is launched. Close the parent's copy of those pipe\u001B[39;00m\n\u001B[0;32m   1466\u001B[0m     \u001B[38;5;66;03m# handles that only the child should have open.  You need\u001B[39;00m\n\u001B[1;32m   (...)\u001B[0m\n\u001B[0;32m   1469\u001B[0m     \u001B[38;5;66;03m# pipe will not close when the child process exits and the\u001B[39;00m\n\u001B[0;32m   1470\u001B[0m     \u001B[38;5;66;03m# ReadFile will hang.\u001B[39;00m\n\u001B[0;32m   1471\u001B[0m     \u001B[38;5;28mself\u001B[39m\u001B[38;5;241m.\u001B[39m_close_pipe_fds(p2cread, p2cwrite,\n\u001B[0;32m   1472\u001B[0m                          c2pread, c2pwrite,\n\u001B[0;32m   1473\u001B[0m                          errread, errwrite)\n",
      "\u001B[1;31mFileNotFoundError\u001B[0m: [WinError 2] 系统找不到指定的文件。"
     ]
    }
   ],
   "source": [
    "params = get_parameters(Network(IN_FEATURES, HIDDEN_LAYERS, OUT_FEATURES))\n",
    "\n",
    "strategy = fl.server.strategy.FedAvg(\n",
    "    fraction_fit=1.0,\n",
    "    fraction_evaluate=1.0,\n",
    "    min_fit_clients=NUM_CLIENTS,\n",
    "    min_evaluate_clients=NUM_CLIENTS,\n",
    "    min_available_clients=NUM_CLIENTS,\n",
    "    initial_parameters=fl.common.ndarrays_to_parameters(params),\n",
    ")\n",
    "\n",
    "fl.simulation.start_simulation(\n",
    "    client_fn=client_fn,\n",
    "    num_clients=NUM_CLIENTS,\n",
    "    config=fl.server.ServerConfig(num_rounds=ROUNDS),\n",
    "    strategy=strategy,\n",
    ")"
   ],
   "metadata": {
    "collapsed": false,
    "ExecuteTime": {
     "end_time": "2023-11-09T21:15:36.134638400Z",
     "start_time": "2023-11-09T21:15:32.394573500Z"
    }
   },
   "id": "801acac2af91f221"
  },
  {
   "cell_type": "markdown",
   "source": [
    "Citation:   \n",
    "https://flower.dev/docs/framework/tutorial-series-get-started-with-flower-pytorch.html\n",
    "https://pytorch.org/tutorials/beginner/basics/quickstart_tutorial.html"
   ],
   "metadata": {
    "collapsed": false
   },
   "id": "626c29ee0b4c60f5"
  },
  {
   "cell_type": "code",
   "execution_count": 55,
   "outputs": [],
   "source": [],
   "metadata": {
    "collapsed": false,
    "ExecuteTime": {
     "end_time": "2023-11-09T21:15:06.667551600Z",
     "start_time": "2023-11-09T21:15:06.640481Z"
    }
   },
   "id": "ca08814286feab15"
  }
 ],
 "metadata": {
  "kernelspec": {
   "display_name": "Python 3 (ipykernel)",
   "language": "python",
   "name": "python3"
  },
  "language_info": {
   "codemirror_mode": {
    "name": "ipython",
    "version": 3
   },
   "file_extension": ".py",
   "mimetype": "text/x-python",
   "name": "python",
   "nbconvert_exporter": "python",
   "pygments_lexer": "ipython3",
   "version": "3.11.4"
  }
 },
 "nbformat": 4,
 "nbformat_minor": 5
}
