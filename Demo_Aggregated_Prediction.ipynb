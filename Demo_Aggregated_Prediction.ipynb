{
 "cells": [
  {
   "cell_type": "markdown",
   "source": [
    "## Demonstrate the Aggregated Prediction Methods"
   ],
   "metadata": {
    "collapsed": false
   },
   "id": "7a978eeaf0a52e14"
  },
  {
   "cell_type": "code",
   "execution_count": 1,
   "outputs": [],
   "source": [
    "import helper\n",
    "import aggregated_predict as ap"
   ],
   "metadata": {
    "collapsed": false,
    "ExecuteTime": {
     "end_time": "2023-12-06T21:14:01.821519400Z",
     "start_time": "2023-12-06T21:14:01.181885900Z"
    }
   },
   "id": "8fe91a552cffd2cc"
  },
  {
   "cell_type": "code",
   "execution_count": 2,
   "outputs": [
    {
     "name": "stdout",
     "output_type": "stream",
     "text": [
      "Sensor Model 1 Prediction Results:\n",
      "-----------------------------\n",
      "Accuracy : 0.9949926147330629\n",
      "Precision: 0.9950038366038014\n",
      "Recall   : 0.9949926147330629\n",
      "F1 Score : 0.9949373654575753\n",
      "-----------------------------\n",
      "\n",
      "Sensor Model 2 Prediction Results:\n",
      "-----------------------------\n",
      "Accuracy : 0.9950427212639046\n",
      "Precision: 0.9950560750595009\n",
      "Recall   : 0.9950427212639046\n",
      "F1 Score : 0.9949876179620538\n",
      "-----------------------------\n",
      "\n",
      "Sensor Model 3 Prediction Results:\n",
      "-----------------------------\n",
      "Accuracy : 0.9951570948669127\n",
      "Precision: 0.9951660914745342\n",
      "Recall   : 0.9951570948669127\n",
      "F1 Score : 0.9951061081005764\n",
      "-----------------------------\n",
      "\n",
      "Network Model Prediction Results:\n",
      "-----------------------------\n",
      "Accuracy : 0.9919971156066594\n",
      "Precision: 0.991983090864179\n",
      "Recall   : 0.9919971156066594\n",
      "F1 Score : 0.9918739064909812\n",
      "-----------------------------\n"
     ]
    }
   ],
   "source": [
    "sensor_test, network_test = helper.load_test_set()\n",
    "\n",
    "local_models = ['./received_models/client_1.joblib', './received_models/client_2.joblib', './received_models/client_3.joblib']\n",
    "global_model = './received_models/global_model.joblib'\n",
    "\n",
    "models_predicts, metrics = ap.get_predictions_and_metrics(\n",
    "    local_models=local_models,\n",
    "    sensor_test=sensor_test,\n",
    "    global_model=global_model,\n",
    "    network_test=network_test,\n",
    ")"
   ],
   "metadata": {
    "collapsed": false,
    "ExecuteTime": {
     "end_time": "2023-12-06T21:15:02.581780500Z",
     "start_time": "2023-12-06T21:14:01.821519400Z"
    }
   },
   "id": "2ad62fb9e347350c"
  },
  {
   "cell_type": "code",
   "execution_count": 3,
   "outputs": [],
   "source": [
    "y_test = network_test.iloc[:, -1]\n",
    "model_weights = [0.15, 0.15, 0.15, 0.55]"
   ],
   "metadata": {
    "collapsed": false,
    "ExecuteTime": {
     "end_time": "2023-12-06T21:15:02.632202800Z",
     "start_time": "2023-12-06T21:15:02.580788200Z"
    }
   },
   "id": "4c27c5f0f610b224"
  },
  {
   "cell_type": "code",
   "execution_count": 4,
   "outputs": [
    {
     "name": "stdout",
     "output_type": "stream",
     "text": [
      "Aggregated Prediction by Score:\n",
      "-----------------------------\n",
      "Accuracy : 0.9919971156066594\n",
      "Precision: 0.991983090864179\n",
      "Recall   : 0.9919971156066594\n",
      "F1 Score : 0.9918739064909812\n",
      "-----------------------------\n"
     ]
    },
    {
     "data": {
      "text/plain": "(0.9919971156066594, 0.991983090864179, 0.9919971156066594, 0.9918739064909812)"
     },
     "execution_count": 4,
     "metadata": {},
     "output_type": "execute_result"
    }
   ],
   "source": [
    "print(f\"Aggregated Prediction by Score:\")\n",
    "score = ap.aggregate_predict_by_score(\n",
    "    models_predictions=models_predicts,\n",
    "    models_metrics=metrics,\n",
    "    models_weights=model_weights)\n",
    "helper.get_metrics(y_test, score, printout=True)"
   ],
   "metadata": {
    "collapsed": false,
    "ExecuteTime": {
     "end_time": "2023-12-06T21:15:03.310983Z",
     "start_time": "2023-12-06T21:15:02.594471100Z"
    }
   },
   "id": "db1ac29a97681f14"
  },
  {
   "cell_type": "code",
   "execution_count": 5,
   "outputs": [
    {
     "name": "stdout",
     "output_type": "stream",
     "text": [
      "Aggregated Prediction by Vote:\n",
      "-----------------------------\n",
      "Accuracy : 0.984061766102714\n",
      "Precision: 0.9843373624349839\n",
      "Recall   : 0.984061766102714\n",
      "F1 Score : 0.983394803492815\n",
      "-----------------------------\n",
      "\n"
     ]
    },
    {
     "data": {
      "text/plain": "(0.984061766102714, 0.9843373624349839, 0.984061766102714, 0.983394803492815)"
     },
     "execution_count": 5,
     "metadata": {},
     "output_type": "execute_result"
    }
   ],
   "source": [
    "print(f\"Aggregated Prediction by Vote:\")\n",
    "vote = ap.aggregate_predict_by_vote(models_predictions=models_predicts)\n",
    "helper.get_metrics(y_test, vote, printout=True)"
   ],
   "metadata": {
    "collapsed": false,
    "ExecuteTime": {
     "end_time": "2023-12-06T21:15:04.540960400Z",
     "start_time": "2023-12-06T21:15:03.318966100Z"
    }
   },
   "id": "3f61c71540080452"
  }
 ],
 "metadata": {
  "kernelspec": {
   "display_name": "Python 3",
   "language": "python",
   "name": "python3"
  },
  "language_info": {
   "codemirror_mode": {
    "name": "ipython",
    "version": 2
   },
   "file_extension": ".py",
   "mimetype": "text/x-python",
   "name": "python",
   "nbconvert_exporter": "python",
   "pygments_lexer": "ipython2",
   "version": "2.7.6"
  }
 },
 "nbformat": 4,
 "nbformat_minor": 5
}
