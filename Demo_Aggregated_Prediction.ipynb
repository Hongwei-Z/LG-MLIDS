{
 "cells": [
  {
   "cell_type": "markdown",
   "source": [
    "# Demonstrate the Aggregated Prediction Methods"
   ],
   "metadata": {
    "collapsed": false
   },
   "id": "7a978eeaf0a52e14"
  },
  {
   "cell_type": "code",
   "execution_count": 155,
   "outputs": [],
   "source": [
    "import helper\n",
    "import aggregated_predict as ap\n",
    "import pandas as pd\n",
    "import joblib\n",
    "import time\n",
    "import warnings\n",
    "warnings.simplefilter('ignore')"
   ],
   "metadata": {
    "collapsed": false,
    "ExecuteTime": {
     "end_time": "2023-12-07T22:19:35.015220Z",
     "start_time": "2023-12-07T22:19:34.975208200Z"
    }
   },
   "id": "8fe91a552cffd2cc"
  },
  {
   "cell_type": "markdown",
   "source": [
    "## 1. Testing of each model and demonstration of model aggregated prediction methods"
   ],
   "metadata": {
    "collapsed": false
   },
   "id": "cecee7181ac3965b"
  },
  {
   "cell_type": "code",
   "execution_count": 156,
   "outputs": [
    {
     "name": "stdout",
     "output_type": "stream",
     "text": [
      "Sensor Model 1 Prediction Results:\n",
      "-----------------------------\n",
      "Accuracy : 0.9948945802161988\n",
      "Precision: 0.9949071505553502\n",
      "Recall   : 0.9948945802161988\n",
      "F1 Score : 0.9948368269221267\n",
      "-----------------------------\n",
      "\n",
      "Sensor Model 2 Prediction Results:\n",
      "-----------------------------\n",
      "Accuracy : 0.9951157025153479\n",
      "Precision: 0.9951292350952945\n",
      "Recall   : 0.9951157025153479\n",
      "F1 Score : 0.9950620924030881\n",
      "-----------------------------\n",
      "\n",
      "Sensor Model 3 Prediction Results:\n",
      "-----------------------------\n",
      "Accuracy : 0.9951178810601671\n",
      "Precision: 0.9951288620267749\n",
      "Recall   : 0.9951178810601671\n",
      "F1 Score : 0.99506536079325\n",
      "-----------------------------\n",
      "\n",
      "Network Model Prediction Results:\n",
      "-----------------------------\n",
      "Accuracy : 0.9921430781095459\n",
      "Precision: 0.9921319168507041\n",
      "Recall   : 0.9921430781095459\n",
      "F1 Score : 0.9920233509476573\n",
      "-----------------------------\n"
     ]
    }
   ],
   "source": [
    "# Load the testing set\n",
    "sensor_test, network_test = helper.load_test_set()\n",
    "\n",
    "# Load the models\n",
    "sensor_models = ['./received_models/client_1.joblib', './received_models/client_2.joblib', './received_models/client_3.joblib']\n",
    "network_model = './received_models/global_model.joblib'\n",
    "\n",
    "# Test models \n",
    "models_predictions, models_metrics = ap.get_predictions_and_metrics(\n",
    "    local_models=sensor_models,\n",
    "    sensor_test=sensor_test,\n",
    "    global_model=network_model,\n",
    "    network_test=network_test,\n",
    ")"
   ],
   "metadata": {
    "collapsed": false,
    "ExecuteTime": {
     "end_time": "2023-12-07T22:20:29.730322700Z",
     "start_time": "2023-12-07T22:19:34.979205300Z"
    }
   },
   "id": "2ad62fb9e347350c"
  },
  {
   "cell_type": "code",
   "execution_count": 157,
   "outputs": [],
   "source": [
    "# Load network testing set, set the weights\n",
    "y_test = network_test.iloc[:, -1]\n",
    "model_weights = [0.15, 0.15, 0.15, 0.55]"
   ],
   "metadata": {
    "collapsed": false,
    "ExecuteTime": {
     "end_time": "2023-12-07T22:20:29.750903300Z",
     "start_time": "2023-12-07T22:20:29.730322700Z"
    }
   },
   "id": "4c27c5f0f610b224"
  },
  {
   "cell_type": "code",
   "execution_count": 158,
   "outputs": [
    {
     "name": "stdout",
     "output_type": "stream",
     "text": [
      "Aggregated Prediction by Score:\n",
      "-----------------------------\n",
      "Accuracy : 0.9921430781095459\n",
      "Precision: 0.9921319168507041\n",
      "Recall   : 0.9921430781095459\n",
      "F1 Score : 0.9920233509476573\n",
      "-----------------------------\n"
     ]
    },
    {
     "data": {
      "text/plain": "(0.9921430781095459,\n 0.9921319168507041,\n 0.9921430781095459,\n 0.9920233509476573)"
     },
     "execution_count": 158,
     "metadata": {},
     "output_type": "execute_result"
    }
   ],
   "source": [
    "print(f\"Aggregated Prediction by Score:\")\n",
    "score = ap.aggregate_predict_by_score(\n",
    "    models_predictions=models_predictions,\n",
    "    models_metrics=models_metrics,\n",
    "    models_weights=model_weights)\n",
    "helper.get_metrics(y_test, score, printout=True)"
   ],
   "metadata": {
    "collapsed": false,
    "ExecuteTime": {
     "end_time": "2023-12-07T22:20:30.288890500Z",
     "start_time": "2023-12-07T22:20:29.746846400Z"
    }
   },
   "id": "db1ac29a97681f14"
  },
  {
   "cell_type": "code",
   "execution_count": 159,
   "outputs": [
    {
     "name": "stdout",
     "output_type": "stream",
     "text": [
      "Aggregated Prediction by Vote:\n",
      "-----------------------------\n",
      "Accuracy : 0.9840606768303044\n",
      "Precision: 0.9843363473211927\n",
      "Recall   : 0.9840606768303044\n",
      "F1 Score : 0.9833946776071637\n",
      "-----------------------------\n",
      "\n"
     ]
    },
    {
     "data": {
      "text/plain": "(0.9840606768303044,\n 0.9843363473211927,\n 0.9840606768303044,\n 0.9833946776071637)"
     },
     "execution_count": 159,
     "metadata": {},
     "output_type": "execute_result"
    }
   ],
   "source": [
    "print(f\"Aggregated Prediction by Vote:\")\n",
    "vote = ap.aggregate_predict_by_vote(models_predictions=models_predictions)\n",
    "helper.get_metrics(y_test, vote, printout=True)"
   ],
   "metadata": {
    "collapsed": false,
    "ExecuteTime": {
     "end_time": "2023-12-07T22:20:31.332807100Z",
     "start_time": "2023-12-07T22:20:30.281059800Z"
    }
   },
   "id": "3f61c71540080452"
  },
  {
   "cell_type": "markdown",
   "source": [
    "## 2. Simulation of Intrusion Detection in Wireless Sensor Networks\n",
    "\n",
    "Once the WSN simulation starts, the sensors in the nodes will collect new sensing data, these data need to pass the validation of the local models first. The data that passes the validation will be sent to the server and the data that does not pass will be discarded. Once the server receives the sensed data, it will validate the sensor data and the network traffic generated by the transmitted data by aggregated prediction method to give the final validation result. If the data passes the validation, the data is saved, otherwise, the data is discarded."
   ],
   "metadata": {
    "collapsed": false
   },
   "id": "abe2a946c69e49b1"
  },
  {
   "cell_type": "code",
   "execution_count": 160,
   "outputs": [
    {
     "data": {
      "text/plain": "target\n1    831450\n0     86594\nName: count, dtype: int64"
     },
     "execution_count": 160,
     "metadata": {},
     "output_type": "execute_result"
    }
   ],
   "source": [
    "sensor_test['target'].value_counts()"
   ],
   "metadata": {
    "collapsed": false,
    "ExecuteTime": {
     "end_time": "2023-12-07T22:20:31.370136200Z",
     "start_time": "2023-12-07T22:20:31.328660700Z"
    }
   },
   "id": "e9a1d3e149a4aa9b"
  },
  {
   "cell_type": "code",
   "execution_count": 161,
   "outputs": [
    {
     "name": "stdout",
     "output_type": "stream",
     "text": [
      "target\n",
      "0    50000\n",
      "1    50000\n",
      "Name: count, dtype: int64\n",
      "target\n",
      "0    50000\n",
      "1    50000\n",
      "Name: count, dtype: int64\n"
     ]
    }
   ],
   "source": [
    "# Select 2000 equally distributed samples from the testing set\n",
    "s0 = sensor_test[sensor_test['target'] == 0].sample(50000, random_state=42)\n",
    "s1 = sensor_test[sensor_test['target'] == 1].sample(50000, random_state=42)\n",
    "sampled_sensor_data = pd.concat([s0, s1])\n",
    "sampled_network_data = network_test.loc[sampled_sensor_data.index]\n",
    "\n",
    "sampled_sensor_data = sampled_sensor_data.reset_index(drop=True)\n",
    "sampled_network_data = sampled_network_data.reset_index(drop=True)\n",
    "\n",
    "print(sampled_sensor_data['target'].value_counts())\n",
    "print(sampled_network_data['target'].value_counts())"
   ],
   "metadata": {
    "collapsed": false,
    "ExecuteTime": {
     "end_time": "2023-12-07T22:20:31.452147800Z",
     "start_time": "2023-12-07T22:20:31.341223100Z"
    }
   },
   "id": "dbea7e580f336832"
  },
  {
   "cell_type": "code",
   "execution_count": 162,
   "outputs": [
    {
     "name": "stdout",
     "output_type": "stream",
     "text": [
      "-----------------------------\n",
      "Accuracy : 0.97395\n",
      "Precision: 0.9752162728759824\n",
      "Recall   : 0.97395\n",
      "F1 Score : 0.9739326350658382\n",
      "-----------------------------\n"
     ]
    },
    {
     "data": {
      "text/plain": "(0.97395, 0.9752162728759824, 0.97395, 0.9739326350658382)"
     },
     "execution_count": 162,
     "metadata": {},
     "output_type": "execute_result"
    }
   ],
   "source": [
    "# Use Client 1 as an example\n",
    "client_1_model = joblib.load('./received_models/client_1.joblib')\n",
    "client_1_predict = client_1_model.predict(sampled_sensor_data.iloc[:, :-1])\n",
    "helper.get_metrics(sampled_sensor_data.iloc[:, -1], client_1_predict, printout=True)"
   ],
   "metadata": {
    "collapsed": false,
    "ExecuteTime": {
     "end_time": "2023-12-07T22:20:33.094773700Z",
     "start_time": "2023-12-07T22:20:31.444001700Z"
    }
   },
   "id": "975c1c5e4ba607a0"
  },
  {
   "cell_type": "code",
   "execution_count": 163,
   "outputs": [
    {
     "data": {
      "text/plain": "Pred\n1    52581\n0    47419\nName: count, dtype: int64"
     },
     "execution_count": 163,
     "metadata": {},
     "output_type": "execute_result"
    }
   ],
   "source": [
    "client_1_predict = pd.DataFrame(client_1_predict, columns=['Pred'])\n",
    "client_1_predict['Pred'].value_counts()"
   ],
   "metadata": {
    "collapsed": false,
    "ExecuteTime": {
     "end_time": "2023-12-07T22:20:33.137538700Z",
     "start_time": "2023-12-07T22:20:33.094773700Z"
    }
   },
   "id": "6d167e14db3c99d"
  },
  {
   "cell_type": "code",
   "execution_count": 164,
   "outputs": [
    {
     "name": "stdout",
     "output_type": "stream",
     "text": [
      "target\n",
      "0    47407\n",
      "1       12\n",
      "Name: count, dtype: int64\n",
      "target\n",
      "0    47407\n",
      "1       12\n",
      "Name: count, dtype: int64\n"
     ]
    }
   ],
   "source": [
    "# Client 1 will test the sensor data locally, only those that pass will be sent to the server\n",
    "# Drop false data, target = 1\n",
    "rows_to_keep = client_1_predict[client_1_predict['Pred'] == 0]\n",
    "\n",
    "filtered_sensor_data = sampled_sensor_data.loc[rows_to_keep.index]\n",
    "filtered_network_data = sampled_network_data.loc[rows_to_keep.index]\n",
    "\n",
    "print(filtered_sensor_data['target'].value_counts())\n",
    "print(filtered_network_data['target'].value_counts())"
   ],
   "metadata": {
    "collapsed": false,
    "ExecuteTime": {
     "end_time": "2023-12-07T22:20:33.149826100Z",
     "start_time": "2023-12-07T22:20:33.114791100Z"
    }
   },
   "id": "295ab1ccd12df49"
  },
  {
   "cell_type": "code",
   "execution_count": 165,
   "outputs": [
    {
     "name": "stdout",
     "output_type": "stream",
     "text": [
      "Sensor Model 1 Prediction Results:\n",
      "-----------------------------\n",
      "Accuracy : 0.9997469368818406\n",
      "Precision: 0.9994939378046229\n",
      "Recall   : 0.9997469368818406\n",
      "F1 Score : 0.9996204213350223\n",
      "-----------------------------\n",
      "\n",
      "Sensor Model 2 Prediction Results:\n",
      "-----------------------------\n",
      "Accuracy : 0.9701596406503722\n",
      "Precision: 0.9997271538872711\n",
      "Recall   : 0.9701596406503722\n",
      "F1 Score : 0.9846049143025739\n",
      "-----------------------------\n",
      "\n",
      "Sensor Model 3 Prediction Results:\n",
      "-----------------------------\n",
      "Accuracy : 0.9713827790548093\n",
      "Precision: 0.9997053745329233\n",
      "Recall   : 0.9713827790548093\n",
      "F1 Score : 0.9852348615698598\n",
      "-----------------------------\n",
      "\n",
      "Network Model Prediction Results:\n",
      "-----------------------------\n",
      "Accuracy : 0.9229422805204665\n",
      "Precision: 0.9997477652390195\n",
      "Recall   : 0.9229422805204665\n",
      "F1 Score : 0.9596753619144258\n",
      "-----------------------------\n"
     ]
    }
   ],
   "source": [
    "# Test Client 1 data using all models\n",
    "new_models_predictions, new_models_metrics = ap.get_predictions_and_metrics(\n",
    "    local_models=sensor_models,\n",
    "    sensor_test=filtered_sensor_data,\n",
    "    global_model=network_model,\n",
    "    network_test=filtered_network_data,\n",
    ")"
   ],
   "metadata": {
    "collapsed": false,
    "ExecuteTime": {
     "end_time": "2023-12-07T22:20:36.039449Z",
     "start_time": "2023-12-07T22:20:33.125362Z"
    }
   },
   "id": "e8ada97c885c22bb"
  },
  {
   "cell_type": "code",
   "execution_count": 168,
   "outputs": [],
   "source": [
    "# Load Client 1 network testing set, set the weights\n",
    "new_y_test = filtered_network_data.iloc[:, -1]\n",
    "model_weights = [0.3, 0.05, 0.05, 0.6]"
   ],
   "metadata": {
    "collapsed": false,
    "ExecuteTime": {
     "end_time": "2023-12-07T22:21:55.974749800Z",
     "start_time": "2023-12-07T22:21:55.940896900Z"
    }
   },
   "id": "b42e5c335b344c1e"
  },
  {
   "cell_type": "code",
   "execution_count": 169,
   "outputs": [
    {
     "name": "stdout",
     "output_type": "stream",
     "text": [
      "Client 1 Aggregated Prediction by Score:\n",
      "-----------------------------\n",
      "Accuracy : 0.9229422805204665\n",
      "Precision: 0.9997477652390195\n",
      "Recall   : 0.9229422805204665\n",
      "F1 Score : 0.9596753619144258\n",
      "-----------------------------\n",
      "\n",
      "\n",
      "Time spent predicting 47419 pieces of data: 0.0009996891021728516 second, average time spent: 2.10820367821517e-08 seconds.\n"
     ]
    }
   ],
   "source": [
    "print(f\"Client 1 Aggregated Prediction by Score:\")\n",
    "start_time = time.time()\n",
    "\n",
    "new_score = ap.aggregate_predict_by_score(\n",
    "    models_predictions=new_models_predictions,\n",
    "    models_metrics=new_models_metrics,\n",
    "    models_weights=model_weights)\n",
    "\n",
    "end_time = time.time()\n",
    "rows = len(new_models_predictions[0])\n",
    "time_spend = end_time - start_time\n",
    "\n",
    "helper.get_metrics(new_y_test, new_score, printout=True)\n",
    "print(f\"Time spent predicting {rows} pieces of data: {time_spend} second, average time spent: {time_spend / rows} seconds.\")"
   ],
   "metadata": {
    "collapsed": false,
    "ExecuteTime": {
     "end_time": "2023-12-07T22:21:56.619634800Z",
     "start_time": "2023-12-07T22:21:56.576519300Z"
    }
   },
   "id": "dff4a4e9f7c78053"
  },
  {
   "cell_type": "code",
   "execution_count": 170,
   "outputs": [
    {
     "name": "stdout",
     "output_type": "stream",
     "text": [
      "Client 1 Aggregated Prediction by Vote:\n",
      "-----------------------------\n",
      "Accuracy : 0.8758303633564605\n",
      "Precision: 0.9997474515864877\n",
      "Recall   : 0.8758303633564605\n",
      "F1 Score : 0.9335523637657995\n",
      "-----------------------------\n",
      "\n",
      "\n",
      "Time spent predicting 47419 pieces of data: 0.028255939483642578 second, average time spent: 5.958780126877956e-07 seconds.\n"
     ]
    }
   ],
   "source": [
    "print(f\"Client 1 Aggregated Prediction by Vote:\")\n",
    "start_time = time.time()\n",
    "\n",
    "new_vote = ap.aggregate_predict_by_vote(models_predictions=new_models_predictions)\n",
    "\n",
    "end_time = time.time()\n",
    "time_spend = end_time - start_time\n",
    "\n",
    "helper.get_metrics(new_y_test, new_vote, printout=True)\n",
    "print(f\"Time spent predicting {rows} pieces of data: {time_spend} second, average time spent: {time_spend / rows} seconds.\")"
   ],
   "metadata": {
    "collapsed": false,
    "ExecuteTime": {
     "end_time": "2023-12-07T22:21:58.067823900Z",
     "start_time": "2023-12-07T22:21:57.995350100Z"
    }
   },
   "id": "9248b0ef3bcf30c7"
  },
  {
   "cell_type": "code",
   "execution_count": null,
   "outputs": [],
   "source": [],
   "metadata": {
    "collapsed": false,
    "ExecuteTime": {
     "start_time": "2023-12-07T22:20:36.248716700Z"
    }
   },
   "id": "15cc1f9d8accf869"
  }
 ],
 "metadata": {
  "kernelspec": {
   "display_name": "Python 3",
   "language": "python",
   "name": "python3"
  },
  "language_info": {
   "codemirror_mode": {
    "name": "ipython",
    "version": 2
   },
   "file_extension": ".py",
   "mimetype": "text/x-python",
   "name": "python",
   "nbconvert_exporter": "python",
   "pygments_lexer": "ipython2",
   "version": "2.7.6"
  }
 },
 "nbformat": 4,
 "nbformat_minor": 5
}
