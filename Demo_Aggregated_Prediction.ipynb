{
 "cells": [
  {
   "cell_type": "markdown",
   "source": [
    "## Demonstrate the Aggregated Prediction Methods"
   ],
   "metadata": {
    "collapsed": false
   },
   "id": "7a978eeaf0a52e14"
  },
  {
   "cell_type": "code",
   "execution_count": 1,
   "id": "initial_id",
   "metadata": {
    "collapsed": true,
    "ExecuteTime": {
     "end_time": "2023-12-04T21:56:24.201418300Z",
     "start_time": "2023-12-04T21:56:23.623488200Z"
    }
   },
   "outputs": [],
   "source": [
    "import helper\n",
    "import aggregated_predict as ap"
   ]
  },
  {
   "cell_type": "code",
   "execution_count": 2,
   "outputs": [
    {
     "name": "stdout",
     "output_type": "stream",
     "text": [
      "Local Model 1 Prediction Results:\n",
      "---------------------\n",
      "Accuracy : 0.99540504\n",
      "Precision: 0.99541359\n",
      "Recall   : 0.99540504\n",
      "F1 Score : 0.99536062\n",
      "---------------------\n",
      "\n",
      "Local Model 2 Prediction Results:\n",
      "---------------------\n",
      "Accuracy : 0.99534294\n",
      "Precision: 0.99535114\n",
      "Recall   : 0.99534294\n",
      "F1 Score : 0.99529753\n",
      "---------------------\n",
      "\n",
      "Local Model 3 Prediction Results:\n",
      "---------------------\n",
      "Accuracy : 0.99514055\n",
      "Precision: 0.99515117\n",
      "Recall   : 0.99514055\n",
      "F1 Score : 0.99509033\n",
      "---------------------\n",
      "\n",
      "Global Model Prediction Results:\n",
      "---------------------\n",
      "Accuracy : 0.99991540\n",
      "Precision: 0.99991540\n",
      "Recall   : 0.99991540\n",
      "F1 Score : 0.99991540\n",
      "---------------------\n"
     ]
    }
   ],
   "source": [
    "sensor_test, network_test = helper.load_test_set()\n",
    "\n",
    "local_models = ['./received_models/client_1.joblib', './received_models/client_2.joblib', './received_models/client_3.joblib']\n",
    "global_model = './received_models/global_model.joblib'\n",
    "\n",
    "model_weights = [0.1, 0.1, 0.1, 0.7]\n",
    "\n",
    "models_predicts, metrics = ap.get_predictions_and_metrics(\n",
    "    local_models=local_models, \n",
    "    sensor_test=sensor_test, \n",
    "    global_model=global_model, \n",
    "    network_test=network_test,\n",
    ")"
   ],
   "metadata": {
    "collapsed": false,
    "ExecuteTime": {
     "end_time": "2023-12-04T21:57:18.136658100Z",
     "start_time": "2023-12-04T21:56:24.201418300Z"
    }
   },
   "id": "2ad62fb9e347350c"
  },
  {
   "cell_type": "code",
   "execution_count": 3,
   "outputs": [
    {
     "name": "stdout",
     "output_type": "stream",
     "text": [
      "Aggregated Prediction by Score:\n",
      "---------------------\n",
      "Accuracy : 1.00000000\n",
      "Precision: 1.00000000\n",
      "Recall   : 1.00000000\n",
      "F1 Score : 1.00000000\n",
      "---------------------\n"
     ]
    },
    {
     "data": {
      "text/plain": "(1.0, 1.0, 1.0, 1.0)"
     },
     "execution_count": 3,
     "metadata": {},
     "output_type": "execute_result"
    }
   ],
   "source": [
    "print(f\"Aggregated Prediction by Score:\")\n",
    "score = ap.aggregate_predict_by_score(\n",
    "    models_predictions=models_predicts, \n",
    "    models_metrics=metrics, \n",
    "    models_weights=model_weights)\n",
    "helper.get_metrics(models_predicts[-1], score, printout=True)"
   ],
   "metadata": {
    "collapsed": false,
    "ExecuteTime": {
     "end_time": "2023-12-04T21:57:18.694845100Z",
     "start_time": "2023-12-04T21:57:18.136658100Z"
    }
   },
   "id": "db1ac29a97681f14"
  },
  {
   "cell_type": "code",
   "execution_count": 4,
   "outputs": [
    {
     "name": "stdout",
     "output_type": "stream",
     "text": [
      "Aggregated Prediction by Vote:\n",
      "---------------------\n",
      "Accuracy : 1.00000000\n",
      "Precision: 1.00000000\n",
      "Recall   : 1.00000000\n",
      "F1 Score : 1.00000000\n",
      "---------------------\n",
      "\n"
     ]
    },
    {
     "data": {
      "text/plain": "(1.0, 1.0, 1.0, 1.0)"
     },
     "execution_count": 4,
     "metadata": {},
     "output_type": "execute_result"
    }
   ],
   "source": [
    "print(f\"Aggregated Prediction by Vote:\")\n",
    "vote = ap.aggregate_predict_by_vote(models_predictions=models_predicts)\n",
    "helper.get_metrics(models_predicts[-1], vote, printout=True)"
   ],
   "metadata": {
    "collapsed": false,
    "ExecuteTime": {
     "end_time": "2023-12-04T21:57:19.659124700Z",
     "start_time": "2023-12-04T21:57:18.689831200Z"
    }
   },
   "id": "3f61c71540080452"
  }
 ],
 "metadata": {
  "kernelspec": {
   "display_name": "Python 3",
   "language": "python",
   "name": "python3"
  },
  "language_info": {
   "codemirror_mode": {
    "name": "ipython",
    "version": 2
   },
   "file_extension": ".py",
   "mimetype": "text/x-python",
   "name": "python",
   "nbconvert_exporter": "python",
   "pygments_lexer": "ipython2",
   "version": "2.7.6"
  }
 },
 "nbformat": 4,
 "nbformat_minor": 5
}
