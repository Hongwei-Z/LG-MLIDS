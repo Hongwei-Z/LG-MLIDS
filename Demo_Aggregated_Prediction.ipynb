{
 "cells": [
  {
   "cell_type": "markdown",
   "source": [
    "## Demonstrate the Aggregated Prediction Methods"
   ],
   "metadata": {
    "collapsed": false
   },
   "id": "7a978eeaf0a52e14"
  },
  {
   "cell_type": "code",
   "execution_count": 1,
   "outputs": [],
   "source": [
    "import helper\n",
    "import aggregated_predict as ap"
   ],
   "metadata": {
    "collapsed": false,
    "ExecuteTime": {
     "end_time": "2023-12-05T20:28:22.104346900Z",
     "start_time": "2023-12-05T20:28:21.470208600Z"
    }
   },
   "id": "8fe91a552cffd2cc"
  },
  {
   "cell_type": "code",
   "execution_count": 2,
   "outputs": [
    {
     "name": "stdout",
     "output_type": "stream",
     "text": [
      "Sensor Model 1 Prediction Results:\n",
      "-----------------------------\n",
      "Accuracy : 0.9954018311291963\n",
      "Precision: 0.9954110674493984\n",
      "Recall   : 0.9954018311291963\n",
      "F1 Score : 0.9953572822033818\n",
      "-----------------------------\n",
      "\n",
      "Sensor Model 2 Prediction Results:\n",
      "-----------------------------\n",
      "Accuracy : 0.9953986186218343\n",
      "Precision: 0.9954075363638438\n",
      "Recall   : 0.9953986186218343\n",
      "F1 Score : 0.9953541453841006\n",
      "-----------------------------\n",
      "\n",
      "Sensor Model 3 Prediction Results:\n",
      "-----------------------------\n",
      "Accuracy : 0.9952058681801146\n",
      "Precision: 0.9952147379476494\n",
      "Recall   : 0.9952058681801146\n",
      "F1 Score : 0.9951578737262952\n",
      "-----------------------------\n",
      "\n",
      "Network Model Prediction Results:\n",
      "-----------------------------\n",
      "Accuracy : 0.9999132623012261\n",
      "Precision: 0.999913263638906\n",
      "Recall   : 0.9999132623012261\n",
      "F1 Score : 0.9999132629406795\n",
      "-----------------------------\n"
     ]
    }
   ],
   "source": [
    "sensor_test, network_test = helper.load_test_set()\n",
    "\n",
    "local_models = ['./received_models/client_1.joblib', './received_models/client_2.joblib', './received_models/client_3.joblib']\n",
    "global_model = './received_models/global_model.joblib'\n",
    "\n",
    "model_weights = [0.15, 0.15, 0.15, 0.55]\n",
    "\n",
    "models_predicts, metrics = ap.get_predictions_and_metrics(\n",
    "    local_models=local_models,\n",
    "    sensor_test=sensor_test,\n",
    "    global_model=global_model,\n",
    "    network_test=network_test,\n",
    ")"
   ],
   "metadata": {
    "collapsed": false,
    "ExecuteTime": {
     "end_time": "2023-12-05T20:29:20.359550400Z",
     "start_time": "2023-12-05T20:28:22.106725500Z"
    }
   },
   "id": "2ad62fb9e347350c"
  },
  {
   "cell_type": "code",
   "execution_count": 3,
   "outputs": [],
   "source": [
    "y_test = network_test.iloc[:, -1]"
   ],
   "metadata": {
    "collapsed": false,
    "ExecuteTime": {
     "end_time": "2023-12-05T20:29:20.387429700Z",
     "start_time": "2023-12-05T20:29:20.356478800Z"
    }
   },
   "id": "4c27c5f0f610b224"
  },
  {
   "cell_type": "code",
   "execution_count": 4,
   "outputs": [
    {
     "name": "stdout",
     "output_type": "stream",
     "text": [
      "Aggregated Prediction by Score:\n",
      "-----------------------------\n",
      "Accuracy : 0.9999132623012261\n",
      "Precision: 0.999913263638906\n",
      "Recall   : 0.9999132623012261\n",
      "F1 Score : 0.9999132629406795\n",
      "-----------------------------\n"
     ]
    },
    {
     "data": {
      "text/plain": "(0.9999132623012261, 0.999913263638906, 0.9999132623012261, 0.9999132629406795)"
     },
     "execution_count": 4,
     "metadata": {},
     "output_type": "execute_result"
    }
   ],
   "source": [
    "print(f\"Aggregated Prediction by Score:\")\n",
    "score = ap.aggregate_predict_by_score(\n",
    "    models_predictions=models_predicts,\n",
    "    models_metrics=metrics,\n",
    "    models_weights=model_weights)\n",
    "helper.get_metrics(y_test, score, printout=True)"
   ],
   "metadata": {
    "collapsed": false,
    "ExecuteTime": {
     "end_time": "2023-12-05T20:29:20.939205800Z",
     "start_time": "2023-12-05T20:29:20.372924500Z"
    }
   },
   "id": "db1ac29a97681f14"
  },
  {
   "cell_type": "code",
   "execution_count": 5,
   "outputs": [
    {
     "name": "stdout",
     "output_type": "stream",
     "text": [
      "Aggregated Prediction by Vote:\n",
      "-----------------------------\n",
      "Accuracy : 0.9913615677035926\n",
      "Precision: 0.9914434417000387\n",
      "Recall   : 0.9913615677035926\n",
      "F1 Score : 0.9911812937350675\n",
      "-----------------------------\n",
      "\n"
     ]
    },
    {
     "data": {
      "text/plain": "(0.9913615677035926,\n 0.9914434417000387,\n 0.9913615677035926,\n 0.9911812937350675)"
     },
     "execution_count": 5,
     "metadata": {},
     "output_type": "execute_result"
    }
   ],
   "source": [
    "print(f\"Aggregated Prediction by Vote:\")\n",
    "vote = ap.aggregate_predict_by_vote(models_predictions=models_predicts)\n",
    "helper.get_metrics(y_test, vote, printout=True)"
   ],
   "metadata": {
    "collapsed": false,
    "ExecuteTime": {
     "end_time": "2023-12-05T20:29:21.882046900Z",
     "start_time": "2023-12-05T20:29:20.938150400Z"
    }
   },
   "id": "3f61c71540080452"
  }
 ],
 "metadata": {
  "kernelspec": {
   "display_name": "Python 3",
   "language": "python",
   "name": "python3"
  },
  "language_info": {
   "codemirror_mode": {
    "name": "ipython",
    "version": 2
   },
   "file_extension": ".py",
   "mimetype": "text/x-python",
   "name": "python",
   "nbconvert_exporter": "python",
   "pygments_lexer": "ipython2",
   "version": "2.7.6"
  }
 },
 "nbformat": 4,
 "nbformat_minor": 5
}
