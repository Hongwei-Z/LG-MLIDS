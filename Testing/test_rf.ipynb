{
 "cells": [
  {
   "cell_type": "code",
   "execution_count": 1,
   "id": "initial_id",
   "metadata": {
    "collapsed": true,
    "ExecuteTime": {
     "end_time": "2023-11-06T21:42:22.892873Z",
     "start_time": "2023-11-06T21:42:22.257298400Z"
    }
   },
   "outputs": [],
   "source": [
    "from sklearn.model_selection import train_test_split\n",
    "import pandas as pd\n",
    "from sklearn.ensemble import RandomForestClassifier\n",
    "from sklearn.metrics import accuracy_score, precision_score, recall_score, f1_score, classification_report, confusion_matrix"
   ]
  },
  {
   "cell_type": "code",
   "execution_count": 2,
   "outputs": [
    {
     "data": {
      "text/plain": "   temperature  pressure  humidity  target\n0     0.382509  0.601189  0.320719       0\n1     0.716235  0.601189  0.309202       0\n2     0.737459  0.601189  0.197776       0\n3     0.970046  0.601189  0.790369       0\n4     0.119006  0.601189  0.400452       0",
      "text/html": "<div>\n<style scoped>\n    .dataframe tbody tr th:only-of-type {\n        vertical-align: middle;\n    }\n\n    .dataframe tbody tr th {\n        vertical-align: top;\n    }\n\n    .dataframe thead th {\n        text-align: right;\n    }\n</style>\n<table border=\"1\" class=\"dataframe\">\n  <thead>\n    <tr style=\"text-align: right;\">\n      <th></th>\n      <th>temperature</th>\n      <th>pressure</th>\n      <th>humidity</th>\n      <th>target</th>\n    </tr>\n  </thead>\n  <tbody>\n    <tr>\n      <th>0</th>\n      <td>0.382509</td>\n      <td>0.601189</td>\n      <td>0.320719</td>\n      <td>0</td>\n    </tr>\n    <tr>\n      <th>1</th>\n      <td>0.716235</td>\n      <td>0.601189</td>\n      <td>0.309202</td>\n      <td>0</td>\n    </tr>\n    <tr>\n      <th>2</th>\n      <td>0.737459</td>\n      <td>0.601189</td>\n      <td>0.197776</td>\n      <td>0</td>\n    </tr>\n    <tr>\n      <th>3</th>\n      <td>0.970046</td>\n      <td>0.601189</td>\n      <td>0.790369</td>\n      <td>0</td>\n    </tr>\n    <tr>\n      <th>4</th>\n      <td>0.119006</td>\n      <td>0.601189</td>\n      <td>0.400452</td>\n      <td>0</td>\n    </tr>\n  </tbody>\n</table>\n</div>"
     },
     "execution_count": 2,
     "metadata": {},
     "output_type": "execute_result"
    }
   ],
   "source": [
    "df = pd.read_csv('../datasets/label_data.csv')\n",
    "df = df.rename(columns={'label': 'target'})\n",
    "df.head()"
   ],
   "metadata": {
    "collapsed": false,
    "ExecuteTime": {
     "end_time": "2023-11-06T21:42:23.084741Z",
     "start_time": "2023-11-06T21:42:22.892873Z"
    }
   },
   "id": "ccca7bb340914264"
  },
  {
   "cell_type": "code",
   "execution_count": 3,
   "outputs": [
    {
     "name": "stdout",
     "output_type": "stream",
     "text": [
      "              precision    recall  f1-score   support\n",
      "\n",
      "           0       0.97      1.00      0.98    139930\n",
      "           1       0.96      0.80      0.88     22631\n",
      "\n",
      "    accuracy                           0.97    162561\n",
      "   macro avg       0.97      0.90      0.93    162561\n",
      "weighted avg       0.97      0.97      0.97    162561\n"
     ]
    }
   ],
   "source": [
    "X = df.drop('target', axis=1).values\n",
    "y = df['target'].values\n",
    "\n",
    "X_train, X_test, y_train, y_test = train_test_split(X, y, random_state=42, stratify=y)\n",
    "\n",
    "forest = RandomForestClassifier(class_weight='balanced')\n",
    "forest.fit(X_train, y_train)\n",
    "\n",
    "y_pred_test = forest.predict(X_test)\n",
    "print(classification_report(y_test, y_pred_test))"
   ],
   "metadata": {
    "collapsed": false,
    "ExecuteTime": {
     "end_time": "2023-11-06T21:44:01.197250800Z",
     "start_time": "2023-11-06T21:42:23.087257300Z"
    }
   },
   "id": "7433b930af60092c"
  },
  {
   "cell_type": "code",
   "execution_count": 4,
   "outputs": [
    {
     "name": "stdout",
     "output_type": "stream",
     "text": [
      "Testing Result:\n",
      "Accuracy: 0.9686   Precision: 0.9684   Recall: 0.9686   F1-Score: 0.9674\n"
     ]
    }
   ],
   "source": [
    "accuracy = accuracy_score(y_test, y_pred_test)\n",
    "precision = precision_score(y_test, y_pred_test, average='weighted')\n",
    "recall = recall_score(y_test, y_pred_test, average='weighted')\n",
    "f1 = f1_score(y_test, y_pred_test, average='weighted')\n",
    "\n",
    "print(\"Testing Result:\")\n",
    "print(f\"Accuracy: {accuracy:.4f}   Precision: {precision:.4f}   Recall: {recall:.4f}   F1-Score: {f1:.4f}\")"
   ],
   "metadata": {
    "collapsed": false,
    "ExecuteTime": {
     "end_time": "2023-11-06T21:44:01.290842900Z",
     "start_time": "2023-11-06T21:44:01.192479800Z"
    }
   },
   "id": "15454e188b06551e"
  },
  {
   "cell_type": "code",
   "execution_count": 5,
   "outputs": [
    {
     "data": {
      "text/plain": "array([0.23712824, 0.4716697 , 0.29120206])"
     },
     "execution_count": 5,
     "metadata": {},
     "output_type": "execute_result"
    }
   ],
   "source": [
    "forest.feature_importances_"
   ],
   "metadata": {
    "collapsed": false,
    "ExecuteTime": {
     "end_time": "2023-11-06T21:44:01.350526300Z",
     "start_time": "2023-11-06T21:44:01.288902Z"
    }
   },
   "id": "bc477b6dabef3bdd"
  },
  {
   "cell_type": "code",
   "execution_count": 6,
   "outputs": [
    {
     "data": {
      "text/plain": "['random_forest_model.joblib']"
     },
     "execution_count": 6,
     "metadata": {},
     "output_type": "execute_result"
    }
   ],
   "source": [
    "import joblib\n",
    "\n",
    "model_filename = \"random_forest_model.joblib\"\n",
    "joblib.dump(forest, model_filename)"
   ],
   "metadata": {
    "collapsed": false,
    "ExecuteTime": {
     "end_time": "2023-11-06T21:44:01.773222Z",
     "start_time": "2023-11-06T21:44:01.334772600Z"
    }
   },
   "id": "1f3e822911d080c1"
  },
  {
   "cell_type": "code",
   "execution_count": 7,
   "outputs": [
    {
     "data": {
      "text/plain": "   temperature  pressure  humidity\n0     0.705900  0.600658  0.338869\n1     0.667428  0.596071  0.897542\n2     0.702256  0.585888  0.124886\n3     0.712440  0.600658  0.338869\n4     0.664772  0.596071  0.897542\n5     0.708441  0.585888  0.124886\n6     0.698706  0.600658  0.338869\n7     0.680804  0.596071  0.897542\n8     0.692837  0.585888  0.124886\n9     0.701999  0.600658  0.338869",
      "text/html": "<div>\n<style scoped>\n    .dataframe tbody tr th:only-of-type {\n        vertical-align: middle;\n    }\n\n    .dataframe tbody tr th {\n        vertical-align: top;\n    }\n\n    .dataframe thead th {\n        text-align: right;\n    }\n</style>\n<table border=\"1\" class=\"dataframe\">\n  <thead>\n    <tr style=\"text-align: right;\">\n      <th></th>\n      <th>temperature</th>\n      <th>pressure</th>\n      <th>humidity</th>\n    </tr>\n  </thead>\n  <tbody>\n    <tr>\n      <th>0</th>\n      <td>0.705900</td>\n      <td>0.600658</td>\n      <td>0.338869</td>\n    </tr>\n    <tr>\n      <th>1</th>\n      <td>0.667428</td>\n      <td>0.596071</td>\n      <td>0.897542</td>\n    </tr>\n    <tr>\n      <th>2</th>\n      <td>0.702256</td>\n      <td>0.585888</td>\n      <td>0.124886</td>\n    </tr>\n    <tr>\n      <th>3</th>\n      <td>0.712440</td>\n      <td>0.600658</td>\n      <td>0.338869</td>\n    </tr>\n    <tr>\n      <th>4</th>\n      <td>0.664772</td>\n      <td>0.596071</td>\n      <td>0.897542</td>\n    </tr>\n    <tr>\n      <th>5</th>\n      <td>0.708441</td>\n      <td>0.585888</td>\n      <td>0.124886</td>\n    </tr>\n    <tr>\n      <th>6</th>\n      <td>0.698706</td>\n      <td>0.600658</td>\n      <td>0.338869</td>\n    </tr>\n    <tr>\n      <th>7</th>\n      <td>0.680804</td>\n      <td>0.596071</td>\n      <td>0.897542</td>\n    </tr>\n    <tr>\n      <th>8</th>\n      <td>0.692837</td>\n      <td>0.585888</td>\n      <td>0.124886</td>\n    </tr>\n    <tr>\n      <th>9</th>\n      <td>0.701999</td>\n      <td>0.600658</td>\n      <td>0.338869</td>\n    </tr>\n  </tbody>\n</table>\n</div>"
     },
     "execution_count": 7,
     "metadata": {},
     "output_type": "execute_result"
    }
   ],
   "source": [
    "data = {\n",
    "    'temperature': [0.705899748, 0.667428042, 0.70225628, 0.712440301, 0.66477176, 0.708440581, 0.698706139, 0.680803613, 0.69283698, 0.701999486],\n",
    "    'pressure': [0.600658318, 0.596070808, 0.585887767, 0.600658318, 0.596070808, 0.585887767, 0.600658318, 0.596070808, 0.585887767, 0.600658318],\n",
    "    'humidity': [0.33886893, 0.897541677, 0.124885584, 0.33886893, 0.897541677, 0.124885584, 0.33886893, 0.897541677, 0.124885584, 0.33886893]\n",
    "}\n",
    "\n",
    "new_data = pd.DataFrame(data)\n",
    "new_data"
   ],
   "metadata": {
    "collapsed": false,
    "ExecuteTime": {
     "end_time": "2023-11-06T21:44:01.782996400Z",
     "start_time": "2023-11-06T21:44:01.773222Z"
    }
   },
   "id": "1799982f86450f8b"
  },
  {
   "cell_type": "code",
   "execution_count": 8,
   "outputs": [
    {
     "name": "stderr",
     "output_type": "stream",
     "text": [
      "C:\\Users\\Hongwei\\PycharmProjects\\MCS\\venv\\Lib\\site-packages\\sklearn\\base.py:458: UserWarning: X has feature names, but RandomForestClassifier was fitted without feature names\n",
      "  warnings.warn(\n"
     ]
    },
    {
     "data": {
      "text/plain": "array([1, 1, 0, 0, 1, 1, 1, 1, 1, 1], dtype=int64)"
     },
     "execution_count": 8,
     "metadata": {},
     "output_type": "execute_result"
    }
   ],
   "source": [
    "# Load the saved model from a file\n",
    "loaded_model = joblib.load(model_filename)\n",
    "\n",
    "new_predictions = loaded_model.predict(new_data)\n",
    "new_predictions"
   ],
   "metadata": {
    "collapsed": false,
    "ExecuteTime": {
     "end_time": "2023-11-06T21:44:02.348855200Z",
     "start_time": "2023-11-06T21:44:01.782996400Z"
    }
   },
   "id": "95ea9248279ff07a"
  },
  {
   "cell_type": "code",
   "execution_count": null,
   "outputs": [],
   "source": [],
   "metadata": {
    "collapsed": false
   },
   "id": "ac8beda0a9201abb"
  }
 ],
 "metadata": {
  "kernelspec": {
   "display_name": "Python 3",
   "language": "python",
   "name": "python3"
  },
  "language_info": {
   "codemirror_mode": {
    "name": "ipython",
    "version": 2
   },
   "file_extension": ".py",
   "mimetype": "text/x-python",
   "name": "python",
   "nbconvert_exporter": "python",
   "pygments_lexer": "ipython2",
   "version": "2.7.6"
  }
 },
 "nbformat": 4,
 "nbformat_minor": 5
}
