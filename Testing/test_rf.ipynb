{
 "cells": [
  {
   "cell_type": "code",
   "execution_count": 15,
   "id": "initial_id",
   "metadata": {
    "collapsed": true,
    "ExecuteTime": {
     "end_time": "2023-11-07T21:08:16.434449800Z",
     "start_time": "2023-11-07T21:08:16.406634700Z"
    }
   },
   "outputs": [],
   "source": [
    "from sklearn.model_selection import train_test_split\n",
    "import pandas as pd\n",
    "from sklearn.ensemble import RandomForestClassifier\n",
    "from sklearn.metrics import accuracy_score, precision_score, recall_score, f1_score, classification_report, confusion_matrix"
   ]
  },
  {
   "cell_type": "code",
   "execution_count": 16,
   "outputs": [
    {
     "data": {
      "text/plain": "   temperature  pressure  humidity  target\n0     0.382509  0.601189  0.320719       0\n1     0.716235  0.601189  0.309202       0\n2     0.737459  0.601189  0.197776       0\n3     0.970046  0.601189  0.790369       0\n4     0.119006  0.601189  0.400452       0",
      "text/html": "<div>\n<style scoped>\n    .dataframe tbody tr th:only-of-type {\n        vertical-align: middle;\n    }\n\n    .dataframe tbody tr th {\n        vertical-align: top;\n    }\n\n    .dataframe thead th {\n        text-align: right;\n    }\n</style>\n<table border=\"1\" class=\"dataframe\">\n  <thead>\n    <tr style=\"text-align: right;\">\n      <th></th>\n      <th>temperature</th>\n      <th>pressure</th>\n      <th>humidity</th>\n      <th>target</th>\n    </tr>\n  </thead>\n  <tbody>\n    <tr>\n      <th>0</th>\n      <td>0.382509</td>\n      <td>0.601189</td>\n      <td>0.320719</td>\n      <td>0</td>\n    </tr>\n    <tr>\n      <th>1</th>\n      <td>0.716235</td>\n      <td>0.601189</td>\n      <td>0.309202</td>\n      <td>0</td>\n    </tr>\n    <tr>\n      <th>2</th>\n      <td>0.737459</td>\n      <td>0.601189</td>\n      <td>0.197776</td>\n      <td>0</td>\n    </tr>\n    <tr>\n      <th>3</th>\n      <td>0.970046</td>\n      <td>0.601189</td>\n      <td>0.790369</td>\n      <td>0</td>\n    </tr>\n    <tr>\n      <th>4</th>\n      <td>0.119006</td>\n      <td>0.601189</td>\n      <td>0.400452</td>\n      <td>0</td>\n    </tr>\n  </tbody>\n</table>\n</div>"
     },
     "execution_count": 16,
     "metadata": {},
     "output_type": "execute_result"
    }
   ],
   "source": [
    "df = pd.read_csv('../datasets/label_data.csv')\n",
    "df = df.rename(columns={'label': 'target'})\n",
    "df.head()"
   ],
   "metadata": {
    "collapsed": false,
    "ExecuteTime": {
     "end_time": "2023-11-07T21:08:16.619817700Z",
     "start_time": "2023-11-07T21:08:16.410812100Z"
    }
   },
   "id": "ccca7bb340914264"
  },
  {
   "cell_type": "code",
   "execution_count": 17,
   "outputs": [
    {
     "data": {
      "text/plain": "array([0, 1], dtype=int64)"
     },
     "execution_count": 17,
     "metadata": {},
     "output_type": "execute_result"
    }
   ],
   "source": [
    "X = df.drop('target', axis=1).values\n",
    "y = df['target'].values\n",
    "\n",
    "X_train, X_test, y_train, y_test = train_test_split(X, y, random_state=42, stratify=y)\n",
    "\n",
    "forest = RandomForestClassifier(class_weight='balanced')\n",
    "\n",
    "\n",
    "forest.fit(X_train, y_train)\n",
    "forest.classes_\n",
    "# y_pred_test = forest.predict(X_test)\n",
    "# print(classification_report(y_test, y_pred_test))"
   ],
   "metadata": {
    "collapsed": false,
    "ExecuteTime": {
     "end_time": "2023-11-07T21:09:54.478823800Z",
     "start_time": "2023-11-07T21:08:16.607792900Z"
    }
   },
   "id": "7433b930af60092c"
  },
  {
   "cell_type": "code",
   "execution_count": 28,
   "outputs": [
    {
     "name": "stdout",
     "output_type": "stream",
     "text": [
      "DecisionTreeClassifier()\n"
     ]
    }
   ],
   "source": [
    "print(forest.estimator_)"
   ],
   "metadata": {
    "collapsed": false,
    "ExecuteTime": {
     "end_time": "2023-11-07T21:11:00.942296700Z",
     "start_time": "2023-11-07T21:11:00.934242600Z"
    }
   },
   "id": "2c161b43c199869a"
  },
  {
   "cell_type": "code",
   "execution_count": 26,
   "outputs": [
    {
     "data": {
      "text/plain": "[DecisionTreeClassifier(max_features='sqrt', random_state=7289002),\n DecisionTreeClassifier(max_features='sqrt', random_state=274353119),\n DecisionTreeClassifier(max_features='sqrt', random_state=1495512500),\n DecisionTreeClassifier(max_features='sqrt', random_state=2036407604),\n DecisionTreeClassifier(max_features='sqrt', random_state=802055540),\n DecisionTreeClassifier(max_features='sqrt', random_state=1741290417),\n DecisionTreeClassifier(max_features='sqrt', random_state=21065443),\n DecisionTreeClassifier(max_features='sqrt', random_state=1346527693),\n DecisionTreeClassifier(max_features='sqrt', random_state=784923211),\n DecisionTreeClassifier(max_features='sqrt', random_state=866773886),\n DecisionTreeClassifier(max_features='sqrt', random_state=989405966),\n DecisionTreeClassifier(max_features='sqrt', random_state=840887609),\n DecisionTreeClassifier(max_features='sqrt', random_state=282657663),\n DecisionTreeClassifier(max_features='sqrt', random_state=1357742791),\n DecisionTreeClassifier(max_features='sqrt', random_state=37067778),\n DecisionTreeClassifier(max_features='sqrt', random_state=2054527654),\n DecisionTreeClassifier(max_features='sqrt', random_state=655544603),\n DecisionTreeClassifier(max_features='sqrt', random_state=1807638554),\n DecisionTreeClassifier(max_features='sqrt', random_state=209289180),\n DecisionTreeClassifier(max_features='sqrt', random_state=1825961947),\n DecisionTreeClassifier(max_features='sqrt', random_state=1835292304),\n DecisionTreeClassifier(max_features='sqrt', random_state=1961072920),\n DecisionTreeClassifier(max_features='sqrt', random_state=1034700518),\n DecisionTreeClassifier(max_features='sqrt', random_state=505719826),\n DecisionTreeClassifier(max_features='sqrt', random_state=191585295),\n DecisionTreeClassifier(max_features='sqrt', random_state=1316811377),\n DecisionTreeClassifier(max_features='sqrt', random_state=1785230264),\n DecisionTreeClassifier(max_features='sqrt', random_state=1697995638),\n DecisionTreeClassifier(max_features='sqrt', random_state=508983585),\n DecisionTreeClassifier(max_features='sqrt', random_state=1457472101),\n DecisionTreeClassifier(max_features='sqrt', random_state=454276979),\n DecisionTreeClassifier(max_features='sqrt', random_state=29979590),\n DecisionTreeClassifier(max_features='sqrt', random_state=1517970918),\n DecisionTreeClassifier(max_features='sqrt', random_state=690768002),\n DecisionTreeClassifier(max_features='sqrt', random_state=1989479135),\n DecisionTreeClassifier(max_features='sqrt', random_state=422708882),\n DecisionTreeClassifier(max_features='sqrt', random_state=1084765476),\n DecisionTreeClassifier(max_features='sqrt', random_state=2120013678),\n DecisionTreeClassifier(max_features='sqrt', random_state=2139053004),\n DecisionTreeClassifier(max_features='sqrt', random_state=141405324),\n DecisionTreeClassifier(max_features='sqrt', random_state=1680172892),\n DecisionTreeClassifier(max_features='sqrt', random_state=1689033743),\n DecisionTreeClassifier(max_features='sqrt', random_state=321026954),\n DecisionTreeClassifier(max_features='sqrt', random_state=262457416),\n DecisionTreeClassifier(max_features='sqrt', random_state=887740539),\n DecisionTreeClassifier(max_features='sqrt', random_state=1696297280),\n DecisionTreeClassifier(max_features='sqrt', random_state=1177611459),\n DecisionTreeClassifier(max_features='sqrt', random_state=1735805137),\n DecisionTreeClassifier(max_features='sqrt', random_state=868887404),\n DecisionTreeClassifier(max_features='sqrt', random_state=2011379842),\n DecisionTreeClassifier(max_features='sqrt', random_state=2064657213),\n DecisionTreeClassifier(max_features='sqrt', random_state=1203603931),\n DecisionTreeClassifier(max_features='sqrt', random_state=1563284588),\n DecisionTreeClassifier(max_features='sqrt', random_state=826105994),\n DecisionTreeClassifier(max_features='sqrt', random_state=531485573),\n DecisionTreeClassifier(max_features='sqrt', random_state=1370386485),\n DecisionTreeClassifier(max_features='sqrt', random_state=486443075),\n DecisionTreeClassifier(max_features='sqrt', random_state=1258317117),\n DecisionTreeClassifier(max_features='sqrt', random_state=678553318),\n DecisionTreeClassifier(max_features='sqrt', random_state=1586435556),\n DecisionTreeClassifier(max_features='sqrt', random_state=1947912365),\n DecisionTreeClassifier(max_features='sqrt', random_state=250194793),\n DecisionTreeClassifier(max_features='sqrt', random_state=753576624),\n DecisionTreeClassifier(max_features='sqrt', random_state=132587973),\n DecisionTreeClassifier(max_features='sqrt', random_state=73175232),\n DecisionTreeClassifier(max_features='sqrt', random_state=138868770),\n DecisionTreeClassifier(max_features='sqrt', random_state=1998245816),\n DecisionTreeClassifier(max_features='sqrt', random_state=147602277),\n DecisionTreeClassifier(max_features='sqrt', random_state=1861834199),\n DecisionTreeClassifier(max_features='sqrt', random_state=1712147164),\n DecisionTreeClassifier(max_features='sqrt', random_state=814743830),\n DecisionTreeClassifier(max_features='sqrt', random_state=1321610932),\n DecisionTreeClassifier(max_features='sqrt', random_state=115591704),\n DecisionTreeClassifier(max_features='sqrt', random_state=971751905),\n DecisionTreeClassifier(max_features='sqrt', random_state=1024120275),\n DecisionTreeClassifier(max_features='sqrt', random_state=215970968),\n DecisionTreeClassifier(max_features='sqrt', random_state=274186700),\n DecisionTreeClassifier(max_features='sqrt', random_state=1542061158),\n DecisionTreeClassifier(max_features='sqrt', random_state=1279993637),\n DecisionTreeClassifier(max_features='sqrt', random_state=242417378),\n DecisionTreeClassifier(max_features='sqrt', random_state=1621596018),\n DecisionTreeClassifier(max_features='sqrt', random_state=1487358775),\n DecisionTreeClassifier(max_features='sqrt', random_state=663132854),\n DecisionTreeClassifier(max_features='sqrt', random_state=77804906),\n DecisionTreeClassifier(max_features='sqrt', random_state=719381243),\n DecisionTreeClassifier(max_features='sqrt', random_state=1717499482),\n DecisionTreeClassifier(max_features='sqrt', random_state=143888222),\n DecisionTreeClassifier(max_features='sqrt', random_state=1738910605),\n DecisionTreeClassifier(max_features='sqrt', random_state=319528457),\n DecisionTreeClassifier(max_features='sqrt', random_state=588393083),\n DecisionTreeClassifier(max_features='sqrt', random_state=2105549796),\n DecisionTreeClassifier(max_features='sqrt', random_state=205200753),\n DecisionTreeClassifier(max_features='sqrt', random_state=1547148889),\n DecisionTreeClassifier(max_features='sqrt', random_state=1154552490),\n DecisionTreeClassifier(max_features='sqrt', random_state=1101256412),\n DecisionTreeClassifier(max_features='sqrt', random_state=164868965),\n DecisionTreeClassifier(max_features='sqrt', random_state=168428485),\n DecisionTreeClassifier(max_features='sqrt', random_state=1299760880),\n DecisionTreeClassifier(max_features='sqrt', random_state=1159655037),\n DecisionTreeClassifier(max_features='sqrt', random_state=817426967)]"
     },
     "execution_count": 26,
     "metadata": {},
     "output_type": "execute_result"
    }
   ],
   "source": [
    "forest.estimators_"
   ],
   "metadata": {
    "collapsed": false,
    "ExecuteTime": {
     "end_time": "2023-11-07T21:10:01.681829600Z",
     "start_time": "2023-11-07T21:10:01.656677700Z"
    }
   },
   "id": "1108faa4ea32610e"
  },
  {
   "cell_type": "code",
   "execution_count": 36,
   "outputs": [
    {
     "data": {
      "text/plain": "100"
     },
     "execution_count": 36,
     "metadata": {},
     "output_type": "execute_result"
    }
   ],
   "source": [
    "len(forest.estimators_)"
   ],
   "metadata": {
    "collapsed": false,
    "ExecuteTime": {
     "end_time": "2023-11-07T21:14:56.921964Z",
     "start_time": "2023-11-07T21:14:56.890229400Z"
    }
   },
   "id": "568f5de08b9b8bdf"
  },
  {
   "cell_type": "code",
   "execution_count": 27,
   "outputs": [
    {
     "data": {
      "text/plain": "2"
     },
     "execution_count": 27,
     "metadata": {},
     "output_type": "execute_result"
    }
   ],
   "source": [
    "forest.n_classes_"
   ],
   "metadata": {
    "collapsed": false,
    "ExecuteTime": {
     "end_time": "2023-11-07T21:10:03.050932100Z",
     "start_time": "2023-11-07T21:10:03.034711100Z"
    }
   },
   "id": "2fb93ff1ac923cfe"
  },
  {
   "cell_type": "code",
   "execution_count": 29,
   "outputs": [
    {
     "data": {
      "text/plain": "3"
     },
     "execution_count": 29,
     "metadata": {},
     "output_type": "execute_result"
    }
   ],
   "source": [
    "forest.n_features_in_"
   ],
   "metadata": {
    "collapsed": false,
    "ExecuteTime": {
     "end_time": "2023-11-07T21:11:35.337802600Z",
     "start_time": "2023-11-07T21:11:35.323811700Z"
    }
   },
   "id": "9010760c04581f4d"
  },
  {
   "cell_type": "code",
   "execution_count": 32,
   "outputs": [
    {
     "data": {
      "text/plain": "1"
     },
     "execution_count": 32,
     "metadata": {},
     "output_type": "execute_result"
    }
   ],
   "source": [
    "forest.n_outputs_ "
   ],
   "metadata": {
    "collapsed": false,
    "ExecuteTime": {
     "end_time": "2023-11-07T21:12:38.382635100Z",
     "start_time": "2023-11-07T21:12:38.356420Z"
    }
   },
   "id": "22c55f34bfed81e5"
  },
  {
   "cell_type": "code",
   "execution_count": 33,
   "outputs": [
    {
     "data": {
      "text/plain": "array([0.23214831, 0.47512136, 0.29273033])"
     },
     "execution_count": 33,
     "metadata": {},
     "output_type": "execute_result"
    }
   ],
   "source": [
    "forest.feature_importances_"
   ],
   "metadata": {
    "collapsed": false,
    "ExecuteTime": {
     "end_time": "2023-11-07T21:12:52.246809Z",
     "start_time": "2023-11-07T21:12:52.180667600Z"
    }
   },
   "id": "12d7690fb80cd0ba"
  },
  {
   "cell_type": "code",
   "execution_count": 20,
   "outputs": [],
   "source": [
    "# accuracy = accuracy_score(y_test, y_pred_test)\n",
    "# precision = precision_score(y_test, y_pred_test, average='weighted')\n",
    "# recall = recall_score(y_test, y_pred_test, average='weighted')\n",
    "# f1 = f1_score(y_test, y_pred_test, average='weighted')\n",
    "# \n",
    "# print(\"Testing Result:\")\n",
    "# print(f\"Accuracy: {accuracy:.4f}   Precision: {precision:.4f}   Recall: {recall:.4f}   F1-Score: {f1:.4f}\")"
   ],
   "metadata": {
    "collapsed": false,
    "ExecuteTime": {
     "end_time": "2023-11-07T21:09:54.498774700Z",
     "start_time": "2023-11-07T21:09:54.482682500Z"
    }
   },
   "id": "15454e188b06551e"
  },
  {
   "cell_type": "code",
   "execution_count": 21,
   "outputs": [],
   "source": [
    "#"
   ],
   "metadata": {
    "collapsed": false,
    "ExecuteTime": {
     "end_time": "2023-11-07T21:09:54.615807700Z",
     "start_time": "2023-11-07T21:09:54.486637400Z"
    }
   },
   "id": "bc477b6dabef3bdd"
  },
  {
   "cell_type": "code",
   "execution_count": 22,
   "outputs": [],
   "source": [
    "# import joblib\n",
    "# \n",
    "# model_filename = \"random_forest_model.joblib\"\n",
    "# joblib.dump(forest, model_filename)"
   ],
   "metadata": {
    "collapsed": false,
    "ExecuteTime": {
     "end_time": "2023-11-07T21:09:54.628647200Z",
     "start_time": "2023-11-07T21:09:54.495766200Z"
    }
   },
   "id": "1f3e822911d080c1"
  },
  {
   "cell_type": "code",
   "execution_count": 23,
   "outputs": [],
   "source": [
    "# data = {\n",
    "#     'temperature': [0.705899748, 0.667428042, 0.70225628, 0.712440301, 0.66477176, 0.708440581, 0.698706139, 0.680803613, 0.69283698, 0.701999486],\n",
    "#     'pressure': [0.600658318, 0.596070808, 0.585887767, 0.600658318, 0.596070808, 0.585887767, 0.600658318, 0.596070808, 0.585887767, 0.600658318],\n",
    "#     'humidity': [0.33886893, 0.897541677, 0.124885584, 0.33886893, 0.897541677, 0.124885584, 0.33886893, 0.897541677, 0.124885584, 0.33886893]\n",
    "# }\n",
    "# \n",
    "# new_data = pd.DataFrame(data)\n",
    "# new_data"
   ],
   "metadata": {
    "collapsed": false,
    "ExecuteTime": {
     "end_time": "2023-11-07T21:09:54.629695Z",
     "start_time": "2023-11-07T21:09:54.503832800Z"
    }
   },
   "id": "1799982f86450f8b"
  },
  {
   "cell_type": "code",
   "execution_count": 24,
   "outputs": [],
   "source": [
    "# Load the saved model from a file\n",
    "# loaded_model = joblib.load(model_filename)\n",
    "# \n",
    "# new_predictions = loaded_model.predict(new_data)\n",
    "# new_predictions"
   ],
   "metadata": {
    "collapsed": false,
    "ExecuteTime": {
     "end_time": "2023-11-07T21:09:54.629695Z",
     "start_time": "2023-11-07T21:09:54.512706200Z"
    }
   },
   "id": "95ea9248279ff07a"
  },
  {
   "cell_type": "code",
   "execution_count": 24,
   "outputs": [],
   "source": [],
   "metadata": {
    "collapsed": false,
    "ExecuteTime": {
     "end_time": "2023-11-07T21:09:54.629695Z",
     "start_time": "2023-11-07T21:09:54.522391200Z"
    }
   },
   "id": "ac8beda0a9201abb"
  }
 ],
 "metadata": {
  "kernelspec": {
   "display_name": "Python 3",
   "language": "python",
   "name": "python3"
  },
  "language_info": {
   "codemirror_mode": {
    "name": "ipython",
    "version": 2
   },
   "file_extension": ".py",
   "mimetype": "text/x-python",
   "name": "python",
   "nbconvert_exporter": "python",
   "pygments_lexer": "ipython2",
   "version": "2.7.6"
  }
 },
 "nbformat": 4,
 "nbformat_minor": 5
}
