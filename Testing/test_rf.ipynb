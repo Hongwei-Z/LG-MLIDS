{
 "cells": [
  {
   "cell_type": "code",
   "execution_count": 1,
   "id": "initial_id",
   "metadata": {
    "collapsed": true,
    "ExecuteTime": {
     "end_time": "2023-10-30T19:48:30.633474800Z",
     "start_time": "2023-10-30T19:48:29.754917600Z"
    }
   },
   "outputs": [],
   "source": [
    "from sklearn.model_selection import train_test_split\n",
    "import pandas as pd\n",
    "from sklearn.ensemble import RandomForestClassifier\n",
    "from sklearn.metrics import accuracy_score, precision_score, recall_score, f1_score, classification_report, confusion_matrix"
   ]
  },
  {
   "cell_type": "code",
   "execution_count": 2,
   "outputs": [
    {
     "data": {
      "text/plain": "   temperature  pressure  humidity  target\n0     0.382509  0.601189  0.320719       0\n1     0.716235  0.601189  0.309202       0\n2     0.737459  0.601189  0.197776       0\n3     0.970046  0.601189  0.790369       0\n4     0.119006  0.601189  0.400452       0",
      "text/html": "<div>\n<style scoped>\n    .dataframe tbody tr th:only-of-type {\n        vertical-align: middle;\n    }\n\n    .dataframe tbody tr th {\n        vertical-align: top;\n    }\n\n    .dataframe thead th {\n        text-align: right;\n    }\n</style>\n<table border=\"1\" class=\"dataframe\">\n  <thead>\n    <tr style=\"text-align: right;\">\n      <th></th>\n      <th>temperature</th>\n      <th>pressure</th>\n      <th>humidity</th>\n      <th>target</th>\n    </tr>\n  </thead>\n  <tbody>\n    <tr>\n      <th>0</th>\n      <td>0.382509</td>\n      <td>0.601189</td>\n      <td>0.320719</td>\n      <td>0</td>\n    </tr>\n    <tr>\n      <th>1</th>\n      <td>0.716235</td>\n      <td>0.601189</td>\n      <td>0.309202</td>\n      <td>0</td>\n    </tr>\n    <tr>\n      <th>2</th>\n      <td>0.737459</td>\n      <td>0.601189</td>\n      <td>0.197776</td>\n      <td>0</td>\n    </tr>\n    <tr>\n      <th>3</th>\n      <td>0.970046</td>\n      <td>0.601189</td>\n      <td>0.790369</td>\n      <td>0</td>\n    </tr>\n    <tr>\n      <th>4</th>\n      <td>0.119006</td>\n      <td>0.601189</td>\n      <td>0.400452</td>\n      <td>0</td>\n    </tr>\n  </tbody>\n</table>\n</div>"
     },
     "execution_count": 2,
     "metadata": {},
     "output_type": "execute_result"
    }
   ],
   "source": [
    "df = pd.read_csv('../datasets/label_data.csv')\n",
    "df = df.rename(columns={'label': 'target'})\n",
    "df.head()"
   ],
   "metadata": {
    "collapsed": false,
    "ExecuteTime": {
     "end_time": "2023-10-30T19:48:30.792692500Z",
     "start_time": "2023-10-30T19:48:30.603519300Z"
    }
   },
   "id": "ccca7bb340914264"
  },
  {
   "cell_type": "code",
   "execution_count": 3,
   "outputs": [
    {
     "name": "stdout",
     "output_type": "stream",
     "text": [
      "              precision    recall  f1-score   support\n",
      "\n",
      "           0       0.97      1.00      0.98    139930\n",
      "           1       0.96      0.80      0.87     22631\n",
      "\n",
      "    accuracy                           0.97    162561\n",
      "   macro avg       0.97      0.90      0.93    162561\n",
      "weighted avg       0.97      0.97      0.97    162561\n"
     ]
    }
   ],
   "source": [
    "X = df.drop('target', axis=1).values\n",
    "y = df['target'].values\n",
    "X_train, X_test, y_train, y_test = train_test_split(X, y, random_state=42, stratify=y)\n",
    "forest = RandomForestClassifier(class_weight='balanced')\n",
    "forest.fit(X_train, y_train)\n",
    "y_pred_test = forest.predict(X_test)\n",
    "print(classification_report(y_test, y_pred_test))"
   ],
   "metadata": {
    "collapsed": false,
    "ExecuteTime": {
     "end_time": "2023-10-30T19:50:09.276718Z",
     "start_time": "2023-10-30T19:48:30.784183900Z"
    }
   },
   "id": "7433b930af60092c"
  },
  {
   "cell_type": "code",
   "execution_count": 4,
   "outputs": [
    {
     "name": "stdout",
     "output_type": "stream",
     "text": [
      "Testing Result:\n",
      "Accuracy: 0.9675   Precision: 0.9674   Recall: 0.9675   F1-Score: 0.9662\n"
     ]
    }
   ],
   "source": [
    "accuracy = accuracy_score(y_test, y_pred_test)\n",
    "precision = precision_score(y_test, y_pred_test, average='weighted')\n",
    "recall = recall_score(y_test, y_pred_test, average='weighted')\n",
    "f1 = f1_score(y_test, y_pred_test, average='weighted')\n",
    "\n",
    "print(\"Testing Result:\")\n",
    "print(f\"Accuracy: {accuracy:.4f}   Precision: {precision:.4f}   Recall: {recall:.4f}   F1-Score: {f1:.4f}\")"
   ],
   "metadata": {
    "collapsed": false,
    "ExecuteTime": {
     "end_time": "2023-10-30T19:50:09.373812600Z",
     "start_time": "2023-10-30T19:50:09.276718Z"
    }
   },
   "id": "15454e188b06551e"
  },
  {
   "cell_type": "markdown",
   "source": [
    "### 1 normal and 7 attacks"
   ],
   "metadata": {
    "collapsed": false
   },
   "id": "f6c4cbee6a092abf"
  },
  {
   "cell_type": "code",
   "execution_count": 5,
   "outputs": [
    {
     "name": "stdout",
     "output_type": "stream",
     "text": [
      "              precision    recall  f1-score   support\n",
      "\n",
      "           0       0.96      1.00      0.98    139930\n",
      "           1       0.96      0.79      0.87      8910\n",
      "           2       0.98      0.73      0.84      6429\n",
      "           3       0.94      0.76      0.84      3796\n",
      "           4       0.98      0.86      0.92      2432\n",
      "           5       0.93      0.65      0.77       716\n",
      "           6       0.98      0.55      0.71       216\n",
      "           7       0.95      0.73      0.82       132\n",
      "\n",
      "    accuracy                           0.96    162561\n",
      "   macro avg       0.96      0.76      0.84    162561\n",
      "weighted avg       0.96      0.96      0.96    162561\n"
     ]
    }
   ],
   "source": [
    "df = pd.read_csv('../datasets/target_data.csv')\n",
    "X = df.drop('target', axis=1).values\n",
    "y = df['target'].values\n",
    "X_train, X_test, y_train, y_test = train_test_split(X, y, random_state=42, stratify=y)\n",
    "forest = RandomForestClassifier(class_weight='balanced')\n",
    "forest.fit(X_train, y_train)\n",
    "y_pred_test = forest.predict(X_test)\n",
    "print(classification_report(y_test, y_pred_test))"
   ],
   "metadata": {
    "collapsed": false,
    "ExecuteTime": {
     "end_time": "2023-10-30T19:51:56.778805300Z",
     "start_time": "2023-10-30T19:50:09.376449900Z"
    }
   },
   "id": "ad097b7fdf7b4c17"
  },
  {
   "cell_type": "code",
   "execution_count": 6,
   "outputs": [
    {
     "name": "stdout",
     "output_type": "stream",
     "text": [
      "Testing Result:\n",
      "Accuracy: 0.9645   Precision: 0.9644   Recall: 0.9645   F1-Score: 0.9626\n"
     ]
    }
   ],
   "source": [
    "accuracy = accuracy_score(y_test, y_pred_test)\n",
    "precision = precision_score(y_test, y_pred_test, average='weighted')\n",
    "recall = recall_score(y_test, y_pred_test, average='weighted')\n",
    "f1 = f1_score(y_test, y_pred_test, average='weighted')\n",
    "\n",
    "print(\"Testing Result:\")\n",
    "print(f\"Accuracy: {accuracy:.4f}   Precision: {precision:.4f}   Recall: {recall:.4f}   F1-Score: {f1:.4f}\")"
   ],
   "metadata": {
    "collapsed": false,
    "ExecuteTime": {
     "end_time": "2023-10-30T19:51:56.858025500Z",
     "start_time": "2023-10-30T19:51:56.764318300Z"
    }
   },
   "id": "1e8bc9d5a4978b06"
  },
  {
   "cell_type": "code",
   "execution_count": 7,
   "outputs": [
    {
     "name": "stdout",
     "output_type": "stream",
     "text": [
      "[[139363    247     71    178     33     32      2      4]\n",
      " [  1806   7075     24      1      2      1      0      1]\n",
      " [  1688     27   4706      3      4      1      0      0]\n",
      " [   915     10      1   2866      4      0      0      0]\n",
      " [   331      4      5      2   2090      0      0      0]\n",
      " [   244      1      1      1      1    468      0      0]\n",
      " [    96      1      0      0      0      0    119      0]\n",
      " [    35      1      0      0      0      0      0     96]]\n"
     ]
    }
   ],
   "source": [
    "print(confusion_matrix(y_test, y_pred_test))"
   ],
   "metadata": {
    "collapsed": false,
    "ExecuteTime": {
     "end_time": "2023-10-30T19:54:31.617856300Z",
     "start_time": "2023-10-30T19:54:31.597953200Z"
    }
   },
   "id": "e4e161852d670c57"
  },
  {
   "cell_type": "code",
   "execution_count": null,
   "outputs": [],
   "source": [],
   "metadata": {
    "collapsed": false
   },
   "id": "8b920ec8e6dcb26"
  }
 ],
 "metadata": {
  "kernelspec": {
   "display_name": "Python 3",
   "language": "python",
   "name": "python3"
  },
  "language_info": {
   "codemirror_mode": {
    "name": "ipython",
    "version": 2
   },
   "file_extension": ".py",
   "mimetype": "text/x-python",
   "name": "python",
   "nbconvert_exporter": "python",
   "pygments_lexer": "ipython2",
   "version": "2.7.6"
  }
 },
 "nbformat": 4,
 "nbformat_minor": 5
}
