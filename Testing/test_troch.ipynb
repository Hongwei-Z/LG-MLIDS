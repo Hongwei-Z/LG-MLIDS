{
 "cells": [
  {
   "cell_type": "code",
   "execution_count": 1,
   "id": "initial_id",
   "metadata": {
    "collapsed": true,
    "ExecuteTime": {
     "end_time": "2023-10-31T21:00:05.078548600Z",
     "start_time": "2023-10-31T21:00:03.896187400Z"
    }
   },
   "outputs": [],
   "source": [
    "import pandas as pd\n",
    "from matplotlib import pyplot as plt\n",
    "import torch \n",
    "import torch.nn as nn \n",
    "from torch.utils.data import random_split, DataLoader, TensorDataset \n",
    "import torch.optim as optim"
   ]
  },
  {
   "cell_type": "code",
   "execution_count": 2,
   "outputs": [],
   "source": [
    "NUM_CLIENTS = 3\n",
    "\n",
    "EPOCHS = 10\n",
    "BATCH_SIZE = 100\n",
    "\n",
    "IN_FEATURES = 3\n",
    "HIDDEN_LAYERS = 128\n",
    "OUT_FEATURES = 2"
   ],
   "metadata": {
    "collapsed": false,
    "ExecuteTime": {
     "end_time": "2023-10-31T21:00:05.090445300Z",
     "start_time": "2023-10-31T21:00:05.081414900Z"
    }
   },
   "id": "8d2802f11eb22116"
  },
  {
   "cell_type": "code",
   "execution_count": 3,
   "outputs": [
    {
     "data": {
      "text/plain": "   temperature  pressure  humidity  target\n0     0.382509  0.601189  0.320719       0\n1     0.716235  0.601189  0.309202       0\n2     0.737459  0.601189  0.197776       0\n3     0.970046  0.601189  0.790369       0\n4     0.119006  0.601189  0.400452       0",
      "text/html": "<div>\n<style scoped>\n    .dataframe tbody tr th:only-of-type {\n        vertical-align: middle;\n    }\n\n    .dataframe tbody tr th {\n        vertical-align: top;\n    }\n\n    .dataframe thead th {\n        text-align: right;\n    }\n</style>\n<table border=\"1\" class=\"dataframe\">\n  <thead>\n    <tr style=\"text-align: right;\">\n      <th></th>\n      <th>temperature</th>\n      <th>pressure</th>\n      <th>humidity</th>\n      <th>target</th>\n    </tr>\n  </thead>\n  <tbody>\n    <tr>\n      <th>0</th>\n      <td>0.382509</td>\n      <td>0.601189</td>\n      <td>0.320719</td>\n      <td>0</td>\n    </tr>\n    <tr>\n      <th>1</th>\n      <td>0.716235</td>\n      <td>0.601189</td>\n      <td>0.309202</td>\n      <td>0</td>\n    </tr>\n    <tr>\n      <th>2</th>\n      <td>0.737459</td>\n      <td>0.601189</td>\n      <td>0.197776</td>\n      <td>0</td>\n    </tr>\n    <tr>\n      <th>3</th>\n      <td>0.970046</td>\n      <td>0.601189</td>\n      <td>0.790369</td>\n      <td>0</td>\n    </tr>\n    <tr>\n      <th>4</th>\n      <td>0.119006</td>\n      <td>0.601189</td>\n      <td>0.400452</td>\n      <td>0</td>\n    </tr>\n  </tbody>\n</table>\n</div>"
     },
     "execution_count": 3,
     "metadata": {},
     "output_type": "execute_result"
    }
   ],
   "source": [
    "df = pd.read_csv('../datasets/label_data.csv')\n",
    "df = df.rename(columns={'label': 'target'})\n",
    "df.head()"
   ],
   "metadata": {
    "collapsed": false,
    "ExecuteTime": {
     "end_time": "2023-10-31T21:00:05.276266Z",
     "start_time": "2023-10-31T21:00:05.083420Z"
    }
   },
   "id": "60abe6298b249df6"
  },
  {
   "cell_type": "code",
   "execution_count": 4,
   "outputs": [
    {
     "data": {
      "text/plain": "target\n0    559718\n1     90524\nName: count, dtype: int64"
     },
     "execution_count": 4,
     "metadata": {},
     "output_type": "execute_result"
    }
   ],
   "source": [
    "df['target'].value_counts()"
   ],
   "metadata": {
    "collapsed": false,
    "ExecuteTime": {
     "end_time": "2023-10-31T21:00:05.288727200Z",
     "start_time": "2023-10-31T21:00:05.277265800Z"
    }
   },
   "id": "f52204fa6d048e71"
  },
  {
   "cell_type": "code",
   "execution_count": 5,
   "outputs": [
    {
     "data": {
      "text/plain": "<Axes: title={'center': 'Labels Distribution'}>"
     },
     "execution_count": 5,
     "metadata": {},
     "output_type": "execute_result"
    },
    {
     "data": {
      "text/plain": "<Figure size 600x600 with 1 Axes>",
      "image/png": "[encoded data removed]"
     },
     "metadata": {},
     "output_type": "display_data"
    }
   ],
   "source": [
    "plt.title(\"Labels Distribution\")\n",
    "df.groupby('target').size().plot(kind='pie', autopct='%.2f', figsize=(6, 6))"
   ],
   "metadata": {
    "collapsed": false,
    "ExecuteTime": {
     "end_time": "2023-10-31T21:00:05.416173400Z",
     "start_time": "2023-10-31T21:00:05.283719800Z"
    }
   },
   "id": "7f8530e64aa4a976"
  },
  {
   "cell_type": "code",
   "execution_count": 6,
   "outputs": [
    {
     "data": {
      "text/plain": "   temperature  pressure  humidity\n0     0.382509  0.601189  0.320719\n1     0.716235  0.601189  0.309202\n2     0.737459  0.601189  0.197776\n3     0.970046  0.601189  0.790369\n4     0.119006  0.601189  0.400452",
      "text/html": "<div>\n<style scoped>\n    .dataframe tbody tr th:only-of-type {\n        vertical-align: middle;\n    }\n\n    .dataframe tbody tr th {\n        vertical-align: top;\n    }\n\n    .dataframe thead th {\n        text-align: right;\n    }\n</style>\n<table border=\"1\" class=\"dataframe\">\n  <thead>\n    <tr style=\"text-align: right;\">\n      <th></th>\n      <th>temperature</th>\n      <th>pressure</th>\n      <th>humidity</th>\n    </tr>\n  </thead>\n  <tbody>\n    <tr>\n      <th>0</th>\n      <td>0.382509</td>\n      <td>0.601189</td>\n      <td>0.320719</td>\n    </tr>\n    <tr>\n      <th>1</th>\n      <td>0.716235</td>\n      <td>0.601189</td>\n      <td>0.309202</td>\n    </tr>\n    <tr>\n      <th>2</th>\n      <td>0.737459</td>\n      <td>0.601189</td>\n      <td>0.197776</td>\n    </tr>\n    <tr>\n      <th>3</th>\n      <td>0.970046</td>\n      <td>0.601189</td>\n      <td>0.790369</td>\n    </tr>\n    <tr>\n      <th>4</th>\n      <td>0.119006</td>\n      <td>0.601189</td>\n      <td>0.400452</td>\n    </tr>\n  </tbody>\n</table>\n</div>"
     },
     "execution_count": 6,
     "metadata": {},
     "output_type": "execute_result"
    }
   ],
   "source": [
    "feature = df.iloc[:, :-1]\n",
    "feature.head()"
   ],
   "metadata": {
    "collapsed": false,
    "ExecuteTime": {
     "end_time": "2023-10-31T21:00:05.453755100Z",
     "start_time": "2023-10-31T21:00:05.356212100Z"
    }
   },
   "id": "9a3a525042001115"
  },
  {
   "cell_type": "code",
   "execution_count": 7,
   "outputs": [
    {
     "data": {
      "text/plain": "0    0\n1    0\n2    0\n3    0\n4    0\nName: target, dtype: int64"
     },
     "execution_count": 7,
     "metadata": {},
     "output_type": "execute_result"
    }
   ],
   "source": [
    "target = df.loc[:, 'target']\n",
    "target.head()"
   ],
   "metadata": {
    "collapsed": false,
    "ExecuteTime": {
     "end_time": "2023-10-31T21:00:05.454755Z",
     "start_time": "2023-10-31T21:00:05.365276400Z"
    }
   },
   "id": "b3730fc84ca5ec88"
  },
  {
   "cell_type": "code",
   "execution_count": 8,
   "outputs": [
    {
     "name": "stdout",
     "output_type": "stream",
     "text": [
      "Feature format:  torch.Size([650242, 3]) torch.float32\n",
      "Target format:  torch.Size([650242]) torch.int64\n"
     ]
    }
   ],
   "source": [
    "# Convert data to tensors and create a TensorDataset \n",
    "feature = torch.Tensor(feature.to_numpy())\n",
    "print('Feature format: ', feature.shape, feature.dtype)\n",
    "target = torch.tensor(target.to_numpy())\n",
    "print('Target format: ', target.shape, target.dtype)\n",
    "data = TensorDataset(feature, target) "
   ],
   "metadata": {
    "collapsed": false,
    "ExecuteTime": {
     "end_time": "2023-10-31T21:00:05.458755200Z",
     "start_time": "2023-10-31T21:00:05.369849800Z"
    }
   },
   "id": "6c8c5aa427061f30"
  },
  {
   "cell_type": "code",
   "execution_count": 9,
   "outputs": [],
   "source": [
    "# Split to Train, Validate and Test sets\n",
    "number_rows = len(feature)\n",
    "test_split = int(number_rows * 0.3)\n",
    "validate_split = int(number_rows * 0.1)\n",
    "train_split = number_rows - test_split - validate_split\n",
    "train_set, validate_set, test_set = random_split(data, [train_split, validate_split, test_split]) \n",
    "\n",
    "# Create Dataloader\n",
    "train_loader = DataLoader(train_set, batch_size = BATCH_SIZE, shuffle = True) \n",
    "validate_loader = DataLoader(validate_set, batch_size = BATCH_SIZE) \n",
    "test_loader = DataLoader(test_set, batch_size = BATCH_SIZE)"
   ],
   "metadata": {
    "collapsed": false,
    "ExecuteTime": {
     "end_time": "2023-10-31T21:00:05.514920700Z",
     "start_time": "2023-10-31T21:00:05.382083Z"
    }
   },
   "id": "45417c0fc8da671b"
  },
  {
   "cell_type": "code",
   "execution_count": 10,
   "outputs": [
    {
     "name": "stdout",
     "output_type": "stream",
     "text": [
      "The model will be running on cpu device\n"
     ]
    },
    {
     "data": {
      "text/plain": "NeuralNetwork(\n  (flatten): Flatten(start_dim=1, end_dim=-1)\n  (linear_relu_stack): Sequential(\n    (0): Linear(in_features=3, out_features=128, bias=True)\n    (1): ReLU()\n    (2): Linear(in_features=128, out_features=128, bias=True)\n    (3): ReLU()\n    (4): Linear(in_features=128, out_features=2, bias=True)\n    (5): Softmax(dim=1)\n  )\n)"
     },
     "execution_count": 10,
     "metadata": {},
     "output_type": "execute_result"
    }
   ],
   "source": [
    "class NeuralNetwork(nn.Module):\n",
    "    def __init__(self, in_features, hidden_layer, out_features):\n",
    "        super().__init__()\n",
    "        self.flatten = nn.Flatten()\n",
    "        self.linear_relu_stack = nn.Sequential(\n",
    "            nn.Linear(in_features, hidden_layer), \n",
    "            nn.ReLU(),\n",
    "            nn.Linear(hidden_layer, hidden_layer), \n",
    "            nn.ReLU(),\n",
    "            nn.Linear(hidden_layer, out_features), \n",
    "            nn.Softmax(dim=1)\n",
    "        )\n",
    "    def forward(self, x):\n",
    "        x = self.flatten(x)\n",
    "        logits = self.linear_relu_stack(x)\n",
    "        return logits\n",
    "\n",
    "device = torch.device('cuda:0' if torch.cuda.is_available() else 'cpu') \n",
    "print('The model will be running on', device, \"device\\n\") \n",
    "\n",
    "model = NeuralNetwork(IN_FEATURES, HIDDEN_LAYERS, OUT_FEATURES)\n",
    "model.to(device)"
   ],
   "metadata": {
    "collapsed": false,
    "ExecuteTime": {
     "end_time": "2023-10-31T21:00:05.544440700Z",
     "start_time": "2023-10-31T21:00:05.407096100Z"
    }
   },
   "id": "9ff7fea6af62ba25"
  },
  {
   "cell_type": "code",
   "execution_count": 11,
   "outputs": [],
   "source": [
    "def save_model(): \n",
    "    path = '../Testing/NNModel.pth'\n",
    "    torch.save(model.state_dict(), path)"
   ],
   "metadata": {
    "collapsed": false,
    "ExecuteTime": {
     "end_time": "2023-10-31T21:00:05.545454900Z",
     "start_time": "2023-10-31T21:00:05.412171500Z"
    }
   },
   "id": "a73dfa78a7e051e8"
  },
  {
   "cell_type": "code",
   "execution_count": 12,
   "outputs": [],
   "source": [
    "loss_fn = nn.CrossEntropyLoss()\n",
    "optimizer = optim.Adam(model.parameters(), lr=0.001, weight_decay=0.0001)"
   ],
   "metadata": {
    "collapsed": false,
    "ExecuteTime": {
     "end_time": "2023-10-31T21:00:05.635004300Z",
     "start_time": "2023-10-31T21:00:05.424246300Z"
    }
   },
   "id": "f718bba953c047a7"
  },
  {
   "cell_type": "code",
   "execution_count": 13,
   "outputs": [],
   "source": [
    "def train(num_epochs): \n",
    "    best_accuracy = 0.0 \n",
    "    print('Training start ...')\n",
    "    \n",
    "    for epoch in range(1, num_epochs + 1): \n",
    "        running_train_loss = 0.0 \n",
    "        running_accuracy = 0.0 \n",
    "        running_vall_loss = 0.0 \n",
    "        total = 0 \n",
    " \n",
    "        # Training loop\n",
    "        for data in train_loader:\n",
    "            inputs, outputs = data\n",
    "            optimizer.zero_grad()         \n",
    "            predicted_outputs = model(inputs)\n",
    "            train_loss = loss_fn(predicted_outputs, outputs)\n",
    "            train_loss.backward()\n",
    "            optimizer.step()\n",
    "            running_train_loss += train_loss.item()\n",
    "\n",
    "        train_loss_value = running_train_loss / len(train_loader) \n",
    " \n",
    "        # Validation loop \n",
    "        with torch.no_grad(): \n",
    "            model.eval() \n",
    "            for data in validate_loader: \n",
    "               inputs, outputs = data \n",
    "               predicted_outputs = model(inputs) \n",
    "               val_loss = loss_fn(predicted_outputs, outputs) \n",
    "             \n",
    "               _, predicted = torch.max(predicted_outputs, 1) \n",
    "               running_vall_loss += val_loss.item()  \n",
    "               total += outputs.size(0) \n",
    "               running_accuracy += (predicted == outputs).sum().item() \n",
    "\n",
    "        val_loss_value = running_vall_loss / len(validate_loader) \n",
    "        accuracy = (100 * running_accuracy / total)     \n",
    " \n",
    "        if accuracy > best_accuracy: \n",
    "            save_model()\n",
    "            best_accuracy = accuracy \n",
    "         \n",
    "        print('Completed training batch', epoch, 'Training Loss is: %.4f' % train_loss_value, 'Validation Loss is: %.4f' % val_loss_value, 'Accuracy is %.4f' % accuracy)"
   ],
   "metadata": {
    "collapsed": false,
    "ExecuteTime": {
     "end_time": "2023-10-31T21:00:05.635004300Z",
     "start_time": "2023-10-31T21:00:05.616813100Z"
    }
   },
   "id": "ddc55166e0d8f2c"
  },
  {
   "cell_type": "code",
   "execution_count": 14,
   "outputs": [],
   "source": [
    "def test(): \n",
    "    model = NeuralNetwork(IN_FEATURES, HIDDEN_LAYERS, OUT_FEATURES) \n",
    "    model.load_state_dict(torch.load('../Testing/NNModel.pth')) \n",
    "     \n",
    "    running_accuracy = 0 \n",
    "    total = 0 \n",
    " \n",
    "    with torch.no_grad(): \n",
    "        for data in test_loader: \n",
    "            inputs, outputs = data \n",
    "            outputs = outputs.to(torch.float32) \n",
    "            predicted_outputs = model(inputs) \n",
    "            _, predicted = torch.max(predicted_outputs, 1) \n",
    "            total += outputs.size(0) \n",
    "            running_accuracy += (predicted == outputs).sum().item() \n",
    " \n",
    "        print('Accuracy of the model based on the test set of', test_split ,'inputs is: %.4f' % (100 * running_accuracy / total))"
   ],
   "metadata": {
    "collapsed": false,
    "ExecuteTime": {
     "end_time": "2023-10-31T21:00:05.635004300Z",
     "start_time": "2023-10-31T21:00:05.620047400Z"
    }
   },
   "id": "741fe7fa2c3dbfca"
  },
  {
   "cell_type": "code",
   "execution_count": 15,
   "outputs": [
    {
     "name": "stdout",
     "output_type": "stream",
     "text": [
      "Training start ...\n",
      "Completed training batch 1 Training Loss is: 0.4527 Validation Loss is: 0.4518 Accuracy is 86.1543\n",
      "Completed training batch 2 Training Loss is: 0.4522 Validation Loss is: 0.4518 Accuracy is 86.1543\n",
      "Completed training batch 3 Training Loss is: 0.4522 Validation Loss is: 0.4518 Accuracy is 86.1543\n",
      "Completed training batch 4 Training Loss is: 0.4522 Validation Loss is: 0.4518 Accuracy is 86.1543\n",
      "Completed training batch 5 Training Loss is: 0.4522 Validation Loss is: 0.4518 Accuracy is 86.1543\n",
      "Completed training batch 6 Training Loss is: 0.4522 Validation Loss is: 0.4518 Accuracy is 86.1543\n",
      "Completed training batch 7 Training Loss is: 0.4522 Validation Loss is: 0.4518 Accuracy is 86.1543\n",
      "Completed training batch 8 Training Loss is: 0.4522 Validation Loss is: 0.4518 Accuracy is 86.1543\n",
      "Completed training batch 9 Training Loss is: 0.4522 Validation Loss is: 0.4518 Accuracy is 86.1543\n",
      "Completed training batch 10 Training Loss is: 0.4522 Validation Loss is: 0.4518 Accuracy is 86.1543\n",
      "\n",
      "Training Done.\n",
      "Accuracy of the model based on the test set of 195072 inputs is: 85.9975\n"
     ]
    }
   ],
   "source": [
    "if __name__ == \"__main__\": \n",
    "    train(EPOCHS) \n",
    "    print('\\nTraining Done.') \n",
    "    test()"
   ],
   "metadata": {
    "collapsed": false,
    "ExecuteTime": {
     "end_time": "2023-10-31T21:06:03.296347100Z",
     "start_time": "2023-10-31T21:00:05.627000100Z"
    }
   },
   "id": "5701e088772ce575"
  },
  {
   "cell_type": "markdown",
   "source": [
    "Citation:   \n",
    "https://flower.dev/docs/framework/tutorial-series-get-started-with-flower-pytorch.html\n",
    "https://pytorch.org/tutorials/beginner/basics/quickstart_tutorial.html"
   ],
   "metadata": {
    "collapsed": false
   },
   "id": "e8a65e4fcfbac61f"
  }
 ],
 "metadata": {
  "kernelspec": {
   "display_name": "Python 3",
   "language": "python",
   "name": "python3"
  },
  "language_info": {
   "codemirror_mode": {
    "name": "ipython",
    "version": 2
   },
   "file_extension": ".py",
   "mimetype": "text/x-python",
   "name": "python",
   "nbconvert_exporter": "python",
   "pygments_lexer": "ipython2",
   "version": "2.7.6"
  }
 },
 "nbformat": 4,
 "nbformat_minor": 5
}
