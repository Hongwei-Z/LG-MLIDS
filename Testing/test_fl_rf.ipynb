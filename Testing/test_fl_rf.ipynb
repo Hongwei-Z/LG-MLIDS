{
 "cells": [
  {
   "cell_type": "code",
   "execution_count": 13,
   "id": "initial_id",
   "metadata": {
    "collapsed": true,
    "ExecuteTime": {
     "end_time": "2023-11-02T20:14:45.455031700Z",
     "start_time": "2023-11-02T20:14:45.429608100Z"
    }
   },
   "outputs": [],
   "source": [
    "import pandas as pd\n",
    "import numpy as np\n",
    "\n",
    "import flwr as fl\n",
    "from flwr.common import Metrics\n",
    "\n",
    "from sklearn.model_selection import train_test_split\n",
    "from sklearn.ensemble import RandomForestClassifier\n",
    "from sklearn.metrics import accuracy_score, precision_score, recall_score, f1_score, classification_report, confusion_matrix\n",
    "\n",
    "from collections import OrderedDict\n",
    "from typing import List, Tuple\n",
    "import sys\n",
    "import time\n",
    "import warnings\n",
    "warnings.simplefilter('ignore')"
   ]
  },
  {
   "cell_type": "code",
   "execution_count": 14,
   "outputs": [],
   "source": [
    "NUM_CLIENTS = 3\n",
    "EPOCHS = 10\n",
    "ROUNDS = 5"
   ],
   "metadata": {
    "collapsed": false,
    "ExecuteTime": {
     "end_time": "2023-11-02T20:14:45.456033700Z",
     "start_time": "2023-11-02T20:14:45.433505800Z"
    }
   },
   "id": "76da49b6c291b6b5"
  },
  {
   "cell_type": "code",
   "execution_count": 31,
   "outputs": [],
   "source": [
    "def load_dataset():\n",
    "    df = pd.read_csv('../datasets/label_data.csv')\n",
    "    df = df.rename(columns={'label': 'target'})\n",
    "    X = df.iloc[:, :-1]\n",
    "    y = df.loc[:, 'target']\n",
    "    \n",
    "    # Split the training set and testing set in 80% ratio\n",
    "    X_train, X_test, y_train, y_test = (\n",
    "        train_test_split(\n",
    "            X, y, \n",
    "            train_size=0.8,\n",
    "            random_state=42, \n",
    "            shuffle=True,\n",
    "            stratify=y,\n",
    "        )\n",
    "    )\n",
    "    \n",
    "    # Split the training set by the number of clients\n",
    "    X_train = np.array_split(X_train, NUM_CLIENTS)\n",
    "    y_train = np.array_split(y_train, NUM_CLIENTS)\n",
    "    \n",
    "    return X_train, X_test, y_train, y_test\n",
    "    \n",
    "X_train, X_test, y_train, y_test = load_dataset()"
   ],
   "metadata": {
    "collapsed": false,
    "ExecuteTime": {
     "end_time": "2023-11-02T20:59:55.304451400Z",
     "start_time": "2023-11-02T20:59:55.029398100Z"
    }
   },
   "id": "fd99cfc66616ad14"
  },
  {
   "cell_type": "code",
   "execution_count": 20,
   "outputs": [],
   "source": [
    "# Create RandomForestClassifier model\n",
    "model = RandomForestClassifier(\n",
    "    class_weight='balanced',\n",
    "    warm_start=True,\n",
    ")"
   ],
   "metadata": {
    "collapsed": false,
    "ExecuteTime": {
     "end_time": "2023-11-02T20:14:45.830905300Z",
     "start_time": "2023-11-02T20:14:45.780603600Z"
    }
   },
   "id": "671ad66ce8712aaa"
  },
  {
   "cell_type": "code",
   "execution_count": 22,
   "outputs": [],
   "source": [
    "def get_model_params(model):"
   ],
   "metadata": {
    "collapsed": false,
    "ExecuteTime": {
     "end_time": "2023-11-02T20:14:45.914968500Z",
     "start_time": "2023-11-02T20:14:45.802571300Z"
    }
   },
   "id": "d7d08c9f970e1db3"
  },
  {
   "cell_type": "code",
   "execution_count": 22,
   "outputs": [],
   "source": [
    "def set_model_params(model: RandomForestClassifier, params: RFParams) -> RandomForestClassifier:\n",
    "    "
   ],
   "metadata": {
    "collapsed": false,
    "ExecuteTime": {
     "end_time": "2023-11-02T20:14:45.932969400Z",
     "start_time": "2023-11-02T20:14:45.806466700Z"
    }
   },
   "id": "886449720c3eae8c"
  },
  {
   "cell_type": "code",
   "execution_count": 23,
   "outputs": [],
   "source": [
    "def params_initialization(model: RandomForestClassifier):\n",
    "    "
   ],
   "metadata": {
    "collapsed": false,
    "ExecuteTime": {
     "end_time": "2023-11-02T20:14:45.933969100Z",
     "start_time": "2023-11-02T20:14:45.807976700Z"
    }
   },
   "id": "b4ec17e67d1b0c58"
  },
  {
   "cell_type": "code",
   "execution_count": 23,
   "outputs": [],
   "source": [
    "class FlowerClient(fl.client.NumPyClient):\n",
    "    \n",
    "    def get_params(self):\n",
    "        return get_model_params(model)\n",
    "    \n",
    "    def fit(self, params, config):\n",
    "        set_model_params(model, params)\n",
    "    \n",
    "        model.fit(X_train, y_train)\n",
    "        print(f\"Training finished for round {config['rnd']}.\")\n",
    "        return get_model_params(model), len(X_train), {}\n",
    "    \n",
    "    def evaluate(self, params, config):\n",
    "        set_model_params(model, params)\n",
    "        loss = \n",
    "        accuracy = \n",
    "        \n",
    "        return float(loss), len(X_test), {'accuracy: ': float(accuracy)}"
   ],
   "metadata": {
    "collapsed": false,
    "ExecuteTime": {
     "end_time": "2023-11-02T20:14:45.933969100Z",
     "start_time": "2023-11-02T20:14:45.815396400Z"
    }
   },
   "id": "7ee7f6c03e51d0bd"
  },
  {
   "cell_type": "code",
   "execution_count": null,
   "outputs": [],
   "source": [],
   "metadata": {
    "collapsed": false
   },
   "id": "867c9de4affe5914"
  },
  {
   "cell_type": "code",
   "execution_count": null,
   "outputs": [],
   "source": [],
   "metadata": {
    "collapsed": false
   },
   "id": "4e50ee57d0c4a496"
  },
  {
   "cell_type": "code",
   "execution_count": null,
   "outputs": [],
   "source": [
    "model = RandomForestClassifier()\n",
    "params_initialization(model)\n",
    "\n",
    "strategy = fl.server.strategy.FedAvg(\n",
    "    fraction_fit=1.0,\n",
    "    fraction_evaluate=1.0,\n",
    "    min_fit_clients=NUM_CLIENTS,\n",
    "    min_evaluate_clients=NUM_CLIENTS,\n",
    "    min_available_clients=NUM_CLIENTS,\n",
    "\n",
    ")\n",
    "\n",
    "fl.simulation.start_simulation(\n",
    "    client_fn=client_fn,\n",
    "    num_clients=NUM_CLIENTS,\n",
    "    config=fl.server.ServerConfig(num_rounds=ROUNDS),\n",
    "    strategy=strategy,\n",
    ")"
   ],
   "metadata": {
    "collapsed": false
   },
   "id": "33b24de0682e78e6"
  }
 ],
 "metadata": {
  "kernelspec": {
   "display_name": "Python 3",
   "language": "python",
   "name": "python3"
  },
  "language_info": {
   "codemirror_mode": {
    "name": "ipython",
    "version": 2
   },
   "file_extension": ".py",
   "mimetype": "text/x-python",
   "name": "python",
   "nbconvert_exporter": "python",
   "pygments_lexer": "ipython2",
   "version": "2.7.6"
  }
 },
 "nbformat": 4,
 "nbformat_minor": 5
}
