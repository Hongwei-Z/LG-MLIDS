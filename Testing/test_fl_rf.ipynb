{
 "cells": [
  {
   "cell_type": "code",
   "execution_count": 35,
   "id": "initial_id",
   "metadata": {
    "collapsed": true,
    "ExecuteTime": {
     "end_time": "2023-11-07T20:49:24.278323900Z",
     "start_time": "2023-11-07T20:49:24.258540900Z"
    }
   },
   "outputs": [],
   "source": [
    "import pandas as pd\n",
    "import numpy as np\n",
    "\n",
    "import flwr as fl\n",
    "from flwr.common import Metrics\n",
    "from logging import INFO, DEBUG\n",
    "from flwr.common.logger import log\n",
    "\n",
    "from sklearn.model_selection import train_test_split\n",
    "from sklearn.ensemble import RandomForestClassifier\n",
    "from sklearn.metrics import accuracy_score, precision_score, recall_score, f1_score, classification_report, confusion_matrix\n",
    "\n",
    "from sklearn.linear_model import LogisticRegression\n",
    "from sklearn.metrics import log_loss\n",
    "\n",
    "from collections import OrderedDict\n",
    "from typing import List, Tuple, Union, Dict\n",
    "import sys\n",
    "import time\n",
    "import warnings\n",
    "warnings.simplefilter('ignore')"
   ]
  },
  {
   "cell_type": "code",
   "execution_count": 36,
   "outputs": [],
   "source": [
    "NUM_CLIENTS = 3\n",
    "EPOCHS = 10\n",
    "ROUNDS = 5"
   ],
   "metadata": {
    "collapsed": false,
    "ExecuteTime": {
     "end_time": "2023-11-07T20:49:24.278323900Z",
     "start_time": "2023-11-07T20:49:24.262720400Z"
    }
   },
   "id": "76da49b6c291b6b5"
  },
  {
   "cell_type": "code",
   "execution_count": 37,
   "outputs": [],
   "source": [
    "# def load_dataset():\n",
    "#     df = pd.read_csv('../datasets/label_data.csv')\n",
    "#     df = df.rename(columns={'label': 'target'})\n",
    "#     X = df.iloc[:, :-1]\n",
    "#     y = df.loc[:, 'target']\n",
    "#     \n",
    "#     # Split the training set and testing set in 80% ratio\n",
    "#     X_train, X_test, y_train, y_test = (\n",
    "#         train_test_split(\n",
    "#             X, y, \n",
    "#             train_size=0.8,\n",
    "#             random_state=42, \n",
    "#             shuffle=True,\n",
    "#             stratify=y,\n",
    "#         )\n",
    "#     )\n",
    "#     \n",
    "#     # Split the training set by the number of clients\n",
    "#     X_train = np.array_split(X_train, NUM_CLIENTS)\n",
    "#     y_train = np.array_split(y_train, NUM_CLIENTS)\n",
    "#     \n",
    "#     return X_train, X_test, y_train, y_test\n",
    "#     \n",
    "# X_train, X_test, y_train, y_test = load_dataset()"
   ],
   "metadata": {
    "collapsed": false,
    "ExecuteTime": {
     "end_time": "2023-11-07T20:49:24.311313500Z",
     "start_time": "2023-11-07T20:49:24.270754500Z"
    }
   },
   "id": "fd99cfc66616ad14"
  },
  {
   "cell_type": "code",
   "execution_count": 38,
   "outputs": [],
   "source": [
    "XY = Tuple[np.ndarray, np.ndarray]\n",
    "Dataset = Tuple[XY, XY]\n",
    "LogRegParams = Union[XY, Tuple[np.ndarray]]\n",
    "XYList = List[XY]\n",
    "\n",
    "\n",
    "def load_dataset() -> Dataset:\n",
    "    df = pd.read_csv('../datasets/label_data.csv')\n",
    "    df = df.rename(columns={'label': 'target'})\n",
    "    X = df.iloc[:, :-1]\n",
    "    y = df.loc[:, 'target']\n",
    "\n",
    "    # Split the training set and testing set in 80% ratio\n",
    "    X_train, X_test, y_train, y_test = (\n",
    "        train_test_split(\n",
    "            X, y,\n",
    "            train_size=0.8,\n",
    "            random_state=42,\n",
    "            shuffle=True,\n",
    "            stratify=y,\n",
    "        )\n",
    "    )\n",
    "\n",
    "    return (X_train, y_train), (X_test, y_test)\n",
    "\n",
    "\n",
    "def partition(X: np.ndarray, y: np.ndarray, num_partitions: int) -> XYList:\n",
    "    return list(\n",
    "        zip(np.array_split(X, num_partitions), np.array_split(y, num_partitions))\n",
    "    )"
   ],
   "metadata": {
    "collapsed": false,
    "ExecuteTime": {
     "end_time": "2023-11-07T20:49:24.311313500Z",
     "start_time": "2023-11-07T20:49:24.282329300Z"
    }
   },
   "id": "58d0545dd7955289"
  },
  {
   "cell_type": "code",
   "execution_count": 39,
   "outputs": [],
   "source": [
    "def get_model_params(model: LogisticRegression) -> LogRegParams:\n",
    "    if model.fit_intercept:\n",
    "        params = [\n",
    "            model.coef_,\n",
    "            model.intercept_,\n",
    "        ]\n",
    "    else:\n",
    "        params = [\n",
    "            model.coef_,\n",
    "        ]\n",
    "    return params\n",
    "\n",
    "\n",
    "def set_model_params(\n",
    "    model: LogisticRegression, params: LogRegParams\n",
    ") -> LogisticRegression:\n",
    "\n",
    "    model.coef_ = params[0]\n",
    "    if model.fit_intercept:\n",
    "        model.intercept_ = params[1]\n",
    "    return model\n",
    "\n",
    "\n",
    "def params_initialize(model: LogisticRegression):\n",
    "    \n",
    "    n_classes = 2\n",
    "    n_features = 3\n",
    "    model.classes_ = np.array([i for i in range(2)])\n",
    "\n",
    "    model.coef_ = np.zeros((n_classes, n_features))\n",
    "    if model.fit_intercept:\n",
    "        model.intercept_ = np.zeros((n_classes,))"
   ],
   "metadata": {
    "collapsed": false,
    "ExecuteTime": {
     "end_time": "2023-11-07T20:49:24.311313500Z",
     "start_time": "2023-11-07T20:49:24.290709700Z"
    }
   },
   "id": "7626deacbe0c4559"
  },
  {
   "cell_type": "code",
   "execution_count": 40,
   "outputs": [],
   "source": [
    "(X_train, y_train), (X_test, y_test) = load_dataset()\n",
    "\n",
    "partition_id = np.random.choice(NUM_CLIENTS)\n",
    "(X_train, y_train) = partition(X_train, y_train, NUM_CLIENTS)[partition_id]\n",
    "\n",
    "model = LogisticRegression(\n",
    "    penalty=\"l2\",\n",
    "    class_weight='balanced',\n",
    "    warm_start=True,\n",
    ")\n",
    "\n",
    "params_initialize(model)\n",
    "\n",
    "class FlowerClient(fl.client.NumPyClient):\n",
    "    def __init__(self, cid):\n",
    "        self.cid = cid\n",
    "    \n",
    "    def get_parameters(self, config):\n",
    "        log(INFO, f\"Client {self.cid} received the parameters\")\n",
    "        return get_model_params(model)\n",
    "\n",
    "    def fit(self, params, config):\n",
    "        set_model_params(model, params)\n",
    "        log(INFO, f\"Client {self.cid} fit with config: {config}\")\n",
    "        model.fit(X_train, y_train)\n",
    "        print(f\"Training finished for round {config['server_round']}\")\n",
    "        return get_model_params(model), len(X_train), {}\n",
    "\n",
    "    def evaluate(self, params, config):\n",
    "        log(INFO, f\"Client {self.cid} evaluate with config: {config}\")\n",
    "        set_model_params(model, params)\n",
    "        loss = log_loss(y_test, model.predict_proba(X_test))\n",
    "        accuracy = model.score(X_test, y_test)\n",
    "        \n",
    "        # accuracy = accuracy_score(X_test, y_test)\n",
    "        # precision = precision_score(X_test, y_test, average='weighted')\n",
    "        # recall = recall_score(X_test, y_test, average='weighted')\n",
    "        # f1 = f1_score(X_test, y_test, average='weighted')\n",
    "        return loss, len(X_test), {'accuracy': accuracy}\n",
    "        #return loss, len(X_test), {'accuracy': accuracy, 'precision': precision, 'recall':recall, 'f1_score':f1}\n",
    "\n",
    "\n",
    "def client_fn(cid) -> FlowerClient:\n",
    "    return FlowerClient(cid)"
   ],
   "metadata": {
    "collapsed": false,
    "ExecuteTime": {
     "end_time": "2023-11-07T20:49:24.604387300Z",
     "start_time": "2023-11-07T20:49:24.297137600Z"
    }
   },
   "id": "e4b5882301710197"
  },
  {
   "cell_type": "code",
   "execution_count": 41,
   "outputs": [],
   "source": [
    "def fit_round(server_round: int) -> Dict:\n",
    "    return {\"server_round\": server_round}\n",
    "\n",
    "\n",
    "def get_evaluate_fn(model: LogisticRegression):\n",
    "\n",
    "    def evaluate(server_round, parameters: fl.common.NDArrays, config):\n",
    "        set_model_params(model, parameters)\n",
    "        loss = log_loss(y_test, model.predict_proba(X_test))\n",
    "        accuracy = model.score(X_test, y_test)\n",
    "        \n",
    "        # accuracy = accuracy_score(X_test, y_test)\n",
    "        # precision = precision_score(X_test, y_test, average='weighted')\n",
    "        # recall = recall_score(X_test, y_test, average='weighted')\n",
    "        # f1 = f1_score(X_test, y_test, average='weighted')\n",
    "        \n",
    "        #return loss, {'accuracy': accuracy, 'precision': precision, 'recall':recall, 'f1_score':f1}\n",
    "        return loss, {'accuracy': accuracy}\n",
    "    \n",
    "    return evaluate"
   ],
   "metadata": {
    "collapsed": false,
    "ExecuteTime": {
     "end_time": "2023-11-07T20:49:24.614651300Z",
     "start_time": "2023-11-07T20:49:24.604387300Z"
    }
   },
   "id": "7b781c2f26776659"
  },
  {
   "cell_type": "code",
   "execution_count": 42,
   "outputs": [
    {
     "name": "stderr",
     "output_type": "stream",
     "text": [
      "INFO flwr 2023-11-07 16:49:24,624 | app.py:175 | Starting Flower simulation, config: ServerConfig(num_rounds=1, round_timeout=None)\n"
     ]
    },
    {
     "ename": "FileNotFoundError",
     "evalue": "[WinError 2] 系统找不到指定的文件。",
     "output_type": "error",
     "traceback": [
      "\u001B[1;31m---------------------------------------------------------------------------\u001B[0m",
      "\u001B[1;31mFileNotFoundError\u001B[0m                         Traceback (most recent call last)",
      "Cell \u001B[1;32mIn[42], line 16\u001B[0m\n\u001B[0;32m      4\u001B[0m strategy \u001B[38;5;241m=\u001B[39m fl\u001B[38;5;241m.\u001B[39mserver\u001B[38;5;241m.\u001B[39mstrategy\u001B[38;5;241m.\u001B[39mFedAvg(\n\u001B[0;32m      5\u001B[0m     fraction_fit\u001B[38;5;241m=\u001B[39m\u001B[38;5;241m1.0\u001B[39m,\n\u001B[0;32m      6\u001B[0m     fraction_evaluate\u001B[38;5;241m=\u001B[39m\u001B[38;5;241m1.0\u001B[39m,\n\u001B[1;32m   (...)\u001B[0m\n\u001B[0;32m     11\u001B[0m     on_fit_config_fn\u001B[38;5;241m=\u001B[39mfit_round,\n\u001B[0;32m     12\u001B[0m )\n\u001B[0;32m     14\u001B[0m fl\u001B[38;5;241m.\u001B[39mcommon\u001B[38;5;241m.\u001B[39mlogger\u001B[38;5;241m.\u001B[39mconfigure(identifier\u001B[38;5;241m=\u001B[39m\u001B[38;5;124m\"\u001B[39m\u001B[38;5;124mFL_Model\u001B[39m\u001B[38;5;124m\"\u001B[39m, filename\u001B[38;5;241m=\u001B[39m\u001B[38;5;124m\"\u001B[39m\u001B[38;5;124m../Testing/log.txt\u001B[39m\u001B[38;5;124m\"\u001B[39m)\n\u001B[1;32m---> 16\u001B[0m \u001B[43mfl\u001B[49m\u001B[38;5;241;43m.\u001B[39;49m\u001B[43msimulation\u001B[49m\u001B[38;5;241;43m.\u001B[39;49m\u001B[43mstart_simulation\u001B[49m\u001B[43m(\u001B[49m\n\u001B[0;32m     17\u001B[0m \u001B[43m    \u001B[49m\u001B[43mclient_fn\u001B[49m\u001B[38;5;241;43m=\u001B[39;49m\u001B[43mclient_fn\u001B[49m\u001B[43m,\u001B[49m\n\u001B[0;32m     18\u001B[0m \u001B[43m    \u001B[49m\u001B[43mnum_clients\u001B[49m\u001B[38;5;241;43m=\u001B[39;49m\u001B[43mNUM_CLIENTS\u001B[49m\u001B[43m,\u001B[49m\n\u001B[0;32m     19\u001B[0m \u001B[43m)\u001B[49m\n\u001B[0;32m     20\u001B[0m \u001B[38;5;66;03m# fl.simulation.start_simulation(\u001B[39;00m\n\u001B[0;32m     21\u001B[0m \u001B[38;5;66;03m#     client_fn=client_fn,\u001B[39;00m\n\u001B[0;32m     22\u001B[0m \u001B[38;5;66;03m#     num_clients=NUM_CLIENTS,\u001B[39;00m\n\u001B[0;32m     23\u001B[0m \u001B[38;5;66;03m#     config=fl.server.ServerConfig(num_rounds=ROUNDS),\u001B[39;00m\n\u001B[0;32m     24\u001B[0m \u001B[38;5;66;03m#     strategy=strategy,\u001B[39;00m\n\u001B[0;32m     25\u001B[0m \u001B[38;5;66;03m# )\u001B[39;00m\n",
      "File \u001B[1;32m~\\PycharmProjects\\MCS\\venv\\Lib\\site-packages\\flwr\\simulation\\app.py:208\u001B[0m, in \u001B[0;36mstart_simulation\u001B[1;34m(client_fn, num_clients, clients_ids, client_resources, server, config, strategy, client_manager, ray_init_args, keep_initialised, actor_type, actor_kwargs, actor_scheduling)\u001B[0m\n\u001B[0;32m    205\u001B[0m     ray\u001B[38;5;241m.\u001B[39mshutdown()\n\u001B[0;32m    207\u001B[0m \u001B[38;5;66;03m# Initialize Ray\u001B[39;00m\n\u001B[1;32m--> 208\u001B[0m \u001B[43mray\u001B[49m\u001B[38;5;241;43m.\u001B[39;49m\u001B[43minit\u001B[49m\u001B[43m(\u001B[49m\u001B[38;5;241;43m*\u001B[39;49m\u001B[38;5;241;43m*\u001B[39;49m\u001B[43mray_init_args\u001B[49m\u001B[43m)\u001B[49m\n\u001B[0;32m    209\u001B[0m cluster_resources \u001B[38;5;241m=\u001B[39m ray\u001B[38;5;241m.\u001B[39mcluster_resources()\n\u001B[0;32m    210\u001B[0m log(\n\u001B[0;32m    211\u001B[0m     INFO,\n\u001B[0;32m    212\u001B[0m     \u001B[38;5;124m\"\u001B[39m\u001B[38;5;124mFlower VCE: Ray initialized with resources: \u001B[39m\u001B[38;5;132;01m%s\u001B[39;00m\u001B[38;5;124m\"\u001B[39m,\n\u001B[0;32m    213\u001B[0m     cluster_resources,\n\u001B[0;32m    214\u001B[0m )\n",
      "File \u001B[1;32m~\\PycharmProjects\\MCS\\venv\\Lib\\site-packages\\ray\\_private\\client_mode_hook.py:103\u001B[0m, in \u001B[0;36mclient_mode_hook.<locals>.wrapper\u001B[1;34m(*args, **kwargs)\u001B[0m\n\u001B[0;32m    101\u001B[0m     \u001B[38;5;28;01mif\u001B[39;00m func\u001B[38;5;241m.\u001B[39m\u001B[38;5;18m__name__\u001B[39m \u001B[38;5;241m!=\u001B[39m \u001B[38;5;124m\"\u001B[39m\u001B[38;5;124minit\u001B[39m\u001B[38;5;124m\"\u001B[39m \u001B[38;5;129;01mor\u001B[39;00m is_client_mode_enabled_by_default:\n\u001B[0;32m    102\u001B[0m         \u001B[38;5;28;01mreturn\u001B[39;00m \u001B[38;5;28mgetattr\u001B[39m(ray, func\u001B[38;5;241m.\u001B[39m\u001B[38;5;18m__name__\u001B[39m)(\u001B[38;5;241m*\u001B[39margs, \u001B[38;5;241m*\u001B[39m\u001B[38;5;241m*\u001B[39mkwargs)\n\u001B[1;32m--> 103\u001B[0m \u001B[38;5;28;01mreturn\u001B[39;00m \u001B[43mfunc\u001B[49m\u001B[43m(\u001B[49m\u001B[38;5;241;43m*\u001B[39;49m\u001B[43margs\u001B[49m\u001B[43m,\u001B[49m\u001B[43m \u001B[49m\u001B[38;5;241;43m*\u001B[39;49m\u001B[38;5;241;43m*\u001B[39;49m\u001B[43mkwargs\u001B[49m\u001B[43m)\u001B[49m\n",
      "File \u001B[1;32m~\\PycharmProjects\\MCS\\venv\\Lib\\site-packages\\ray\\_private\\worker.py:1514\u001B[0m, in \u001B[0;36minit\u001B[1;34m(address, num_cpus, num_gpus, resources, labels, object_store_memory, local_mode, ignore_reinit_error, include_dashboard, dashboard_host, dashboard_port, job_config, configure_logging, logging_level, logging_format, log_to_driver, namespace, runtime_env, storage, **kwargs)\u001B[0m\n\u001B[0;32m   1480\u001B[0m     ray_params \u001B[38;5;241m=\u001B[39m ray\u001B[38;5;241m.\u001B[39m_private\u001B[38;5;241m.\u001B[39mparameter\u001B[38;5;241m.\u001B[39mRayParams(\n\u001B[0;32m   1481\u001B[0m         node_ip_address\u001B[38;5;241m=\u001B[39mnode_ip_address,\n\u001B[0;32m   1482\u001B[0m         raylet_ip_address\u001B[38;5;241m=\u001B[39mraylet_ip_address,\n\u001B[1;32m   (...)\u001B[0m\n\u001B[0;32m   1508\u001B[0m         node_name\u001B[38;5;241m=\u001B[39m_node_name,\n\u001B[0;32m   1509\u001B[0m     )\n\u001B[0;32m   1510\u001B[0m     \u001B[38;5;66;03m# Start the Ray processes. We set shutdown_at_exit=False because we\u001B[39;00m\n\u001B[0;32m   1511\u001B[0m     \u001B[38;5;66;03m# shutdown the node in the ray.shutdown call that happens in the atexit\u001B[39;00m\n\u001B[0;32m   1512\u001B[0m     \u001B[38;5;66;03m# handler. We still spawn a reaper process in case the atexit handler\u001B[39;00m\n\u001B[0;32m   1513\u001B[0m     \u001B[38;5;66;03m# isn't called.\u001B[39;00m\n\u001B[1;32m-> 1514\u001B[0m     _global_node \u001B[38;5;241m=\u001B[39m \u001B[43mray\u001B[49m\u001B[38;5;241;43m.\u001B[39;49m\u001B[43m_private\u001B[49m\u001B[38;5;241;43m.\u001B[39;49m\u001B[43mnode\u001B[49m\u001B[38;5;241;43m.\u001B[39;49m\u001B[43mNode\u001B[49m\u001B[43m(\u001B[49m\n\u001B[0;32m   1515\u001B[0m \u001B[43m        \u001B[49m\u001B[43mhead\u001B[49m\u001B[38;5;241;43m=\u001B[39;49m\u001B[38;5;28;43;01mTrue\u001B[39;49;00m\u001B[43m,\u001B[49m\n\u001B[0;32m   1516\u001B[0m \u001B[43m        \u001B[49m\u001B[43mshutdown_at_exit\u001B[49m\u001B[38;5;241;43m=\u001B[39;49m\u001B[38;5;28;43;01mFalse\u001B[39;49;00m\u001B[43m,\u001B[49m\n\u001B[0;32m   1517\u001B[0m \u001B[43m        \u001B[49m\u001B[43mspawn_reaper\u001B[49m\u001B[38;5;241;43m=\u001B[39;49m\u001B[38;5;28;43;01mTrue\u001B[39;49;00m\u001B[43m,\u001B[49m\n\u001B[0;32m   1518\u001B[0m \u001B[43m        \u001B[49m\u001B[43mray_params\u001B[49m\u001B[38;5;241;43m=\u001B[39;49m\u001B[43mray_params\u001B[49m\u001B[43m,\u001B[49m\n\u001B[0;32m   1519\u001B[0m \u001B[43m    \u001B[49m\u001B[43m)\u001B[49m\n\u001B[0;32m   1520\u001B[0m \u001B[38;5;28;01melse\u001B[39;00m:\n\u001B[0;32m   1521\u001B[0m     \u001B[38;5;66;03m# In this case, we are connecting to an existing cluster.\u001B[39;00m\n\u001B[0;32m   1522\u001B[0m     \u001B[38;5;28;01mif\u001B[39;00m num_cpus \u001B[38;5;129;01mis\u001B[39;00m \u001B[38;5;129;01mnot\u001B[39;00m \u001B[38;5;28;01mNone\u001B[39;00m \u001B[38;5;129;01mor\u001B[39;00m num_gpus \u001B[38;5;129;01mis\u001B[39;00m \u001B[38;5;129;01mnot\u001B[39;00m \u001B[38;5;28;01mNone\u001B[39;00m:\n",
      "File \u001B[1;32m~\\PycharmProjects\\MCS\\venv\\Lib\\site-packages\\ray\\_private\\node.py:290\u001B[0m, in \u001B[0;36mNode.__init__\u001B[1;34m(self, ray_params, head, shutdown_at_exit, spawn_reaper, connect_only, default_worker)\u001B[0m\n\u001B[0;32m    287\u001B[0m     \u001B[38;5;28mself\u001B[39m\u001B[38;5;241m.\u001B[39mstart_head_processes()\n\u001B[0;32m    289\u001B[0m \u001B[38;5;28;01mif\u001B[39;00m \u001B[38;5;129;01mnot\u001B[39;00m connect_only:\n\u001B[1;32m--> 290\u001B[0m     \u001B[38;5;28;43mself\u001B[39;49m\u001B[38;5;241;43m.\u001B[39;49m\u001B[43mstart_ray_processes\u001B[49m\u001B[43m(\u001B[49m\u001B[43m)\u001B[49m\n\u001B[0;32m    291\u001B[0m     \u001B[38;5;66;03m# we should update the address info after the node has been started\u001B[39;00m\n\u001B[0;32m    292\u001B[0m     \u001B[38;5;28;01mtry\u001B[39;00m:\n",
      "File \u001B[1;32m~\\PycharmProjects\\MCS\\venv\\Lib\\site-packages\\ray\\_private\\node.py:1214\u001B[0m, in \u001B[0;36mNode.start_ray_processes\u001B[1;34m(self)\u001B[0m\n\u001B[0;32m   1210\u001B[0m \u001B[38;5;28mself\u001B[39m\u001B[38;5;241m.\u001B[39mdestroy_external_storage()\n\u001B[0;32m   1212\u001B[0m \u001B[38;5;66;03m# Make sure we don't call `determine_plasma_store_config` multiple\u001B[39;00m\n\u001B[0;32m   1213\u001B[0m \u001B[38;5;66;03m# times to avoid printing multiple warnings.\u001B[39;00m\n\u001B[1;32m-> 1214\u001B[0m resource_spec \u001B[38;5;241m=\u001B[39m \u001B[38;5;28;43mself\u001B[39;49m\u001B[38;5;241;43m.\u001B[39;49m\u001B[43mget_resource_spec\u001B[49m\u001B[43m(\u001B[49m\u001B[43m)\u001B[49m\n\u001B[0;32m   1215\u001B[0m (\n\u001B[0;32m   1216\u001B[0m     plasma_directory,\n\u001B[0;32m   1217\u001B[0m     object_store_memory,\n\u001B[1;32m   (...)\u001B[0m\n\u001B[0;32m   1221\u001B[0m     huge_pages\u001B[38;5;241m=\u001B[39m\u001B[38;5;28mself\u001B[39m\u001B[38;5;241m.\u001B[39m_ray_params\u001B[38;5;241m.\u001B[39mhuge_pages,\n\u001B[0;32m   1222\u001B[0m )\n\u001B[0;32m   1223\u001B[0m \u001B[38;5;28mself\u001B[39m\u001B[38;5;241m.\u001B[39mstart_raylet(plasma_directory, object_store_memory)\n",
      "File \u001B[1;32m~\\PycharmProjects\\MCS\\venv\\Lib\\site-packages\\ray\\_private\\node.py:468\u001B[0m, in \u001B[0;36mNode.get_resource_spec\u001B[1;34m(self)\u001B[0m\n\u001B[0;32m    451\u001B[0m         logger\u001B[38;5;241m.\u001B[39mdebug(\u001B[38;5;124mf\u001B[39m\u001B[38;5;124m\"\u001B[39m\u001B[38;5;124mAutoscaler overriding resources: \u001B[39m\u001B[38;5;132;01m{\u001B[39;00menv_resources\u001B[38;5;132;01m}\u001B[39;00m\u001B[38;5;124m.\u001B[39m\u001B[38;5;124m\"\u001B[39m)\n\u001B[0;32m    452\u001B[0m     (\n\u001B[0;32m    453\u001B[0m         num_cpus,\n\u001B[0;32m    454\u001B[0m         num_gpus,\n\u001B[1;32m   (...)\u001B[0m\n\u001B[0;32m    457\u001B[0m         resources,\n\u001B[0;32m    458\u001B[0m     ) \u001B[38;5;241m=\u001B[39m merge_resources(env_resources, \u001B[38;5;28mself\u001B[39m\u001B[38;5;241m.\u001B[39m_ray_params\u001B[38;5;241m.\u001B[39mresources)\n\u001B[0;32m    459\u001B[0m     \u001B[38;5;28mself\u001B[39m\u001B[38;5;241m.\u001B[39m_resource_spec \u001B[38;5;241m=\u001B[39m \u001B[43mResourceSpec\u001B[49m\u001B[43m(\u001B[49m\n\u001B[0;32m    460\u001B[0m \u001B[43m        \u001B[49m\u001B[38;5;28;43mself\u001B[39;49m\u001B[38;5;241;43m.\u001B[39;49m\u001B[43m_ray_params\u001B[49m\u001B[38;5;241;43m.\u001B[39;49m\u001B[43mnum_cpus\u001B[49m\u001B[43m \u001B[49m\u001B[38;5;28;43;01mif\u001B[39;49;00m\u001B[43m \u001B[49m\u001B[43mnum_cpus\u001B[49m\u001B[43m \u001B[49m\u001B[38;5;129;43;01mis\u001B[39;49;00m\u001B[43m \u001B[49m\u001B[38;5;28;43;01mNone\u001B[39;49;00m\u001B[43m \u001B[49m\u001B[38;5;28;43;01melse\u001B[39;49;00m\u001B[43m \u001B[49m\u001B[43mnum_cpus\u001B[49m\u001B[43m,\u001B[49m\n\u001B[0;32m    461\u001B[0m \u001B[43m        \u001B[49m\u001B[38;5;28;43mself\u001B[39;49m\u001B[38;5;241;43m.\u001B[39;49m\u001B[43m_ray_params\u001B[49m\u001B[38;5;241;43m.\u001B[39;49m\u001B[43mnum_gpus\u001B[49m\u001B[43m \u001B[49m\u001B[38;5;28;43;01mif\u001B[39;49;00m\u001B[43m \u001B[49m\u001B[43mnum_gpus\u001B[49m\u001B[43m \u001B[49m\u001B[38;5;129;43;01mis\u001B[39;49;00m\u001B[43m \u001B[49m\u001B[38;5;28;43;01mNone\u001B[39;49;00m\u001B[43m \u001B[49m\u001B[38;5;28;43;01melse\u001B[39;49;00m\u001B[43m \u001B[49m\u001B[43mnum_gpus\u001B[49m\u001B[43m,\u001B[49m\n\u001B[0;32m    462\u001B[0m \u001B[43m        \u001B[49m\u001B[38;5;28;43mself\u001B[39;49m\u001B[38;5;241;43m.\u001B[39;49m\u001B[43m_ray_params\u001B[49m\u001B[38;5;241;43m.\u001B[39;49m\u001B[43mmemory\u001B[49m\u001B[43m \u001B[49m\u001B[38;5;28;43;01mif\u001B[39;49;00m\u001B[43m \u001B[49m\u001B[43mmemory\u001B[49m\u001B[43m \u001B[49m\u001B[38;5;129;43;01mis\u001B[39;49;00m\u001B[43m \u001B[49m\u001B[38;5;28;43;01mNone\u001B[39;49;00m\u001B[43m \u001B[49m\u001B[38;5;28;43;01melse\u001B[39;49;00m\u001B[43m \u001B[49m\u001B[43mmemory\u001B[49m\u001B[43m,\u001B[49m\n\u001B[0;32m    463\u001B[0m \u001B[43m        \u001B[49m\u001B[38;5;28;43mself\u001B[39;49m\u001B[38;5;241;43m.\u001B[39;49m\u001B[43m_ray_params\u001B[49m\u001B[38;5;241;43m.\u001B[39;49m\u001B[43mobject_store_memory\u001B[49m\n\u001B[0;32m    464\u001B[0m \u001B[43m        \u001B[49m\u001B[38;5;28;43;01mif\u001B[39;49;00m\u001B[43m \u001B[49m\u001B[43mobject_store_memory\u001B[49m\u001B[43m \u001B[49m\u001B[38;5;129;43;01mis\u001B[39;49;00m\u001B[43m \u001B[49m\u001B[38;5;28;43;01mNone\u001B[39;49;00m\n\u001B[0;32m    465\u001B[0m \u001B[43m        \u001B[49m\u001B[38;5;28;43;01melse\u001B[39;49;00m\u001B[43m \u001B[49m\u001B[43mobject_store_memory\u001B[49m\u001B[43m,\u001B[49m\n\u001B[0;32m    466\u001B[0m \u001B[43m        \u001B[49m\u001B[43mresources\u001B[49m\u001B[43m,\u001B[49m\n\u001B[0;32m    467\u001B[0m \u001B[43m        \u001B[49m\u001B[38;5;28;43mself\u001B[39;49m\u001B[38;5;241;43m.\u001B[39;49m\u001B[43m_ray_params\u001B[49m\u001B[38;5;241;43m.\u001B[39;49m\u001B[43mredis_max_memory\u001B[49m\u001B[43m,\u001B[49m\n\u001B[1;32m--> 468\u001B[0m \u001B[43m    \u001B[49m\u001B[43m)\u001B[49m\u001B[38;5;241;43m.\u001B[39;49m\u001B[43mresolve\u001B[49m\u001B[43m(\u001B[49m\u001B[43mis_head\u001B[49m\u001B[38;5;241;43m=\u001B[39;49m\u001B[38;5;28;43mself\u001B[39;49m\u001B[38;5;241;43m.\u001B[39;49m\u001B[43mhead\u001B[49m\u001B[43m,\u001B[49m\u001B[43m \u001B[49m\u001B[43mnode_ip_address\u001B[49m\u001B[38;5;241;43m=\u001B[39;49m\u001B[38;5;28;43mself\u001B[39;49m\u001B[38;5;241;43m.\u001B[39;49m\u001B[43mnode_ip_address\u001B[49m\u001B[43m)\u001B[49m\n\u001B[0;32m    469\u001B[0m \u001B[38;5;28;01mreturn\u001B[39;00m \u001B[38;5;28mself\u001B[39m\u001B[38;5;241m.\u001B[39m_resource_spec\n",
      "File \u001B[1;32m~\\PycharmProjects\\MCS\\venv\\Lib\\site-packages\\ray\\_private\\resource_spec.py:186\u001B[0m, in \u001B[0;36mResourceSpec.resolve\u001B[1;34m(self, is_head, node_ip_address)\u001B[0m\n\u001B[0;32m    180\u001B[0m     \u001B[38;5;28;01mraise\u001B[39;00m \u001B[38;5;167;01mValueError\u001B[39;00m(\n\u001B[0;32m    181\u001B[0m         \u001B[38;5;124m\"\u001B[39m\u001B[38;5;124mAttempting to start raylet with \u001B[39m\u001B[38;5;132;01m{}\u001B[39;00m\u001B[38;5;124m GPUs, \u001B[39m\u001B[38;5;124m\"\u001B[39m\n\u001B[0;32m    182\u001B[0m         \u001B[38;5;124m\"\u001B[39m\u001B[38;5;124mbut CUDA_VISIBLE_DEVICES contains \u001B[39m\u001B[38;5;132;01m{}\u001B[39;00m\u001B[38;5;124m.\u001B[39m\u001B[38;5;124m\"\u001B[39m\u001B[38;5;241m.\u001B[39mformat(num_gpus, gpu_ids)\n\u001B[0;32m    183\u001B[0m     )\n\u001B[0;32m    184\u001B[0m \u001B[38;5;28;01mif\u001B[39;00m num_gpus \u001B[38;5;129;01mis\u001B[39;00m \u001B[38;5;28;01mNone\u001B[39;00m:\n\u001B[0;32m    185\u001B[0m     \u001B[38;5;66;03m# Try to automatically detect the number of GPUs.\u001B[39;00m\n\u001B[1;32m--> 186\u001B[0m     num_gpus \u001B[38;5;241m=\u001B[39m \u001B[43m_autodetect_num_gpus\u001B[49m\u001B[43m(\u001B[49m\u001B[43m)\u001B[49m\n\u001B[0;32m    187\u001B[0m     \u001B[38;5;66;03m# Don't use more GPUs than allowed by CUDA_VISIBLE_DEVICES.\u001B[39;00m\n\u001B[0;32m    188\u001B[0m     \u001B[38;5;28;01mif\u001B[39;00m gpu_ids \u001B[38;5;129;01mis\u001B[39;00m \u001B[38;5;129;01mnot\u001B[39;00m \u001B[38;5;28;01mNone\u001B[39;00m:\n",
      "File \u001B[1;32m~\\PycharmProjects\\MCS\\venv\\Lib\\site-packages\\ray\\_private\\resource_spec.py:298\u001B[0m, in \u001B[0;36m_autodetect_num_gpus\u001B[1;34m()\u001B[0m\n\u001B[0;32m    296\u001B[0m     props \u001B[38;5;241m=\u001B[39m \u001B[38;5;124m\"\u001B[39m\u001B[38;5;124mAdapterCompatibility\u001B[39m\u001B[38;5;124m\"\u001B[39m\n\u001B[0;32m    297\u001B[0m     cmdargs \u001B[38;5;241m=\u001B[39m [\u001B[38;5;124m\"\u001B[39m\u001B[38;5;124mWMIC\u001B[39m\u001B[38;5;124m\"\u001B[39m, \u001B[38;5;124m\"\u001B[39m\u001B[38;5;124mPATH\u001B[39m\u001B[38;5;124m\"\u001B[39m, \u001B[38;5;124m\"\u001B[39m\u001B[38;5;124mWin32_VideoController\u001B[39m\u001B[38;5;124m\"\u001B[39m, \u001B[38;5;124m\"\u001B[39m\u001B[38;5;124mGET\u001B[39m\u001B[38;5;124m\"\u001B[39m, props]\n\u001B[1;32m--> 298\u001B[0m     lines \u001B[38;5;241m=\u001B[39m \u001B[43msubprocess\u001B[49m\u001B[38;5;241;43m.\u001B[39;49m\u001B[43mcheck_output\u001B[49m\u001B[43m(\u001B[49m\u001B[43mcmdargs\u001B[49m\u001B[43m)\u001B[49m\u001B[38;5;241m.\u001B[39msplitlines()[\u001B[38;5;241m1\u001B[39m:]\n\u001B[0;32m    299\u001B[0m     result \u001B[38;5;241m=\u001B[39m \u001B[38;5;28mlen\u001B[39m([x\u001B[38;5;241m.\u001B[39mrstrip() \u001B[38;5;28;01mfor\u001B[39;00m x \u001B[38;5;129;01min\u001B[39;00m lines \u001B[38;5;28;01mif\u001B[39;00m x\u001B[38;5;241m.\u001B[39mstartswith(\u001B[38;5;124mb\u001B[39m\u001B[38;5;124m\"\u001B[39m\u001B[38;5;124mNVIDIA\u001B[39m\u001B[38;5;124m\"\u001B[39m)])\n\u001B[0;32m    300\u001B[0m \u001B[38;5;28;01mreturn\u001B[39;00m result\n",
      "File \u001B[1;32mD:\\Python\\Lib\\subprocess.py:466\u001B[0m, in \u001B[0;36mcheck_output\u001B[1;34m(timeout, *popenargs, **kwargs)\u001B[0m\n\u001B[0;32m    463\u001B[0m         empty \u001B[38;5;241m=\u001B[39m \u001B[38;5;124mb\u001B[39m\u001B[38;5;124m'\u001B[39m\u001B[38;5;124m'\u001B[39m\n\u001B[0;32m    464\u001B[0m     kwargs[\u001B[38;5;124m'\u001B[39m\u001B[38;5;124minput\u001B[39m\u001B[38;5;124m'\u001B[39m] \u001B[38;5;241m=\u001B[39m empty\n\u001B[1;32m--> 466\u001B[0m \u001B[38;5;28;01mreturn\u001B[39;00m \u001B[43mrun\u001B[49m\u001B[43m(\u001B[49m\u001B[38;5;241;43m*\u001B[39;49m\u001B[43mpopenargs\u001B[49m\u001B[43m,\u001B[49m\u001B[43m \u001B[49m\u001B[43mstdout\u001B[49m\u001B[38;5;241;43m=\u001B[39;49m\u001B[43mPIPE\u001B[49m\u001B[43m,\u001B[49m\u001B[43m \u001B[49m\u001B[43mtimeout\u001B[49m\u001B[38;5;241;43m=\u001B[39;49m\u001B[43mtimeout\u001B[49m\u001B[43m,\u001B[49m\u001B[43m \u001B[49m\u001B[43mcheck\u001B[49m\u001B[38;5;241;43m=\u001B[39;49m\u001B[38;5;28;43;01mTrue\u001B[39;49;00m\u001B[43m,\u001B[49m\n\u001B[0;32m    467\u001B[0m \u001B[43m           \u001B[49m\u001B[38;5;241;43m*\u001B[39;49m\u001B[38;5;241;43m*\u001B[39;49m\u001B[43mkwargs\u001B[49m\u001B[43m)\u001B[49m\u001B[38;5;241m.\u001B[39mstdout\n",
      "File \u001B[1;32mD:\\Python\\Lib\\subprocess.py:548\u001B[0m, in \u001B[0;36mrun\u001B[1;34m(input, capture_output, timeout, check, *popenargs, **kwargs)\u001B[0m\n\u001B[0;32m    545\u001B[0m     kwargs[\u001B[38;5;124m'\u001B[39m\u001B[38;5;124mstdout\u001B[39m\u001B[38;5;124m'\u001B[39m] \u001B[38;5;241m=\u001B[39m PIPE\n\u001B[0;32m    546\u001B[0m     kwargs[\u001B[38;5;124m'\u001B[39m\u001B[38;5;124mstderr\u001B[39m\u001B[38;5;124m'\u001B[39m] \u001B[38;5;241m=\u001B[39m PIPE\n\u001B[1;32m--> 548\u001B[0m \u001B[38;5;28;01mwith\u001B[39;00m \u001B[43mPopen\u001B[49m\u001B[43m(\u001B[49m\u001B[38;5;241;43m*\u001B[39;49m\u001B[43mpopenargs\u001B[49m\u001B[43m,\u001B[49m\u001B[43m \u001B[49m\u001B[38;5;241;43m*\u001B[39;49m\u001B[38;5;241;43m*\u001B[39;49m\u001B[43mkwargs\u001B[49m\u001B[43m)\u001B[49m \u001B[38;5;28;01mas\u001B[39;00m process:\n\u001B[0;32m    549\u001B[0m     \u001B[38;5;28;01mtry\u001B[39;00m:\n\u001B[0;32m    550\u001B[0m         stdout, stderr \u001B[38;5;241m=\u001B[39m process\u001B[38;5;241m.\u001B[39mcommunicate(\u001B[38;5;28minput\u001B[39m, timeout\u001B[38;5;241m=\u001B[39mtimeout)\n",
      "File \u001B[1;32mD:\\Python\\Lib\\subprocess.py:1026\u001B[0m, in \u001B[0;36mPopen.__init__\u001B[1;34m(self, args, bufsize, executable, stdin, stdout, stderr, preexec_fn, close_fds, shell, cwd, env, universal_newlines, startupinfo, creationflags, restore_signals, start_new_session, pass_fds, user, group, extra_groups, encoding, errors, text, umask, pipesize, process_group)\u001B[0m\n\u001B[0;32m   1022\u001B[0m         \u001B[38;5;28;01mif\u001B[39;00m \u001B[38;5;28mself\u001B[39m\u001B[38;5;241m.\u001B[39mtext_mode:\n\u001B[0;32m   1023\u001B[0m             \u001B[38;5;28mself\u001B[39m\u001B[38;5;241m.\u001B[39mstderr \u001B[38;5;241m=\u001B[39m io\u001B[38;5;241m.\u001B[39mTextIOWrapper(\u001B[38;5;28mself\u001B[39m\u001B[38;5;241m.\u001B[39mstderr,\n\u001B[0;32m   1024\u001B[0m                     encoding\u001B[38;5;241m=\u001B[39mencoding, errors\u001B[38;5;241m=\u001B[39merrors)\n\u001B[1;32m-> 1026\u001B[0m     \u001B[38;5;28;43mself\u001B[39;49m\u001B[38;5;241;43m.\u001B[39;49m\u001B[43m_execute_child\u001B[49m\u001B[43m(\u001B[49m\u001B[43margs\u001B[49m\u001B[43m,\u001B[49m\u001B[43m \u001B[49m\u001B[43mexecutable\u001B[49m\u001B[43m,\u001B[49m\u001B[43m \u001B[49m\u001B[43mpreexec_fn\u001B[49m\u001B[43m,\u001B[49m\u001B[43m \u001B[49m\u001B[43mclose_fds\u001B[49m\u001B[43m,\u001B[49m\n\u001B[0;32m   1027\u001B[0m \u001B[43m                        \u001B[49m\u001B[43mpass_fds\u001B[49m\u001B[43m,\u001B[49m\u001B[43m \u001B[49m\u001B[43mcwd\u001B[49m\u001B[43m,\u001B[49m\u001B[43m \u001B[49m\u001B[43menv\u001B[49m\u001B[43m,\u001B[49m\n\u001B[0;32m   1028\u001B[0m \u001B[43m                        \u001B[49m\u001B[43mstartupinfo\u001B[49m\u001B[43m,\u001B[49m\u001B[43m \u001B[49m\u001B[43mcreationflags\u001B[49m\u001B[43m,\u001B[49m\u001B[43m \u001B[49m\u001B[43mshell\u001B[49m\u001B[43m,\u001B[49m\n\u001B[0;32m   1029\u001B[0m \u001B[43m                        \u001B[49m\u001B[43mp2cread\u001B[49m\u001B[43m,\u001B[49m\u001B[43m \u001B[49m\u001B[43mp2cwrite\u001B[49m\u001B[43m,\u001B[49m\n\u001B[0;32m   1030\u001B[0m \u001B[43m                        \u001B[49m\u001B[43mc2pread\u001B[49m\u001B[43m,\u001B[49m\u001B[43m \u001B[49m\u001B[43mc2pwrite\u001B[49m\u001B[43m,\u001B[49m\n\u001B[0;32m   1031\u001B[0m \u001B[43m                        \u001B[49m\u001B[43merrread\u001B[49m\u001B[43m,\u001B[49m\u001B[43m \u001B[49m\u001B[43merrwrite\u001B[49m\u001B[43m,\u001B[49m\n\u001B[0;32m   1032\u001B[0m \u001B[43m                        \u001B[49m\u001B[43mrestore_signals\u001B[49m\u001B[43m,\u001B[49m\n\u001B[0;32m   1033\u001B[0m \u001B[43m                        \u001B[49m\u001B[43mgid\u001B[49m\u001B[43m,\u001B[49m\u001B[43m \u001B[49m\u001B[43mgids\u001B[49m\u001B[43m,\u001B[49m\u001B[43m \u001B[49m\u001B[43muid\u001B[49m\u001B[43m,\u001B[49m\u001B[43m \u001B[49m\u001B[43mumask\u001B[49m\u001B[43m,\u001B[49m\n\u001B[0;32m   1034\u001B[0m \u001B[43m                        \u001B[49m\u001B[43mstart_new_session\u001B[49m\u001B[43m,\u001B[49m\u001B[43m \u001B[49m\u001B[43mprocess_group\u001B[49m\u001B[43m)\u001B[49m\n\u001B[0;32m   1035\u001B[0m \u001B[38;5;28;01mexcept\u001B[39;00m:\n\u001B[0;32m   1036\u001B[0m     \u001B[38;5;66;03m# Cleanup if the child failed starting.\u001B[39;00m\n\u001B[0;32m   1037\u001B[0m     \u001B[38;5;28;01mfor\u001B[39;00m f \u001B[38;5;129;01min\u001B[39;00m \u001B[38;5;28mfilter\u001B[39m(\u001B[38;5;28;01mNone\u001B[39;00m, (\u001B[38;5;28mself\u001B[39m\u001B[38;5;241m.\u001B[39mstdin, \u001B[38;5;28mself\u001B[39m\u001B[38;5;241m.\u001B[39mstdout, \u001B[38;5;28mself\u001B[39m\u001B[38;5;241m.\u001B[39mstderr)):\n",
      "File \u001B[1;32mD:\\Python\\Lib\\subprocess.py:1538\u001B[0m, in \u001B[0;36mPopen._execute_child\u001B[1;34m(self, args, executable, preexec_fn, close_fds, pass_fds, cwd, env, startupinfo, creationflags, shell, p2cread, p2cwrite, c2pread, c2pwrite, errread, errwrite, unused_restore_signals, unused_gid, unused_gids, unused_uid, unused_umask, unused_start_new_session, unused_process_group)\u001B[0m\n\u001B[0;32m   1536\u001B[0m \u001B[38;5;66;03m# Start the process\u001B[39;00m\n\u001B[0;32m   1537\u001B[0m \u001B[38;5;28;01mtry\u001B[39;00m:\n\u001B[1;32m-> 1538\u001B[0m     hp, ht, pid, tid \u001B[38;5;241m=\u001B[39m _winapi\u001B[38;5;241m.\u001B[39mCreateProcess(executable, args,\n\u001B[0;32m   1539\u001B[0m                              \u001B[38;5;66;03m# no special security\u001B[39;00m\n\u001B[0;32m   1540\u001B[0m                              \u001B[38;5;28;01mNone\u001B[39;00m, \u001B[38;5;28;01mNone\u001B[39;00m,\n\u001B[0;32m   1541\u001B[0m                              \u001B[38;5;28mint\u001B[39m(\u001B[38;5;129;01mnot\u001B[39;00m close_fds),\n\u001B[0;32m   1542\u001B[0m                              creationflags,\n\u001B[0;32m   1543\u001B[0m                              env,\n\u001B[0;32m   1544\u001B[0m                              cwd,\n\u001B[0;32m   1545\u001B[0m                              startupinfo)\n\u001B[0;32m   1546\u001B[0m \u001B[38;5;28;01mfinally\u001B[39;00m:\n\u001B[0;32m   1547\u001B[0m     \u001B[38;5;66;03m# Child is launched. Close the parent's copy of those pipe\u001B[39;00m\n\u001B[0;32m   1548\u001B[0m     \u001B[38;5;66;03m# handles that only the child should have open.  You need\u001B[39;00m\n\u001B[1;32m   (...)\u001B[0m\n\u001B[0;32m   1551\u001B[0m     \u001B[38;5;66;03m# pipe will not close when the child process exits and the\u001B[39;00m\n\u001B[0;32m   1552\u001B[0m     \u001B[38;5;66;03m# ReadFile will hang.\u001B[39;00m\n\u001B[0;32m   1553\u001B[0m     \u001B[38;5;28mself\u001B[39m\u001B[38;5;241m.\u001B[39m_close_pipe_fds(p2cread, p2cwrite,\n\u001B[0;32m   1554\u001B[0m                          c2pread, c2pwrite,\n\u001B[0;32m   1555\u001B[0m                          errread, errwrite)\n",
      "\u001B[1;31mFileNotFoundError\u001B[0m: [WinError 2] 系统找不到指定的文件。"
     ]
    }
   ],
   "source": [
    "model = LogisticRegression()\n",
    "params_initialize(model)\n",
    "\n",
    "strategy = fl.server.strategy.FedAvg(\n",
    "    fraction_fit=1.0,\n",
    "    fraction_evaluate=1.0,\n",
    "    min_fit_clients=NUM_CLIENTS,\n",
    "    min_evaluate_clients=NUM_CLIENTS,\n",
    "    min_available_clients=NUM_CLIENTS,\n",
    "    evaluate_fn=get_evaluate_fn(model),\n",
    "    on_fit_config_fn=fit_round,\n",
    ")\n",
    "\n",
    "fl.common.logger.configure(identifier=\"FL_Model\", filename=\"../Testing/log.txt\")\n",
    "\n",
    "fl.simulation.start_simulation(\n",
    "    client_fn=client_fn,\n",
    "    num_clients=NUM_CLIENTS,\n",
    "    config=fl.server.ServerConfig(num_rounds=ROUNDS),\n",
    "    strategy=strategy,\n",
    ")"
   ],
   "metadata": {
    "collapsed": false,
    "ExecuteTime": {
     "end_time": "2023-11-07T20:49:27.672874800Z",
     "start_time": "2023-11-07T20:49:24.610875500Z"
    }
   },
   "id": "dbc22abcf83a13cc"
  },
  {
   "cell_type": "code",
   "execution_count": null,
   "outputs": [],
   "source": [
    "#!pip install -U flwr[simulation]\n",
    "#!pip install ray\n",
    "#!pip install numpy"
   ],
   "metadata": {
    "collapsed": false,
    "ExecuteTime": {
     "end_time": "2023-11-07T20:49:27.681016400Z",
     "start_time": "2023-11-07T20:49:27.672874800Z"
    }
   },
   "id": "bca13f6e5c414119"
  },
  {
   "cell_type": "code",
   "execution_count": null,
   "outputs": [],
   "source": [
    "# Create RandomForestClassifier model\n",
    "# model = RandomForestClassifier(\n",
    "#     class_weight='balanced',\n",
    "#     warm_start=True,\n",
    "# )"
   ],
   "metadata": {
    "collapsed": false,
    "ExecuteTime": {
     "start_time": "2023-11-07T20:49:27.674892600Z"
    }
   },
   "id": "671ad66ce8712aaa"
  },
  {
   "cell_type": "code",
   "execution_count": null,
   "outputs": [],
   "source": [],
   "metadata": {
    "collapsed": false,
    "ExecuteTime": {
     "start_time": "2023-11-07T20:49:27.676897800Z"
    }
   },
   "id": "4e50ee57d0c4a496"
  }
 ],
 "metadata": {
  "kernelspec": {
   "display_name": "Python 3",
   "language": "python",
   "name": "python3"
  },
  "language_info": {
   "codemirror_mode": {
    "name": "ipython",
    "version": 2
   },
   "file_extension": ".py",
   "mimetype": "text/x-python",
   "name": "python",
   "nbconvert_exporter": "python",
   "pygments_lexer": "ipython2",
   "version": "2.7.6"
  }
 },
 "nbformat": 4,
 "nbformat_minor": 5
}
